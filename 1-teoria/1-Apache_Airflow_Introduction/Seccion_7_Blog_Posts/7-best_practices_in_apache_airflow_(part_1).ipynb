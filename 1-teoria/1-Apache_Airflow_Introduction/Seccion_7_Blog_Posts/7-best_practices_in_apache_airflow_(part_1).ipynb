{
 "cells": [
  {
   "cell_type": "markdown",
   "metadata": {},
   "source": [
    "### **7.7 - Best Practices in Apache Airflow (part 1)**"
   ]
  },
  {
   "cell_type": "markdown",
   "metadata": {},
   "source": [
    "https://marclamberti.com/blog/apache-airflow-best-practices-1/"
   ]
  }
 ],
 "metadata": {
  "language_info": {
   "name": "python"
  }
 },
 "nbformat": 4,
 "nbformat_minor": 2
}
