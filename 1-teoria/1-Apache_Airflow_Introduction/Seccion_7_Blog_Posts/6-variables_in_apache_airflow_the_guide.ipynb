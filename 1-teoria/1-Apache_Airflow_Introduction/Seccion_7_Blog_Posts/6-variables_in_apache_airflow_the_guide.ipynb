{
 "cells": [
  {
   "cell_type": "markdown",
   "metadata": {},
   "source": [
    "### **7.6 - Variables in Apache Airflow: The Guide**"
   ]
  },
  {
   "cell_type": "markdown",
   "metadata": {},
   "source": [
    "https://marclamberti.com/blog/variables-with-apache-airflow/"
   ]
  }
 ],
 "metadata": {
  "language_info": {
   "name": "python"
  }
 },
 "nbformat": 4,
 "nbformat_minor": 2
}
