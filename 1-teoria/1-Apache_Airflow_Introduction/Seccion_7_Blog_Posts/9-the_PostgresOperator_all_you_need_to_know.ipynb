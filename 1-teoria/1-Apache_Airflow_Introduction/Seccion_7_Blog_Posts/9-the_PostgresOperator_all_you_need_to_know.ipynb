{
 "cells": [
  {
   "cell_type": "markdown",
   "metadata": {},
   "source": [
    "### **7.9 - The PostgresOperator: All you need to know**"
   ]
  },
  {
   "cell_type": "markdown",
   "metadata": {},
   "source": [
    "https://marclamberti.com/blog/the-postgresoperator-all-you-need-to-know/"
   ]
  },
  {
   "cell_type": "markdown",
   "metadata": {},
   "source": [
    "Cupon Descuento: COMMUNITY-9"
   ]
  }
 ],
 "metadata": {
  "language_info": {
   "name": "python"
  }
 },
 "nbformat": 4,
 "nbformat_minor": 2
}
