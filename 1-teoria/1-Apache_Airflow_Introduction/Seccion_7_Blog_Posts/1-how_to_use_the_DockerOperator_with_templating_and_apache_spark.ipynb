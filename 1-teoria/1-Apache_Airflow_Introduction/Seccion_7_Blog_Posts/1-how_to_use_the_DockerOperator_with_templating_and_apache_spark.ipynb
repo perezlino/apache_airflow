{
 "cells": [
  {
   "cell_type": "markdown",
   "metadata": {},
   "source": [
    "### **7.1 - How to use the DockerOperator with Templating and Apache Spark**"
   ]
  },
  {
   "cell_type": "markdown",
   "metadata": {},
   "source": [
    "https://marclamberti.com/blog/how-to-use-dockeroperator-apache-airflow/"
   ]
  }
 ],
 "metadata": {
  "language_info": {
   "name": "python"
  }
 },
 "nbformat": 4,
 "nbformat_minor": 2
}
