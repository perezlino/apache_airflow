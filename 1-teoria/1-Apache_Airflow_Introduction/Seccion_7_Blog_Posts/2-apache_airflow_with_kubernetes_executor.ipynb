{
 "cells": [
  {
   "cell_type": "markdown",
   "metadata": {},
   "source": [
    "### **7.2 - Apache Airflow with Kubernetes Executor**"
   ]
  },
  {
   "cell_type": "markdown",
   "metadata": {},
   "source": [
    "https://marclamberti.com/blog/airflow-kubernetes-executor/"
   ]
  }
 ],
 "metadata": {
  "language_info": {
   "name": "python"
  }
 },
 "nbformat": 4,
 "nbformat_minor": 2
}
