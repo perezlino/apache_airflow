{
 "cells": [
  {
   "cell_type": "markdown",
   "metadata": {},
   "source": [
    "### **5.14 - Resumen**"
   ]
  },
  {
   "cell_type": "markdown",
   "metadata": {},
   "source": [
    "<center><img src=\"https://i.postimg.cc/y8FD4QrD/a502.png\"></center>\n",
    "<center><img src=\"https://i.postimg.cc/FKN79y2D/a503.png\"></center>\n",
    "<center><img src=\"https://i.postimg.cc/SKdjjX4q/a504.png\"></center>"
   ]
  }
 ],
 "metadata": {
  "language_info": {
   "name": "python"
  }
 },
 "nbformat": 4,
 "nbformat_minor": 2
}
