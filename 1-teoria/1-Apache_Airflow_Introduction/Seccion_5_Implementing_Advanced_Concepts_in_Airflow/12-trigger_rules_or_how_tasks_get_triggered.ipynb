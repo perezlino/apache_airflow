{
 "cells": [
  {
   "cell_type": "markdown",
   "metadata": {},
   "source": [
    "### **5.13 - Trigger rules or how tasks get triggered**"
   ]
  },
  {
   "cell_type": "markdown",
   "metadata": {},
   "source": [
    "Supongamos que quieres cambiar la forma en que se dispara una tarea. Por ejemplo, con el siguiente data pipeline, tiene tres tareas \"Downloading file A\", \"Downloading file B\" y \"Downloading file C\", y puede querer ejecutar \"Success\" si todas ellas tienen éxito, o puede querer ejecutar \"Alerting\" si todas fallan.\n",
    "\n",
    "<center><img src=\"https://i.postimg.cc/xC9H4Dfj/a487.png\"></center>\n",
    "\n",
    "#### **`all_success`**\n",
    "\n",
    "¿Cómo hacerlo? Utilizando \"Trigger rules\". Básicamente, su trigger rule define el motivo por el que se activa (triggered) su tarea y tiene diez trigger rules diferentes que puede utilizar. Por defecto, todas tienen la misma trigger rule, que es \"all_success\". Por ejemplo, usted tiene task A y task B que son upstream para task C. Si todas ellas tienen éxito, entonces la task C se dispara (triggered).\n",
    "\n",
    "<center><img src=\"https://i.postimg.cc/gJ4R9SjV/a488.png\"></center>\n",
    "\n",
    "Mientras que si task A falla, entonces task C tiene el state upstream failed.\n",
    "\n",
    "<center><img src=\"https://i.postimg.cc/cCH3dRtV/a489.png\"></center>\n",
    "\n",
    "___"
   ]
  },
  {
   "cell_type": "markdown",
   "metadata": {},
   "source": [
    "#### **`all_failed`**\n",
    "\n",
    "A continuación, \"all_failed\" con la que, si todas las tareas upstream fallan, entonces se dispara task C.\n",
    "\n",
    "<center><img src=\"https://i.postimg.cc/tJMxJsh7/a490.png\"></center>\n",
    "\n",
    "Pero si una de ellas tiene éxito, entonces task C se salta.\n",
    "\n",
    "<center><img src=\"https://i.postimg.cc/658ZShXZ/a491.png\"></center>\n",
    "\n",
    "___"
   ]
  },
  {
   "cell_type": "markdown",
   "metadata": {},
   "source": [
    "#### **`all_done`**\n",
    "\n",
    "Para \"all_done\", ahora sólo quiere ejecutar su tarea independientemente del estado de las tareas anteriores. Así que si task A y task B fallan, entonces task C se dispara. \n",
    "\n",
    "<center><img src=\"https://i.postimg.cc/KvCTygGH/a492.png\"></center>\n",
    "\n",
    "Lo mismo si todas tienen éxito o si una de ellas tiene éxito, no te importa. Siempre se ejecutará la tarea, task C con \"all_done\".\n",
    "\n",
    "<center><img src=\"https://i.postimg.cc/dVdyQtDt/a493.png\"></center>\n",
    "\n",
    "___"
   ]
  },
  {
   "cell_type": "markdown",
   "metadata": {},
   "source": [
    "#### **`one_success`**\n",
    "\n",
    "Y si quieres ejecutar la tarea tan pronto como una de las tareas anteriores (upstream) tenga éxito, entonces en este caso puedes usar \"one_success\". Si task A tiene éxito pero task B aún no se ha disparado, task C se dispara de inmediato sin esperar a task B.\n",
    "\n",
    "<center><img src=\"https://i.postimg.cc/hGB7XW78/a494.png\"></center>\n",
    "\n",
    "___"
   ]
  },
  {
   "cell_type": "markdown",
   "metadata": {},
   "source": [
    "#### **`one_failed`**\n",
    "\n",
    "Para \"one_failed\", que es lo contrario. Tan pronto como una de las tareas ascendentes (anteriores, upstream) falle, entonces task C se dispara de inmediato.\n",
    "\n",
    "<center><img src=\"https://i.postimg.cc/s24GS6pk/a495.png\"></center>\n",
    "\n",
    "___"
   ]
  },
  {
   "cell_type": "markdown",
   "metadata": {},
   "source": [
    "#### **`none_failed`**\n",
    "\n",
    "A continuación, con \"none_failed\", si todas las tareas anteriores (ascendentes, upstream) han tenido éxito o han sido omitidas, entonces se activa task C.\n",
    "\n",
    "<center><img src=\"https://i.postimg.cc/nzdsSXST/a496.png\"></center>\n",
    "\n",
    "<center><img src=\"https://i.postimg.cc/fLWtvcCJ/a497.png\"></center>\n",
    "\n",
    "___"
   ]
  },
  {
   "cell_type": "markdown",
   "metadata": {},
   "source": [
    "#### **`none_failed_min_one_success`**\n",
    "\n",
    "Con \"non_failed_min_one_success\", este es muy útil porque si una de las tareas ha tenido éxito y las otras han sido saltadas, entonces task C se dispara.\n",
    "\n",
    "<center><img src=\"https://i.postimg.cc/x8hXYW2z/a498.png\"></center>\n",
    "\n",
    "Y este es bastante útil para el caso de uso que teníamos anteriormente con el BranchPythonOperator.\n",
    "\n",
    "Por último, ¿qué pasa con nuestro data pipeline? ¿Qué deberías poner para las trigger rules \"Success\" y \"Alerting\"? Bueno, si quieres ejecutar \"Success\", si todas las tareas upstream (ascendentes, anteriores) han tenido éxito, puedes mantener la trigger rule por defecto \"all_success\". Pero para \"Alerting\" si quieres ejecutarlo, tan pronto como una de las tareas upstream haya fallado, entonces puedes usar \"one_failed\". Y al hacer esto, si \"Downloading File B\" falla, entonces \"Alerting\" se dispara de inmediato y \"Success\" tiene el estado \"upstream_failed\". Así que como puedes ver con las trigger rules, eres capaz de modificar la forma en que se activan tus tareas.\n",
    "Y esto es extremadamente poderoso.\n",
    "\n",
    "<center><img src=\"https://i.postimg.cc/HWhcQ7yk/a499.png\"></center>\n",
    "\n",
    "___"
   ]
  }
 ],
 "metadata": {
  "language_info": {
   "name": "python"
  }
 },
 "nbformat": 4,
 "nbformat_minor": 2
}
