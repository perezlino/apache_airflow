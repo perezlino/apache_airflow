{
 "cells": [
  {
   "cell_type": "markdown",
   "metadata": {},
   "source": [
    "### **5.10 - Choosing a specific path in your DAG**"
   ]
  },
  {
   "cell_type": "markdown",
   "metadata": {},
   "source": [
    "Un caso de uso muy común en Airflow es elegir una tarea u otra según una condición. Y para eso tienes los Branch Operators. Así que imaginemos que tienes el siguiente data pipeline con una \"Branch Task\". En esta tarea, tienes una condición y en base a la salida de esa condición, devuelves un task ID o una orden que corresponde a la siguiente tarea a ejecutar. Así, por ejemplo, puedes tener una condición que devuelva true, y si es el caso, entonces quieres ejecutar la \"Task A\", por lo que la \"Branch Task\" devuelve el task ID, la \"Task A\", y si esa condición devuelve false, entonces quieres ejecutar la \"Task C\", por lo que la \"Branch Task\" devuelve el task ID, la \"Task C\". Así es como funciona y así es como puedes elegir una tarea u otra. Recuerda que tienes un Branch Operator.\n",
    "\n",
    "<center><img src=\"https://i.postimg.cc/k5KFHvWs/a476.png\"></center>\n",
    "\n",
    "El Branch Operator tiene una condición basada en la salida de esa condición. Devuelve un task ID u otro. Veamos cómo funciona."
   ]
  }
 ],
 "metadata": {
  "language_info": {
   "name": "python"
  }
 },
 "nbformat": 4,
 "nbformat_minor": 2
}
