{
 "cells": [
  {
   "cell_type": "markdown",
   "metadata": {},
   "source": [
    "### **5.6 - [Tarea] Group tasks with TaskGroups!**"
   ]
  },
  {
   "cell_type": "markdown",
   "metadata": {},
   "source": [
    "¡En esta actividad, agruparás las tareas transforms con un TaskGroup!\n",
    "\n",
    "<center><img src=\"https://i.postimg.cc/ncGyyqGH/a445.png\"></center>\n",
    "<center><img src=\"https://i.postimg.cc/JzT9nmFv/a446.png\"></center>\n",
    "<center><img src=\"https://i.postimg.cc/pLVwRysK/a447.png\"></center>\n",
    "<center><img src=\"https://i.postimg.cc/fbJ1SpnL/a448.png\"></center>\n",
    "<center><img src=\"https://i.postimg.cc/wBZZX2gk/a449.png\"></center>"
   ]
  }
 ],
 "metadata": {
  "language_info": {
   "name": "python"
  }
 },
 "nbformat": 4,
 "nbformat_minor": 2
}
