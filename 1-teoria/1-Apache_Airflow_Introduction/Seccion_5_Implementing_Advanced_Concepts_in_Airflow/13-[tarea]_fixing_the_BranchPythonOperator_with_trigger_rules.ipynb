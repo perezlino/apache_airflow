{
 "cells": [
  {
   "cell_type": "markdown",
   "metadata": {},
   "source": [
    "### **5.13 - [Tarea] Fixing the BranchPythonOperator with trigger rules**"
   ]
  },
  {
   "cell_type": "markdown",
   "metadata": {},
   "source": [
    "En esta actividad, arreglarás el \"problema\" de BranchPythonOperator con trigger rules.\n",
    "\n",
    "<center><img src=\"https://i.postimg.cc/yY3JnYmX/a500.png\"></center>"
   ]
  },
  {
   "cell_type": "markdown",
   "metadata": {},
   "source": [
    "1.\tDoes t4 run if t3 is skipped?"
   ]
  },
  {
   "cell_type": "code",
   "execution_count": null,
   "metadata": {},
   "outputs": [],
   "source": [
    "from airflow import DAG\n",
    "from airflow.operators.python import PythonOperator, BranchPythonOperator\n",
    "from airflow.operators.bash import BashOperator\n",
    "\n",
    "from datetime import datetime\n",
    "\n",
    "def _t1(ti):\n",
    "    ti.xcom_push(key='my_key', value=42)\n",
    "\n",
    "def _t2(ti):\n",
    "    ti.xcom_pull(key='my_key', task_ids='t1')\n",
    "\n",
    "def _branch(ti):\n",
    "    value = ti.xcom_pull(key='my_key', task_ids='t1')\n",
    "    if (value == 42):\n",
    "        return 't2'\n",
    "    return 't3'\n",
    "\n",
    "with DAG(\"xcom_dag\", start_date=datetime(2022, 1, 1), \n",
    "    schedule_interval='@daily', catchup=False) as dag:\n",
    "\n",
    "    t1 = PythonOperator(\n",
    "        task_id='t1',\n",
    "        python_callable=_t1\n",
    "    )\n",
    "\n",
    "    branch = BranchPythonOperator(\n",
    "        task_id='branch',\n",
    "        python_callable=_branch\n",
    "    )\n",
    "\n",
    "    t2 = PythonOperator(\n",
    "        task_id='t2',\n",
    "        python_callable=_t2\n",
    "    )\n",
    "\n",
    "    t3 = BashOperator(\n",
    "        task_id='t3',\n",
    "        bash_command=\"echo ''\"\n",
    "    )\n",
    "\n",
    "    t4 = BashOperator(\n",
    "        task_id='t4',\n",
    "        bash_command=\"echo ''\",\n",
    "        trigger_rule='none_failed_min_one_success'\n",
    "    )\n",
    "\n",
    "    t1 >> branch >> [t2, t3] >> t4"
   ]
  }
 ],
 "metadata": {
  "language_info": {
   "name": "python"
  }
 },
 "nbformat": 4,
 "nbformat_minor": 2
}
