{
 "cells": [
  {
   "cell_type": "markdown",
   "metadata": {},
   "source": [
    "### **5.1 - Adios patrones repetitivos**"
   ]
  },
  {
   "cell_type": "markdown",
   "metadata": {},
   "source": [
    "Imaginemos que tienes la siguiente con tres tareas encargadas de descargar archivos. Una tarea para comprobar esos archivos y otras tareas encargadas de procesar esos archivos. Como puedes ver, esas tareas están haciendo la misma cosa lógica, descargan archivos y las otras tres tareas están haciendo la misma cosa lógica, el procesamiento de archivos.\n",
    "\n",
    "<center><img src=\"https://i.postimg.cc/FK4hyhpR/a406.png\"></center>\n",
    "\n",
    "Así que lo que te gustaría hacer en su lugar es tener una tarea que agrupe todas las tareas de descarga y otra tarea que agrupe todas las tareas que procesan los archivos.\n",
    "\n",
    "¿Por qué quieres eso?\n",
    "\n",
    "Para hacer su dag más fácil de leer y mantener. Entonces, ¿cómo implementar eso? Usando **`subDAGs`**.\n",
    "\n",
    "<center><img src=\"https://i.postimg.cc/cCrWxCxD/a407.png\"></center>"
   ]
  }
 ],
 "metadata": {
  "language_info": {
   "name": "python"
  }
 },
 "nbformat": 4,
 "nbformat_minor": 2
}
