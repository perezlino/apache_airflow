{
 "cells": [
  {
   "cell_type": "markdown",
   "metadata": {},
   "source": [
    "### **5.2 - Add the DAG group_dag.py**"
   ]
  },
  {
   "cell_type": "markdown",
   "metadata": {},
   "source": [
    "<center><img src=\"https://i.postimg.cc/d06cGrDH/a408.png\"></center>\n",
    "<center><img src=\"https://i.postimg.cc/qvfrrp9L/a409.png\"></center>\n",
    "<center><img src=\"https://i.postimg.cc/BZVshTpR/a411.png\"></center>"
   ]
  }
 ],
 "metadata": {
  "language_info": {
   "name": "python"
  }
 },
 "nbformat": 4,
 "nbformat_minor": 2
}
