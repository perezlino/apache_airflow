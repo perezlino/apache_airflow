{
 "cells": [
  {
   "cell_type": "markdown",
   "metadata": {},
   "source": [
    "### **5.4 - [Práctica] Group tasks with SubDAGs!**"
   ]
  },
  {
   "cell_type": "markdown",
   "metadata": {},
   "source": [
    "¡En esta actividad, vas a agrupar las tasks transforms con un subdag!\n",
    "\n",
    "<center><img src=\"https://i.postimg.cc/TwyGGhYt/a430.png\"></center>\n",
    "<center><img src=\"https://i.postimg.cc/RFjm09W4/a431.png\"></center>\n",
    "\n",
    "1.\tDid you implement subdag_transforms.py?\n",
    "\n",
    "Under dags/subdags/subdag_transforms.py\n",
    "\n",
    "<center><img src=\"https://i.postimg.cc/J0ZLDgXJ/a432.png\"></center>"
   ]
  },
  {
   "cell_type": "code",
   "execution_count": null,
   "metadata": {},
   "outputs": [],
   "source": [
    "from airflow import DAG\n",
    "from airflow.operators.bash import BashOperator\n",
    "\n",
    "def subdag_transforms(parent_dag_id, child_dag_id, args):\n",
    "\n",
    "    with DAG(f\"{parent_dag_id}.{child_dag_id}\",\n",
    "        start_date=args['start_date'],\n",
    "        schedule_interval=args['schedule_interval'],\n",
    "        catchup=args['catchup']) as dag:\n",
    "\n",
    "        transform_a = BashOperator(\n",
    "            task_id='transform_a',\n",
    "            bash_command='sleep 10'\n",
    "        )\n",
    "\n",
    "        transform_b = BashOperator(\n",
    "            task_id='transform_b',\n",
    "            bash_command='sleep 10'\n",
    "        )\n",
    "\n",
    "        transform_c = BashOperator(\n",
    "            task_id='transform_c',\n",
    "            bash_command='sleep 10'\n",
    "        )\n",
    "        return dag"
   ]
  },
  {
   "cell_type": "markdown",
   "metadata": {},
   "source": [
    "2.\tDid you implement the SubDagOperator in group_dag.py?\n",
    "\n",
    "In group_dag.py"
   ]
  },
  {
   "cell_type": "code",
   "execution_count": null,
   "metadata": {},
   "outputs": [],
   "source": [
    "from airflow import DAG\n",
    "from airflow.operators.bash import BashOperator\n",
    "from airflow.operators.subdag import SubDagOperator\n",
    "from subdags.subdag_downloads import subdag_downloads\n",
    "from subdags.subdag_transforms import subdag_transforms\n",
    "\n",
    "from datetime import datetime\n",
    "\n",
    "with DAG('group_dag', start_date=datetime(2022, 1, 1), \n",
    "    schedule_interval='@daily', catchup=False) as dag:\n",
    "\n",
    "    args = {'start_date': dag.start_date, 'schedule_interval': dag.schedule_interval, 'catchup': dag.catchup}\n",
    "\n",
    "    downloads = SubDagOperator(\n",
    "        task_id='downloads',\n",
    "        subdag=subdag_downloads(dag.dag_id, 'downloads', args)\n",
    "    )\n",
    "\n",
    "    check_files = BashOperator(\n",
    "        task_id='check_files',\n",
    "        bash_command='sleep 10'\n",
    "    )\n",
    "\n",
    "    transforms = SubDagOperator(\n",
    "        task_id='transforms',\n",
    "        subdag=subdag_transforms(dag.dag_id, 'transforms', args)\n",
    "    )\n",
    "\n",
    "    downloads >> check_files >> transforms"
   ]
  }
 ],
 "metadata": {
  "language_info": {
   "name": "python"
  }
 },
 "nbformat": 4,
 "nbformat_minor": 2
}
