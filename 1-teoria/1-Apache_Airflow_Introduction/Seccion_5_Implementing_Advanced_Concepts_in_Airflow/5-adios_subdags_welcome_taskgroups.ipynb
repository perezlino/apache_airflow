{
 "cells": [
  {
   "cell_type": "markdown",
   "metadata": {},
   "source": [
    "### **5.5 - Adios SubDAGs, welcome TaskGroups!**"
   ]
  },
  {
   "cell_type": "markdown",
   "metadata": {},
   "source": [
    "Mira, a veces es bastante complicado agrupar tus tareas, y por eso están obsoletas desde Airflow 2.2, en su lugar vas a utilizar un nuevo concepto, que es el concepto de TaskGroups.\n",
    "\n",
    "Déjame mostrarte esto.\n",
    "\n",
    "Así que lo primero, puedes eliminar el SubDagOperator ya que no lo vamos a utilizar más.\n",
    "\n",
    "<center><img src=\"https://i.postimg.cc/WpkjHDy3/a433.png\"></center>\n",
    "<center><img src=\"https://i.postimg.cc/NfvYqshx/a434.png\"></center>\n",
    "\n",
    "Mantén \"download_tasks\" y haz lo mismo con \"transform tasks\".\n",
    "\n",
    "<center><img src=\"https://i.postimg.cc/hP8nKkcR/a435.png\"></center>\n",
    "<center><img src=\"https://i.postimg.cc/SxyhRgx2/a436.png\"></center>\n",
    "\n",
    "Ahora tenemos que crear esas funciones primero. Cambia el nombre de la carpeta \"subdags\" por \"groups\", y en lugar de tener subdag_downloads y subdag_transforms, puedes cambiarlos por group_downloads y group_transforms.\n",
    "\n",
    "<center><img src=\"https://i.postimg.cc/fRBh9YVH/a437.png\"></center>\n",
    "<center><img src=\"https://i.postimg.cc/Dz03dms7/a438.png\"></center>\n",
    "\n",
    "Lo mismo para el DAG object.\n",
    "\n",
    "<center><img src=\"https://i.postimg.cc/3wq5L7Cm/a439.png\"></center>\n",
    "<center><img src=\"https://i.postimg.cc/QtWLwP0P/a440.png\"></center>\n",
    "\n",
    "Como puedes ver, con mucho menos código, eres capaz de agrupar tus tareas y no necesitas crear un dag en un dag con el ID del DAG con todos los argumentos y demás. Muy sencillo, muy fácil.\n",
    "\n",
    "Ahora abra el archivo group_dag.py. Necesitas hacer la importación correcta, así que puedes quitar esto\n",
    "\n",
    "<center><img src=\"https://i.postimg.cc/L5KdpTWs/a441.png\"></center>\n",
    "\n",
    "y escribe \"from groups.group_downloads import downloads_tasks\". Si comentas esta línea ya que no hemos creado transform tasks, podemos comentar esto también. Guarde el archivo y vaya a Airflow UI.\n",
    "\n",
    "<center><img src=\"https://i.postimg.cc/02vgXVmW/a442.png\"></center>\n",
    "\n",
    "Como puedes ver, te encuentras con una caja azul. Si haces clic en él, puedes ver tus tareas en él, download_a, download_b y download_c y esto es un Task Group. Task Groups, muy útil, muy sencillo.\n",
    "\n",
    "Son fáciles de usar, **`utilice los Task Groups en lugar de los SubDAGs`**.\n",
    "\n",
    "<center><img src=\"https://i.postimg.cc/wMhCTNKQ/a443.png\"></center>\n",
    "<center><img src=\"https://i.postimg.cc/FF35xMfk/a444.png\"></center>"
   ]
  }
 ],
 "metadata": {
  "language_info": {
   "name": "python"
  }
 },
 "nbformat": 4,
 "nbformat_minor": 2
}
