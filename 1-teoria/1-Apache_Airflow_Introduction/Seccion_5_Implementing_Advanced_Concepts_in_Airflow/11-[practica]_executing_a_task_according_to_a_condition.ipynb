{
 "cells": [
  {
   "cell_type": "markdown",
   "metadata": {},
   "source": [
    "### **5.11 - [Práctica] Executing a task according to a condition**"
   ]
  },
  {
   "cell_type": "markdown",
   "metadata": {},
   "source": [
    "Vamos a utilizar un Branch Operator para utilizar una tarea u otra según una condición. Y el primer paso es importar el BranchPythonOperator ya que es el operator que vamos a utilizar. Te permite ejecutar una función python y en esa función python te devuelve el task ID de la siguiente tarea que quieres ejecutar en base a tu condición.\n",
    "\n",
    "<center><img src=\"https://i.postimg.cc/ydKXC3PH/a477.png\"></center>\n",
    "\n",
    "A continuación, puede crear la nueva tarea.\n",
    "\n",
    "<center><img src=\"https://i.postimg.cc/fLv7zW20/a478.png\"></center>\n",
    "\n",
    "Una vez que tengas eso, puedes crear la función \"_branch\" así puedes pasar el argumento \"ti\" para obtener tu XCom. Así que creamos una variable \"value\" que contiene el \"xcom_push\" por la tarea \"t1\", es decir 42. Para ello especificamos la key, \"my_key\", y decimos que el task ID es \"t1\". Queremos tener el XCom que viene de \"t1\". \n",
    "\n",
    "Una vez que tenemos 42, que es el valor que puedes ver aquí, empujado (pushed) por \"t1\", podemos hacer la condición. Así que si el \"valor\" es igual a 42, queremos ejecutar la tarea \"t2\" por lo que devolvemos el task ID \"t2\" y si no, entonces queremos ejecutar la tarea \"t3\", por lo que llegamos al task ID \"t3\" y eso es todo. Haciendo esto, se puede ejecutar una tarea u otra.\n",
    "\n",
    "<center><img src=\"https://i.postimg.cc/GthFH0Vg/a479.png\"></center>\n",
    "\n",
    "El último paso final es definir las dependencias en consecuencia. ¿Cómo? En este caso, hay que poner la lista de tareas así, una lista con \"t2\" y \"t3\". Si guardas el archivo y echas un vistazo a la UI, obtienes el siguiente DAG con \"t1\". Luego la tarea Branch, el BranchPythonOperator que elige entre \"t2\" o \"t3\" si el valor devuelto por \"t1\" es 42.\n",
    "\n",
    "<center><img src=\"https://i.postimg.cc/1RJ0btVk/a480.png\"></center>\n",
    "<center><img src=\"https://i.postimg.cc/rsnS4nLV/a481.png\"></center>\n",
    "\n",
    "Así que vamos a ejecutar el DAG para ver si funciona y deberíamos tener \"t2\" ejecutado.\n",
    "\n",
    "<center><img src=\"https://i.postimg.cc/bNr0PhQs/a482.png\"></center>\n",
    "\n",
    "Como puede ver, \"t2\" se ha ejecutado como se esperaba, mientras que \"t3\" se ha saltado. Eso es lo que puedes ver por el color del borde. Así que recuerde que el camino que no es elegido por el Branch Operator se salta automáticamente. Eso es todo lo que necesitas saber sobre branching (ramificación). Ten en cuenta que un Branch Operator, hay muchos branch operators, no sólo el BranchPythonOperator, ese operador devuelve el task IDs de la siguiente tarea a ejecutar si la condición es verdadera o no.\n",
    "\n",
    "<center><img src=\"https://i.postimg.cc/xTZvT4Rg/a483.png\"></center>\n",
    "\n",
    "Agreguemos una nueva tarea después de \"t2\" y \"t3\", para que esa tarea dependa de \"t2\" y \"t3\". Vuelve a tu código y añade una nueva tarea, por ejemplo, con el Bash Operator, llámala \"t4\", lo mismo para el task ID y añade esta tarea \"t4\" al final de tu data pipeline. Guarde el archivo y vuelva a la UI de Airflow. Si actualiza la página, podrá ver la nueva tarea \"t4\".\n",
    "\n",
    "<center><img src=\"https://i.postimg.cc/RZnc3Lpm/a484.png\"></center>\n",
    "<center><img src=\"https://i.postimg.cc/jjHPcdrk/a485.png\"></center>\n",
    "<center><img src=\"https://i.postimg.cc/G37Yq5Zr/a486.png\"></center>\n",
    "\n",
    "Pero ahora si ejecutas el DAG y esperas un poco, como puedes ver, la T4 se ha saltado también. **`Porque todas las tareas que están upstream a una tarea que se ha saltado también se saltan`**. Así que la pregunta es, ¿cómo se puede evitar esto? Cómo puedes decir que quieres ejecutar \"t2\", pero también quieres ejecutar \"t4\" sea cual sea el resultado de la tarea Branch."
   ]
  }
 ],
 "metadata": {
  "language_info": {
   "name": "python"
  }
 },
 "nbformat": 4,
 "nbformat_minor": 2
}
