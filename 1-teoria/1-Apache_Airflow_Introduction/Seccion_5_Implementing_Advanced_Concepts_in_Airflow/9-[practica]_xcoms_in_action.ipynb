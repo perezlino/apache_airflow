{
 "cells": [
  {
   "cell_type": "markdown",
   "metadata": {},
   "source": [
    "### **5.9 - [Práctica] XComs in action!**"
   ]
  },
  {
   "cell_type": "markdown",
   "metadata": {},
   "source": [
    "Usted quiere compartir datos entre t1 y t2, y el primer paso es empujar (push) XCom para empujar (push) el valor que desea compartir en la database de Airflow. ¿Cómo hacerlo?, tiene dos maneras. \n",
    "\n",
    "<center><img src=\"https://i.postimg.cc/J0mTxdgj/a460.png\"></center>\n",
    "\n",
    "**`La primera es devolviendo un valor (returning a value)`**.\n",
    "\n",
    "Así que en la función python callable \"_t1\" sólo tienes que devolver un valor (return a value). Cuando se devuelve un valor (return a value) de la función de python callable se crea un XCom con el valor 42 y la key. XCom tiene siempre una key para identificarlo \"return_value\".\n",
    "\n",
    "Si guardas el archivo y ejecutas el DAG, una vez completado, vas a Admin > XComs, y puedes ver en el XCom \"return_value\" la key y el valor 42 definido en tu código. Así que como se puede ver, es tan simple como eso. Devuelve un valor y ese valor se introduce automáticamente en la database de Airflow para que puedas compartirlo con otra tarea.\n",
    "\n",
    "<center><img src=\"https://i.postimg.cc/FzZTBV58/a461.png\"></center>\n",
    "<center><img src=\"https://i.postimg.cc/Px13mk6t/a462.png\"></center>\n",
    "\n",
    "Ahora, permítanme mostrarles **`la segunda forma de empujar (pushing) el XCom`**.\n",
    "\n",
    "Digamos que usted quiere definir una key específica para su XCom, para hacer esto, usted necesita usar el método \"xcom_push\". ¿Cómo? Primero necesitas usar el parámetro \"ti\" y \"ti\" es la task instance object que te permite acceder al método \"xcom_push\". Así que recuerda que cuando el operator se ejecuta, se crea una task instance. Eso es lo que tienes aquí como parámetro. A continuación, puede llamar \"ti.xcom_push\" para empujar el XCom para empujar el valor que desea almacenar en la Meta database que desea compartir. Y por último, se especifica una key. En este caso, \"my_key\" y el valor 42 como antes. Así es como puedes hacerlo con \"xcom_push\".\n",
    "\n",
    "<center><img src=\"https://i.postimg.cc/65WjGgCX/a463.png\"></center>\n",
    "\n",
    "Si guardas el archivo y vuelves a ejecutar la tarea haciendo clic en \"t1\" y luego en \"Clear\".\n",
    "\n",
    "<center><img src=\"https://i.postimg.cc/fRFBpbpz/a464.png\"></center>\n",
    "<center><img src=\"https://i.postimg.cc/7L2mkkrg/a465.png\"></center>\n",
    "<center><img src=\"https://i.postimg.cc/pXs0QCBn/a466.png\"></center>\n",
    "\n",
    "Si vuelves a Admin > XComs, puedes ver esta nueva key, \"my_key\" y el valor 42. Así que lo bueno de \"xcom_push\" es que puedes definir la key que quieres usar como identificador único de tu XCom.\n",
    "\n",
    "<center><img src=\"https://i.postimg.cc/0yrVVStX/a467.png\"></center>\n",
    "\n",
    "Volviendo a tu código, para jalar (pull) el XCom que quieres obtener de la tarea \"t1\" en la tarea \"t2\", sólo hay un método para hacerlo, que es \"xcom_pull\". Así que déjame mostrarte esto primero. Al igual que para \"t1\", se utiliza el parámetro \"ti\" para la task instance object y ahora sólo se llama \"ti.xcom_pull\" en lugar de \"xcom_push\", se especifica la key del XCom que se quiere jalar \"my_key\". Y por último la task ID de la que proviene ese XCom. En este caso, \"t1\", guardas el archivo y listo.\n",
    "\n",
    "<center><img src=\"https://i.postimg.cc/bJfLYBq4/a468.png\"></center>\n",
    "\n",
    "Haciendo esto se puede empujar el XCom desde \"t1\" y recuperarlo desde \"t2\".\n",
    "\n",
    "Si imprimimos el valor así\n",
    "\n",
    "<center><img src=\"https://i.postimg.cc/6q90n420/a469.png\"></center>\n",
    "<center><img src=\"https://i.postimg.cc/90JBpXyj/a470.png\"></center>\n",
    "<center><img src=\"https://i.postimg.cc/ncSk9zH4/a471.png\"></center>\n",
    "\n",
    "y vuelve a la UI, activa el DAG de nuevo así. Espera un poco y ahora está hecho. Vuelve a Admin > XComs y como puedes ver sigues teniendo un nuevo XCom \"my_key\" con el valor 42. Fíjate que tienes otro \"my_key\" con el valor 42 pero que no pertenece al mismo DAG Run. Eso es lo que puedes ver aquí con el Run ID.\n",
    "\n",
    "<center><img src=\"https://i.postimg.cc/kMcw9szh/a472.png\"></center>\n",
    "\n",
    "Así que si vuelves a tu DAG, entonces haz clic en \"t2\" y ve al log. Puedes ver en la salida 42.\n",
    "\n",
    "<center><img src=\"https://i.postimg.cc/X7YLvF0N/a473.png\"></center>\n",
    "<center><img src=\"https://i.postimg.cc/RZ3T7BFj/a474.png\"></center>\n",
    "<center><img src=\"https://i.postimg.cc/52ZSpRQj/a475.png\"></center>\n",
    "\n",
    "Así es como se comparten los datos entre las tareas entre \"t1\" y \"t2\" utilizando los métodos \"xcom_push\" y \"xcom_pull\"."
   ]
  }
 ],
 "metadata": {
  "language_info": {
   "name": "python"
  }
 },
 "nbformat": 4,
 "nbformat_minor": 2
}
