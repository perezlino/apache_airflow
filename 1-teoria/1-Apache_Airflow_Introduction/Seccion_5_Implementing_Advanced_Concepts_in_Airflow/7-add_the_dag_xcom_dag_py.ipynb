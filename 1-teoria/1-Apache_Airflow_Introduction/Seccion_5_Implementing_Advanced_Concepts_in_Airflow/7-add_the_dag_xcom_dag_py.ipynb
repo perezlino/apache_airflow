{
 "cells": [
  {
   "cell_type": "markdown",
   "metadata": {},
   "source": [
    "### **5.7 - Add the DAG xcom_dag.py**"
   ]
  },
  {
   "cell_type": "markdown",
   "metadata": {},
   "source": [
    "<center><img src=\"https://i.postimg.cc/nrtW5Lsj/a450.png\"></center>\n",
    "<center><img src=\"https://i.postimg.cc/wvNP0NBY/a451.png\"></center>\n",
    "<center><img src=\"https://i.postimg.cc/xTn73cDB/a452.png\"></center>"
   ]
  }
 ],
 "metadata": {
  "language_info": {
   "name": "python"
  }
 },
 "nbformat": 4,
 "nbformat_minor": 2
}
