{
 "cells": [
  {
   "cell_type": "markdown",
   "metadata": {},
   "source": [
    "### **5.8 - Sharing data between tasks with XComs**"
   ]
  },
  {
   "cell_type": "markdown",
   "metadata": {},
   "source": [
    "Cómo compartir datos entre tus tareas.\n",
    "\n",
    "Digamos que tiene dos tareas \"Listing filenames\" y \"Downloading files\", y su objetivo es obtener los nombres de los archivos de \"Listing filenames\" en la tarea \"Downloading files\".\n",
    "\n",
    "<center><img src=\"https://i.postimg.cc/PJz7kkZ6/a453.png\"></center>\n",
    "\n",
    "¿Cómo hacerlo?\n",
    "\n",
    "Bueno, la primera forma es utilizando una herramienta externa como una base de datos o un sistema de archivos compartidos. Por ejemplo, \"Listar nombres de archivos\" empuja los datos a la herramienta externa y finalmente \"Descargar archivos\" saca los datos de la herramienta externa. Esto es algo que puedes hacer, y es muy útil si tienes muchos datos, si quieres compartir gigabytes o terabytes de datos.\n",
    "\n",
    "<center><img src=\"https://i.postimg.cc/44zqcpMz/a454.png\"></center>\n",
    "\n",
    "Ahora la segunda forma de hacerlo y la forma nativa de hacerlo es mediante el uso de XComs. Así que \"Listing filenames\" empuja (pushes) el XCom que contiene la lista de nombres de los archivos y \"Downloading files\" saca ese XCom de la database de Airflow para obtener los nombres de los archivos. Así es como funciona.\n",
    "\n",
    "El XCom contiene la información que se quiere compartir entre las tareas y se almacena en la Meta database de Airflow.\n",
    "\n",
    "<center><img src=\"https://i.postimg.cc/4NP0LsXy/a455.png\"></center>\n",
    "\n",
    "Dicho esto, ¿qué es el XCom?\n",
    "\n",
    "Significa comunicación cruzada (cross communication) y no es más que un pequeño paquete que te permite intercambiar pequeñas cantidades de datos. No hay que compartir terabytes o gigabytes de datos con XComs. ¿Por qué? Porque tienen un tamaño limitado.\n",
    "\n",
    "<center><img src=\"https://i.postimg.cc/P5qR09q4/a456.png\"></center>\n",
    "\n",
    "Por ejemplo, si usas SQLite puedes iniciar hasta dos gigabytes de datos para un XCOM dado.\n",
    "\n",
    "<center><img src=\"https://i.postimg.cc/FKdnHS3k/a457.png\"></center>\n",
    "\n",
    "Si usas Postgres, puedes iniciar hasta un gigabyte de datos en un XCOM dado\n",
    "\n",
    "<center><img src=\"https://i.postimg.cc/jSkFTcwr/a458.png\"></center>\n",
    "\n",
    "pero si usas MySQL, puedes iniciar hasta 64 kilobytes de datos para XCOM dado.\n",
    "\n",
    "<center><img src=\"https://i.postimg.cc/k50Y65v1/a459.png\"></center>\n",
    "\n",
    "Así que ten cuidado, XComs te permite compartir datos entre tus tareas, pero debes compartir metadatos entre tus tareas y no los datos en sí."
   ]
  }
 ],
 "metadata": {
  "language_info": {
   "name": "python"
  }
 },
 "nbformat": 4,
 "nbformat_minor": 2
}
