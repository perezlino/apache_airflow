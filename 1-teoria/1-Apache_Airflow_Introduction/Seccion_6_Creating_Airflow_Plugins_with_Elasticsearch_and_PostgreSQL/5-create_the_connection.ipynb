{
 "cells": [
  {
   "cell_type": "markdown",
   "metadata": {},
   "source": [
    "### **6.5 - Create the connection**"
   ]
  },
  {
   "cell_type": "markdown",
   "metadata": {},
   "source": [
    "Como vamos a crear un plugin para Elasticsearch, tiene sentido crear una conexión para interactuar con Elasticsearch.\n",
    "\n",
    "Así que para hacer eso vas a Admin > Connections > Crear una nueva conexión. \n",
    "\n",
    "<center><img src=\"https://i.postimg.cc/Ss30BPQ3/a516.png\"></center>\n",
    "<center><img src=\"https://i.postimg.cc/QtRP4W0r/a517.png\"></center>\n",
    "\n",
    "El nombre es \"elastic_default\", el tipo de conexión es HTTP, el host es \"elastic\", que no es más que el nombre del contenedor Docker donde se ejecuta Elasticsearch y el puerto es el 9200, eso es todo.\n",
    "\n",
    "Guardas la conexión y has creado con éxito la conexión que utilizará el plugin para interactuar con Elasticsearch.\n",
    "\n",
    "<center><img src=\"https://i.postimg.cc/GtGfZh5T/a518.png\"></center>\n",
    "<center><img src=\"https://i.postimg.cc/qRtSxGcL/a519.png\"></center>"
   ]
  }
 ],
 "metadata": {
  "language_info": {
   "name": "python"
  }
 },
 "nbformat": 4,
 "nbformat_minor": 2
}
