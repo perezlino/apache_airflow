{
 "cells": [
  {
   "cell_type": "markdown",
   "metadata": {},
   "source": [
    "### **6.3 - Running Elasticsearch with Airflow**"
   ]
  },
  {
   "cell_type": "markdown",
   "metadata": {},
   "source": [
    "Encontrará el archivo docker-compose-es.yaml. No te fijes en ese archivo ya que contiene Elasticsearch con tu instancia de Airflow. Así que básicamente si abres ese archivo verás un nuevo servicio justo debajo de la sección \"services\" del archivo docker-compose-file \"elastic\". Y eso es todo. Como usamos Docker, sólo tenemos que añadir un nuevo servicio con la siguiente Docker image, unos pocos ajustes de configuración para Elasticsearch, el puerto, y eso es todo. Con eso podemos ejecutar Elasticsearch dentro de nuestro entorno Airflow.\n",
    "\n",
    "<center><img src=\"https://i.postimg.cc/6pVPMgxY/a505.png\"></center>\n",
    "\n",
    "Dicho esto, asegúrate de que tienes el archivo en la carpeta materiales del curso y en tu terminal es el momento de ejecutar airflow y Elasticsearch con el comando: \n",
    "\n",
    "<center><img src=\"https://i.postimg.cc/5yF7Lkm5/a506.png\"></center>\n",
    "\n",
    "Y ahora solo tienes que esperar un poco.\n",
    "\n",
    "Una vez hecho esto, puedes ejecutar el siguiente comando para echar un vistazo a tus contenedores Docker, asegúrate de que están todos sanos. Por cierto, es normal que éste tenga el estado \"Exit\" y asegúrate de que el contenedor docker de elastic está funcionando también con el estado \"Up\".\n",
    "\n",
    "<center><img src=\"https://i.postimg.cc/0QjH2NMB/a507.png\"></center>\n",
    "\n",
    "Si no lo ves, tal vez necesites aumentar la memoria de tu instancia Docker y para ello sólo tienes que ir a Docker > Preferences > Resources y aumentas la memoria por lo menos ocho gigabytes. Una vez hecho esto, haces clic en Apply and Restart y vuelves a ejecutar el docker-compose-file con el siguiente comando.\n",
    "\n",
    "<center><img src=\"https://i.postimg.cc/3RqfyH2J/a508.png\"></center>\n",
    "<center><img src=\"https://i.postimg.cc/BvMV0F6F/a509.png\"></center>\n",
    "\n",
    "Ahora, lo último que hay que hacer es verificar que puedes interactuar con el contenedor Docker de Elasticsearch desde tus contenedores Airflow. Para ello, puedes escribir el mismo comando que antes con \"ps\" para obtener tus contenedores Docker y luego escribes un Docker exec.\n",
    "\n",
    "<center><img src=\"https://i.postimg.cc/XNG4sjHL/a510.png\"></center>\n",
    "<center><img src=\"https://i.postimg.cc/kM09Z0Lm/a511.png\"></center>\n",
    "\n",
    "En estos contenedores Docker, escribe el siguiente comando y si le das a enter, deberías ver la siguiente salida. Eso significa que has instalado con éxito Elasticsearch con Docker y puedes interactuar con él desde tus contenedores docker de Airflow. Finalmente pulsa \"CTRL\" para salir del contenedor Docker y ya estás listo.\n",
    "\n",
    "<center><img src=\"https://i.postimg.cc/V5Q7RB7x/a512.png\"></center>\n",
    "<center><img src=\"https://i.postimg.cc/PqtR9yth/a513.png\"></center>"
   ]
  }
 ],
 "metadata": {
  "language_info": {
   "name": "python"
  }
 },
 "nbformat": 4,
 "nbformat_minor": 2
}
