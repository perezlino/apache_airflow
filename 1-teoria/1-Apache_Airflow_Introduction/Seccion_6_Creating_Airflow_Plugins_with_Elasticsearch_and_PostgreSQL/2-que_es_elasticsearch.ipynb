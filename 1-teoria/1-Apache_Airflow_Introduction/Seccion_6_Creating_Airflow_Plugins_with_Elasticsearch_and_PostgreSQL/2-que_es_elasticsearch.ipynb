{
 "cells": [
  {
   "cell_type": "markdown",
   "metadata": {},
   "source": [
    "### **6.2 - What’s Elasticsearch?**"
   ]
  },
  {
   "cell_type": "markdown",
   "metadata": {},
   "source": [
    "Antes de pasar al plugin, permítame explicar rápidamente qué es Elasticsearch. Elasticsearch es un motor de búsqueda para sus datos. Básicamente, usted es capaz de buscar, analizar y visualizar sus datos y lo que usted está buscando en tus datos. Normalmente no vas a tener Elasticsearch, sólo vas a terminar con Kibana, que es la interfaz de usuario de Elasticsearch. Elasticsearch, que es el motor de búsqueda, y Logstash, que te permite obtener datos de diferentes fuentes. De todos modos, piensa en Elasticsearch como un motor de búsqueda para tus datos, y si no sabes lo que es échale un vistazo. Puedes ahorrar mucho tiempo y es una herramienta muy potente y común."
   ]
  }
 ],
 "metadata": {
  "language_info": {
   "name": "python"
  }
 },
 "nbformat": 4,
 "nbformat_minor": 2
}
