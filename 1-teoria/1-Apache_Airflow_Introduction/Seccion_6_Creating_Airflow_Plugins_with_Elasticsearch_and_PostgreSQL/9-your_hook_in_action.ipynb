{
 "cells": [
  {
   "cell_type": "markdown",
   "metadata": {},
   "source": [
    "### **6.9 - Your Hook in action!**"
   ]
  },
  {
   "cell_type": "markdown",
   "metadata": {},
   "source": [
    "Por último, es el momento de utilizar el gancho elástico en su dag. Así que abre el archivo elastic_dag.py. Y el primer paso es hacer la importación:\n",
    "\n",
    "<center><img src=\"https://i.postimg.cc/D0T64Qxm/a537.png\"></center>\n",
    "\n",
    "Entonces justo debajo tienes la tarea \"print_es_info\". Así que básicamente ese DAG sólo hace una cosa. Se ejecuta la siguiente tarea que imprime en la salida estándar, la información sobre el Elasticsearch de la instancia de Elasticsearch.\n",
    "\n",
    "Para ello tienes que utilizar el elastic hook. Así que escribe hook igual al elastic hook. Luego imprimes la salida del método, \"hook.info\" y ya está.\n",
    "\n",
    "<center><img src=\"https://i.postimg.cc/2y7wQqtG/a538.png\"></center>\n",
    "\n",
    "Guardas el archivo, vuelves a Airflow UI y ahora si refrescas la página verás el DAG \"elastic_dag\". Activas el toggle, vuelves a refrescar la página, haces clic en el DAG, haces clic en la tarea, vas al LOG y en la parte inferior puedes ver ahí mismo, en esa línea, la información sobre tu instancia de Elasticsearch, y has construido con éxito un elastic hook como plug en tu instancia de Airflow.\n",
    "\n",
    "<center><img src=\"https://i.postimg.cc/h4LpWwGm/a539.png\"></center>\n",
    "<center><img src=\"https://i.postimg.cc/hPKMSrJ5/a540.png\"></center>"
   ]
  }
 ],
 "metadata": {
  "language_info": {
   "name": "python"
  }
 },
 "nbformat": 4,
 "nbformat_minor": 2
}
