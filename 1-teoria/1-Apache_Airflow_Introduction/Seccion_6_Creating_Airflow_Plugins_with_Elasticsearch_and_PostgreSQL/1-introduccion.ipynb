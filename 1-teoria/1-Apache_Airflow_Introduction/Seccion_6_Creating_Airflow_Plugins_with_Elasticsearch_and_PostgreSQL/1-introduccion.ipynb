{
 "cells": [
  {
   "cell_type": "markdown",
   "metadata": {},
   "source": [
    "### **6.1 - Introduccion**"
   ]
  },
  {
   "cell_type": "markdown",
   "metadata": {},
   "source": [
    "Pero ahora ¿qué vas a descubrir en esta sección?\n",
    "\n",
    "Bueno, vas a ver cómo ampliar las características y funcionalidades de Apache Airflow. En efecto, Airflow es potente porque puedes añadir tus propias características o personalizar lo que ya existe en Airflow. Por ejemplo, quieres modificar las views, quieres añadir un hook, quieres añadir operators. Puedes hacerlo en Airflow sin esperar a que nadie lo haga. Así verás cómo funciona el sistema de plugins. Es muy fácil. Entonces, por último, pero no menos importante, vas a crear tu propio hook y tu propio operator. Así que espero que estés preparado porque al final de esta sección serás capaz de interactuar con Elasticsearch desde Airflow con tu propio plugin.\n"
   ]
  }
 ],
 "metadata": {
  "language_info": {
   "name": "python"
  }
 },
 "nbformat": 4,
 "nbformat_minor": 2
}
