{
 "cells": [
  {
   "cell_type": "markdown",
   "metadata": {},
   "source": [
    "### **6.4 - How the plugin system works?**"
   ]
  },
  {
   "cell_type": "markdown",
   "metadata": {},
   "source": [
    "Permíteme explicarte cómo funciona el plugin system. En primer lugar, ¿qué se puede personalizar en Airflow? Bueno, obviamente puedes añadir tus propios operators o puedes personalizar los operators existentes. \n",
    "\n",
    "Antes de Airflow 2.0, tenías que añadir los operators en el plugin system, pero ahora no tienes que hacerlo. Puedes simplemente ampliar un operator existente y modificarlo de inmediato. Así que es mucho más fácil que antes.\n",
    "\n",
    "Pero dicho esto, ten en cuenta que puedes añadir tus propios operators o puedes personalizar los operators existentes. Además, si quieres modificar las views, las páginas de la interfaz de usuario de Airflow, puedes hacerlo. Tal vez usted quiere tener una nueva vista para monitorear una instancia de Elasticsearch.\n",
    "\n",
    "Esto es algo que puede hacer. Puede añadir views a su interfaz de usuario de Airflow.\n",
    "\n",
    "Por último, también puedes añadir hooks. Por ejemplo, hay una nueva herramienta que acaba de salir y quieres interactuar con ella. No tiene que esperar a que nadie actualice Airflow. No, puedes crear tu propio hook e interactuar con esa nueva herramienta de inmediato. Recuerda que el hook es una interfaz que encapsula la complejidad de interactuar con un sistema externo.\n",
    "\n",
    "Así que como puedes ver con Airflow plugin system, puedes personalizar todo en Airflow, hooks, views, operators y demás. Por eso Airflow es tan potente. Puedes ampliar sus funcionalidades tanto como necesites y algo para su personalización.\n",
    "\n",
    "Dicho esto, ¿cómo funciona? ¿Concretamente? Bueno, siempre crearás una clase (class), ya sea un hook o un operator o una view. Siempre crearás una clase (class). Esa clase (class) hereda de Airflow plugin class y en tu clase. Así que por ejemplo aquí digamos que es un hook, así que \"MyHookClass\", en esta clase tendrás que definir algunos atributos, como el nombre de tu plugin, como si es un hook o no e información adicional también que verás más adelante con el operator en el hook que vamos a crear.\n",
    "\n",
    "<center><img src=\"https://i.postimg.cc/NfRYwNwr/a514.png\"></center>\n",
    "\n",
    "Y finalmente, puedes llamar a tu hook como a cualquier \"Regular Python Modules\". Por eso es tan potente. Será totalmente transparente para ti incluso si es un plugin en tus data pipelines.\n",
    "\n",
    "Lo único que debes recordar también es que los plugins son de carga lenta (lazy loaded), así que si añades un nuevo plugin a tu aplicación, por ejemplo, tendrás que reiniciar tu aplicación, por ejemplo, para tener en cuenta tu plugin en consideración. Así que dicho esto, es hora de implementar tu plugin.\n",
    "\n",
    "<center><img src=\"https://i.postimg.cc/x1YQjK0p/a515.png\"></center>"
   ]
  }
 ],
 "metadata": {
  "language_info": {
   "name": "python"
  }
 },
 "nbformat": 4,
 "nbformat_minor": 2
}
