{
 "cells": [
  {
   "cell_type": "markdown",
   "metadata": {},
   "source": [
    "### **6.6 - Create the ElasticHook**"
   ]
  },
  {
   "cell_type": "markdown",
   "metadata": {},
   "source": [
    "Es hora de crear el plugin para interactuar con Elasticsearch. Y como queremos interactuar con Elasticsearch, necesitamos crear un hook. Recuerda que el hook te permite interactuar con una herramienta externa o un servicio externo. Dicho esto en la carpeta \"plugins\" crea una nueva carpeta \"hooks\" ya que quieres crear un hook y otra carpeta en la carpeta hooks llamada \"elastic\". Porque quieres crear un hook para Elasticsearch. Por último, pero no menos importante, crea un nuevo archivo en la carpeta elastic con el nombre \"elastic_hook.py\". Y eso es todo. Y ahora estás listo para crear tu hook.\n",
    "\n",
    "<center><img src=\"https://i.postimg.cc/sfhbBwgf/a520.png\"></center>\n",
    "\n",
    "Primero tienes que importar la clase \"AirflowPlugin\". En efecto, al crear un plugin necesitas esa clase. A continuación, como quieres crear un hook, importas la clase \"BaseHook\". Todos los hooks de Airflow heredan de la clase \"BaseHook\" que proporciona algunas propiedades y métodos que comparten todos los hooks de Airflow. A continuación, importa \"Elasticsearch\", ya que desea interactuar con Elasticsearch desde su hook. Necesitas importar la clase Elasticsearch. A continuación, crea una clase que herede de \"BaseHook\". Es bajo esta clase que implementas tu hook. Así que primero necesitas definir el método \"__init__\" con una connection ID. Esta connection ID corresponde a la conexión que acabas de crear antes \"elastic_default\" e inicializas la clase \"BaseHook\" con la siguiente línea.\n",
    "\n",
    "<center><img src=\"https://i.postimg.cc/5NWT8LXB/a521.png\"></center>\n",
    "\n",
    "A continuación, obtienes la conexión con la connection ID \"elastic_default\" de la Meta database de Airflow con el método \"get_connection\". Una vez que tengas este objeto de conexión, lo vas a utilizar para coger alguna información que pongas en él.\n",
    "\n",
    "<center><img src=\"https://i.postimg.cc/jSs1FTQC/a522.png\"></center>\n",
    "\n",
    "Por ejemplo, se crean dos variables \"connection config\" y \"hosts\" ya que se pueden tener varios hosts en Elasticsearch\n",
    "\n",
    "<center><img src=\"https://i.postimg.cc/m23qjk90/a523.png\"></center>\n",
    "\n",
    "y ahora es el momento de verificar si tienes un host en tu conexión. Si es así, entonces coges el host que tienes. Como puedes ver, usamos Split en caso de que tengas múltiples hosts. Y entonces si hay un puerto 9200, lo coges bajo la clave puerto (key port) en el \"conn_config\", justo debajo. Haces lo mismo si tienes un log in. Entonces en ese caso pones el log in y la contraseña bajo la key \"http_auth\" para el \"conn_config\".\n",
    "\n",
    "<center><img src=\"https://i.postimg.cc/6pYPsPYc/a524.png\"></center>\n",
    "\n",
    "Vamos a hacer una pausa para explicar lo que estás haciendo aquí. Así que primero inicializas el \"BaseHook\" con la siguiente línea (super( ).__init___ ....). Obtienes la conexión (get_connection) correspondiente a la connection ID \"elastic_default\" que has creado desde la Airflow UI. Y gracias a esa conexión, ahora puedes coger lo que necesitas como el host, el puerto y el login y password para inicializar la conexión de Elasticsearch con la siguiente línea. Como puedes ver, usamos la clase Elasticsearch que hemos importado antes con el host y todas las conexiones, la configuración, el host, el puerto y demás como se muestra ahí mismo.\n",
    "\n",
    "<center><img src=\"https://i.postimg.cc/KYWsjMXg/a525.png\"></center>\n",
    "\n",
    "Para terminar de inicializar el hook, tenemos que añadir una última línea, que es el index. Si no sabes lo que es, ten en cuenta que en Elasticsearch, tus documentos, tus datos se almacenan en múltiples indexes. Así que puedes pensar en un index como una carpeta básicamente. Y este index, puedes especificarlo en tu conexión bajo el atributo \"Schema\". Por ahora, no tenemos ningún schema y eso está bien. Así que eso es todo.\n",
    "\n",
    "Eso es todo lo que necesitas para inicializar el elastic hook con el fin de interactuar con Elasticsearch.\n",
    "\n",
    "<center><img src=\"https://i.postimg.cc/qRCD3v0D/a526.png\"></center>\n",
    "\n",
    "Dicho esto, hay algunos métodos que vamos a añadir ahora mismo y el primero es \"info\". Así que a partir de ahora, vamos a añadir algunos métodos que nos gustaría llamar con el fin de interactuar con la instancia de Elasticsearch. Lo único que hace \"info\" es que devuelve la información sobre la instancia de Elasticsearch.\n",
    "\n",
    "A continuación, vamos a crear otro método que es \"set_index\" para definir el index que queremos utilizar. \n",
    "\n",
    "Y finalmente otro método que es \"add_doc\" para añadir un documento a un index específico. De nuevo, un documento es un dato.\n",
    "\n",
    "Así que básicamente quieres añadir datos a un index específico, necesitas pasar el index, el doc type y el doc. Así que los datos que quieres almacenar en Elasticsearch, estableces el index y llamas al método \"es.index\" con el index, el doc type y el doc los datos que quieres almacenar y finalmente devuelves el resultado de ese método. Así que eso es todo.\n",
    "\n",
    "Al hacer esto, has creado con éxito tu elastic hook y ahora eres capaz de interactuar con Elasticsearch desde Airflow. Has inicializado con éxito el hook. Has creado tres métodos, uno para obtener la información sobre la instancia de Elasticsearch.\n",
    "\n",
    "Uno, para establecer de nuevo el index, la carpeta donde están todos los datos y el método add doc para añadir datos en Elasticsearch para un index específico.\n",
    "\n",
    "<center><img src=\"https://i.postimg.cc/gjFSqb2z/a527.png\"></center>"
   ]
  }
 ],
 "metadata": {
  "language_info": {
   "name": "python"
  }
 },
 "nbformat": 4,
 "nbformat_minor": 2
}
