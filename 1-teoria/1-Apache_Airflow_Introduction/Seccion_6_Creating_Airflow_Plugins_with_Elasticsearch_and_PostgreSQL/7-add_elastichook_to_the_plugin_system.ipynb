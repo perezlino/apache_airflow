{
 "cells": [
  {
   "cell_type": "markdown",
   "metadata": {},
   "source": [
    "### **6.7 - Add ElasticHook to the Plugin system**"
   ]
  },
  {
   "cell_type": "markdown",
   "metadata": {},
   "source": [
    "Hasta ahora has creado con éxito el elastic hook, pero aún no has terminado. De hecho, como puede ver, la clase AirflowPlugin no se utiliza y hay un problema aquí porque cada vez que se añade un nuevo plugin a Airflow, es necesario registrarlo. Déjame mostrarte esto. Si vas a tu terminal y escribes el comando con \"ps\", entonces abres una estación en el contenedor del scheduler con Docker exec\n",
    "\n",
    "<center><img src=\"https://i.postimg.cc/jqPkq2ML/a528.png\"></center>\n",
    "\n",
    "y ejecute el comando \"airflow plugins\", podrá ver que no se ha cargado ningún plugin. ¿Por qué? Pues porque tienes que registrar el hook elástico en el Airflow plugin manager.\n",
    "\n",
    "<center><img src=\"https://i.postimg.cc/FsvCYv6G/a529.png\"></center>\n",
    "\n",
    "y ejecute el comando \"airflow plugins\", podrá ver que no se carga ningún plugin. ¿Por qué? Pues porque tienes que registrar el elastic hook en el Airflow plugin manager. Y para ello, sólo tienes que ir a tu archivo, y al final del mismo tienes que añadir una clase, que es \"AirflowElasticPlugin\". Puedes elegir el nombre que quieras para que herede de \"AirflowPlugin\". Esto es realmente importante. Justo debajo se añade el nombre. Por ejemplo, \"elastic\". En ese caso ese es el nombre del plugin. Y por último especifica que es un hook. Así que añades el \"ElasticHook\" al plugin system manager y especificas que es un hook añadiéndolo en los hooks del plugin system manager. Y eso es todo.\n",
    "\n",
    "<center><img src=\"https://i.postimg.cc/HstZ5KDm/a530.png\"></center>\n",
    "\n",
    "Si guarda el archivo y reinicia la instancia de Airflow con:\n",
    "\n",
    "<center><img src=\"https://i.postimg.cc/2yQH0914/a531.png\"></center>\n",
    "\n",
    "entonces espera un poco. Ahora Airflow está funcionando de nuevo.\n",
    "\n",
    "<center><img src=\"https://i.postimg.cc/Z5KfLc4d/a532.png\"></center>\n",
    "\n",
    "Puedes ejecutar el mismo comando que antes con \"ps\" y abres una sesión de bash con el scheduler así\n",
    "\n",
    "<center><img src=\"https://i.postimg.cc/BnYm7Knw/a533.png\"></center>\n",
    "\n",
    "y ejecutar el mismo comando \"airflow plugins\". Puedes ver que ahora tienes el plugin elastic que corresponde a tu elastic hook. Así es como registras tus plugins en tu instancia de Airflow, y así puedes usarlos.\n",
    "\n",
    "<center><img src=\"https://i.postimg.cc/yd9nNpXw/a534.png\"></center>"
   ]
  }
 ],
 "metadata": {
  "language_info": {
   "name": "python"
  }
 },
 "nbformat": 4,
 "nbformat_minor": 2
}
