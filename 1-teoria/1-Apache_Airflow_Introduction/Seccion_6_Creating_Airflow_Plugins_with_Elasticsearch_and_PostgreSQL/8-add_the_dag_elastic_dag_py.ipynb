{
 "cells": [
  {
   "cell_type": "markdown",
   "metadata": {},
   "source": [
    "### **6.8 - Add the DAG elastic_dag.py**"
   ]
  },
  {
   "cell_type": "markdown",
   "metadata": {},
   "source": [
    "<center><img src=\"https://i.postimg.cc/SKnDBxXQ/a535.png\"></center>\n",
    "<center><img src=\"https://i.postimg.cc/6QFYtxRr/a536.png\"></center>"
   ]
  }
 ],
 "metadata": {
  "language_info": {
   "name": "python"
  }
 },
 "nbformat": 4,
 "nbformat_minor": 2
}
