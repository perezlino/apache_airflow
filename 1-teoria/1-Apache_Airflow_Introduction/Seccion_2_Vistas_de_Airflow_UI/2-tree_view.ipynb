{
 "cells": [
  {
   "cell_type": "markdown",
   "metadata": {},
   "source": [
    "### **2.2 - The Tree View**"
   ]
  },
  {
   "cell_type": "markdown",
   "metadata": {},
   "source": [
    "Tan pronto como se hace clic en un DAG, aparece la Tree View.\n",
    "\n",
    "<center><img src=\"https://i.postimg.cc/501HzzMY/a51.png\"></center>\n",
    "\n",
    "Tree View es extremadamente útil ya que le permite obtener el historial, así como las ejecuciones actuales del DAG (DAG Runs actuales) de un determinado DAG junto con el estado de las tareas.\n",
    "\n",
    "<center><img src=\"https://i.postimg.cc/Px4CQqt6/a52.png\"></center>\n",
    "\n",
    "Por ejemplo, aquí los círculos corresponden a los DAG Runs. Y los cuadrados corresponden a las tareas.\n",
    "\n",
    "<center><img src=\"https://i.postimg.cc/1X3fCZXy/a53.png\"></center>\n",
    "\n",
    "Así podrá detectar rápidamente si hay algún error en sus tareas con sólo mirar los colores de las casillas. Si todas tus tareas están en success, running, failed y así sucesivamente.\n",
    "\n",
    "Así que Tree View es útil para detectar si hay un retraso en la ejecución o si cualquier tarea está en fallo (Failure). Por ejemplo, si has planteado tu DAG durante cinco días y este DAG está programado para ejecutarse cada 10 minutos, obviamente terminarás con muchas ejecuciones de DAG ejecutándose al mismo tiempo. En ese caso, debe utilizar Tree View para supervisar todas las ejecuciones del DAG (DAG Runs) al mismo tiempo. Y si una tarea está en fallo, puede saberlo de inmediato.\n",
    "\n",
    "Por último, tenga en cuenta que con Tree View puede comprobar fácilmente el estado de sus tareas en todas sus ejecuciones DAG.\n"
   ]
  }
 ],
 "metadata": {
  "language_info": {
   "name": "python"
  }
 },
 "nbformat": 4,
 "nbformat_minor": 2
}
