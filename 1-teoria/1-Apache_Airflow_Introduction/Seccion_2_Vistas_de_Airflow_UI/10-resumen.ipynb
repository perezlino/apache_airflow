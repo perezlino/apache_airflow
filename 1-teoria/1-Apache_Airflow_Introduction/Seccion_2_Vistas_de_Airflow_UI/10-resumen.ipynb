{
 "cells": [
  {
   "cell_type": "markdown",
   "metadata": {},
   "source": [
    "### **2.10 - Resumen**"
   ]
  },
  {
   "cell_type": "markdown",
   "metadata": {},
   "source": [
    "#### **`Preguntas resumen`**\n",
    "\n",
    "<center><img src=\"https://i.postimg.cc/D0V9dmkt/a86.png\"></center>\n",
    "\n",
    "<center><img src=\"https://i.postimg.cc/BbxdhsJt/a87.png\"></center>\n",
    "\n",
    "<center><img src=\"https://i.postimg.cc/v8fF875M/a88.png\"></center>\n",
    "\n",
    "<center><img src=\"https://i.postimg.cc/sD4k7VnN/a89.png\"></center>\n",
    "\n",
    "<center><img src=\"https://i.postimg.cc/sDzFMBJW/a90.png\"></center>"
   ]
  }
 ],
 "metadata": {
  "language_info": {
   "name": "python"
  }
 },
 "nbformat": 4,
 "nbformat_minor": 2
}
