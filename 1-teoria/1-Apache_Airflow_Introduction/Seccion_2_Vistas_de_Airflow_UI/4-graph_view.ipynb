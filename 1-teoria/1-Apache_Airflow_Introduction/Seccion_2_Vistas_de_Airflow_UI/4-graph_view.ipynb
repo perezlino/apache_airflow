{
 "cells": [
  {
   "cell_type": "markdown",
   "metadata": {},
   "source": [
    "### **2.4 - The Graph View**"
   ]
  },
  {
   "cell_type": "markdown",
   "metadata": {},
   "source": [
    "Además de la grid view, la siguiente vista que hay que conocer es la graph view. La graph view es extremadamente agradable porque le permite comprobar las dependencias de su data pipeline. De hecho, representa muy bien cómo está hecho tu data pipeline. \n",
    "\n",
    "Así que usted puede ver con los cuadrados las diferentes tasks (runme_0, runme_1 or runme_2), así como también run_after_loop y así sucesivamente. Y si pasas por encima de una de las tasks, por ejemplo, run_after_loop, puedes ver cuáles son las dependencias adjuntas a esta task. Por ejemplo, run_this_last, depende de run_after_loop y run_after_loop depende de runme_0, runme_1 y runme_2. \n",
    "\n",
    "Además, puedes echar un vistazo a los estados de las tasks simplemente mirando el color del borde. Así, por ejemplo, also_run_this, es verde, por lo que se ha ejecutado con éxito y run_this_last se la salta (is skipped). Eso es lo que puedes ver con el color del borde. \n",
    "\n",
    "<center><img src=\"https://i.postimg.cc/Y00ZNgh2/a60.png\"></center>\n",
    "\n",
    "Finalmente, si usted hace clic en una de las tasks, se accede a esta vista, que no es nada más que lo que puede encontrar desde la grid view también.  Así que, si quieres realizar acciones sobre una tarea específica, puedes hacerlo ahí mismo.\n",
    "\n",
    "<center><img src=\"https://i.postimg.cc/3Nq6tRvX/a61.png\"></center>\n",
    "\n",
    "Ten en cuenta que, por defecto, sólo obtienes el último DAG Run, pero si quieres acceder a todos los DAG Runs, puedes hacerlo haciendo clic aquí:\n",
    "\n",
    "<center><img src=\"https://i.postimg.cc/wx4SqWG1/a62.png\"></center>\n",
    "\n",
    "<center><img src=\"https://i.postimg.cc/VL3pMJ11/a63.png\"></center>\n",
    "\n",
    "Y selecciona el DAG Run que desees:\n",
    "\n",
    "<center><img src=\"https://i.postimg.cc/cLwjcd43/a64.png\"></center>\n",
    "\n",
    "Después de haber seleccionado uno pulsamos en Update:\n",
    "\n",
    "<center><img src=\"https://i.postimg.cc/qMtWz8Pj/a65.png\"></center>"
   ]
  }
 ],
 "metadata": {
  "language_info": {
   "name": "python"
  }
 },
 "nbformat": 4,
 "nbformat_minor": 2
}
