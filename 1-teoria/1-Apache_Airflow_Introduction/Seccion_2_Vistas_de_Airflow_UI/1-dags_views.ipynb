{
 "cells": [
  {
   "cell_type": "markdown",
   "metadata": {},
   "source": [
    "### **2.1 - The DAGs View**"
   ]
  },
  {
   "cell_type": "markdown",
   "metadata": {},
   "source": [
    "<center><img src=\"https://i.postimg.cc/cLvcbR3p/a45.png\"></center>\n",
    "\n",
    "- El **`Toggle`** define si su DAG está listo para ser programado (scheduled) o no. Esto significa que si quieres empezar a ejecutar tus tareas, si quieres programar (scheduling) tus tareas, tienes que activar este toggle. Incluso si quieres activar tu DAG manualmente, tienes que activar este toggle, de lo contrario el programador (scheduler) no programará ninguna tarea de tu DAG. O bien, si usted cometió un error en su DAG y quiere pausarlo, puede hacerlo simplemente apagando el toggle.\n",
    "\n",
    "- **`Schedule (Schedule Interval)`** aquí es donde defines la frecuencia con la que tu data pipeline va a ser disparada (triggered), por ejemplo, diariamente (daily), mensualmente (monthly) y así sucesivamente. Y puedes usar una notación NoSQL, como puedes ver aquí con @daily.\n"
   ]
  },
  {
   "cell_type": "markdown",
   "metadata": {},
   "source": [
    "La columna **`Last Run`** corresponde al último periodo de tiempo para el que se ha disparado su DAG, es decir, última fecha de ejecución y **`Next Run`** corresponde al siguiente periodo de tiempo para el que se va a disparar su data pipeline.\n",
    "\n",
    "**`Recent Tasks`** significa que si tiene varias ejecuciones de DAG (DAG Runs) ejecutándose al mismo tiempo, verá el estado de todas las tareas. Y si no tiene ningún DAG Run en ejecución, verá el estado de las tareas correspondientes al último DAG Run. Una vez más, no podrá ver el estado de todas las tareas que se han ejecutado en el pasado, sino sólo las ejecuciones DAG actuales o la más reciente. Los estados de Recent Tasks son bastante abrumadores al principio porque son muchos estados, pero básicamente se centran sólo en \"None\", \"Scheduled\", \"Queued\", \"Running\", \"Success\" y \"Failed\".\n",
    "\n",
    "<center><img src=\"https://i.postimg.cc/nrdvdrhV/a46.png\"></center>"
   ]
  },
  {
   "cell_type": "markdown",
   "metadata": {},
   "source": [
    "- Por último, pero no menos importante, tenemos las **`Actions`**. Así que si quieres disparar (trigger) tu DAG manualmente, sin tener que esperar que el scheduler desencadene (trigger) tu DAG. \n",
    "\n",
    "<center><img src=\"https://i.postimg.cc/dQnmQHjM/a47.png\"></center>\n",
    "\n",
    "<center><img src=\"https://i.postimg.cc/TwJjDC8D/a48.png\"></center>\n",
    "\n",
    "Verás que puedes dar algunos ajustes de configuración en la ejecución de tu DAG, y si haces clic en este botón de ahí no vas a borrar el archivo de tu DAG, sino sólo los metadatos relacionados con tu DAG, como las task instances, y todos los DAG Runs. Tendrás que eliminar tu archivo DAG si realmente deseas borrarlo. \n",
    "```\n",
    "Como eliminar los metadatos relacionados con un DAG, como las task instances, y todos los DAG Runs. Tendrás que eliminar tu archivo DAG si realmente deseas borrarlo\n",
    "```\n",
    "<center><img src=\"https://i.postimg.cc/1tQcXbdS/a49.png\"></center>\n"
   ]
  },
  {
   "cell_type": "markdown",
   "metadata": {},
   "source": [
    "- Por último, tienes los **`Links`** que vamos a ver justo después de ese video para acceder a algunas vistas muy útiles vistas allí para que puedas monitorear tu DAG.\n",
    "\n",
    "<center><img src=\"https://i.postimg.cc/3wpFK3n9/a50.png\"></center>"
   ]
  }
 ],
 "metadata": {
  "language_info": {
   "name": "python"
  }
 },
 "nbformat": 4,
 "nbformat_minor": 2
}
