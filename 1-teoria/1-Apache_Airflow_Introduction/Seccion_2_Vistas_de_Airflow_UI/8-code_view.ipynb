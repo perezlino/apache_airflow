{
 "cells": [
  {
   "cell_type": "markdown",
   "metadata": {},
   "source": [
    "### **2.8 - The Code View**"
   ]
  },
  {
   "cell_type": "markdown",
   "metadata": {},
   "source": [
    "Finalmente, lo último que quería mostrarte es la Code View.\n",
    "\n",
    "Usted es capaz de acceder al código de su data pipeline.\n",
    "\n",
    "Pero también es muy útil cuando haces modificaciones en tu DAG y quieres asegurarte de que esta modificación ha sido tomada en cuenta por airflow.\n",
    "\n",
    "Así que sólo mirando el código aquí de su DAG, usted está seguro de que su modificación se aplica a su DAG y estás seguro para continuar.\n",
    "\n",
    "<center><img src=\"https://i.postimg.cc/d1NkSPtR/a69.png\"></center>"
   ]
  }
 ],
 "metadata": {
  "language_info": {
   "name": "python"
  }
 },
 "nbformat": 4,
 "nbformat_minor": 2
}
