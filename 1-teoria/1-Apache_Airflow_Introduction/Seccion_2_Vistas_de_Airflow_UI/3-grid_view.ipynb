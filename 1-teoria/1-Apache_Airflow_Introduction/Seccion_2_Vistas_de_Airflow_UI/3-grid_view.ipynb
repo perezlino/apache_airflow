{
 "cells": [
  {
   "cell_type": "markdown",
   "metadata": {},
   "source": [
    "### **2.3 - The Grid View**"
   ]
  },
  {
   "cell_type": "markdown",
   "metadata": {},
   "source": [
    "Cuando haces clic en una tag, la primera vista que obtienes es la vista grid. La vista de cuadrícula (Grid View) es útil porque puedes ver rápidamente el historial de los estados de tus DAG Runs y de tus tareas.\n",
    "\n",
    "<center><img src=\"https://i.postimg.cc/x14hqGM5/a54.png\"></center>\n",
    "\n",
    "<center><img src=\"https://i.postimg.cc/mr1q9cSs/a55.png\"></center>\n",
    "\n",
    "Ahora, si haces clic en el DAG run, ahí mismo, puedes marcarlo como **`Failed`** o **`Success`**.\n",
    "\n",
    "Es bueno para la experimentación o para debugging y puedes volver a ejecutar las tareas para este DAG run específico simplemente haciendo clic en **`clear existing tasks`** (borrar las tareas existentes)\n",
    "\n",
    "<center><img src=\"https://i.postimg.cc/ydFbfw5p/a56.png\"></center>\n",
    "\n",
    "<center><img src=\"https://i.postimg.cc/qq4ZW1HJ/a57.png\"></center>\n",
    "\n",
    "Por último, si haces clic en una task, obtienes información adicional como la task ID, el identificador único de tu task en el DAG, el run ID, el operator utilizado, y el tiempo que ha tardado en completarse esa task, así como algunas acciones como que ejecutamos sólo esta task haciendo clic en clear marcando que ha fallado o ha sido un éxito. Y lo que es más importante, puede acceder a los logs con sólo hacer clic en este botón.\n",
    "\n",
    "<center><img src=\"https://i.postimg.cc/ZRkQxTfy/a58.png\"></center>\n",
    "\n",
    "<center><img src=\"https://i.postimg.cc/Fzpnv0hj/a59.png\"></center>"
   ]
  }
 ],
 "metadata": {
  "language_info": {
   "name": "python"
  }
 },
 "nbformat": 4,
 "nbformat_minor": 2
}
