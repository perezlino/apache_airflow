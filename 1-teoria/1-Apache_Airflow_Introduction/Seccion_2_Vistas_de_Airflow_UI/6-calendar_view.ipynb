{
 "cells": [
  {
   "cell_type": "markdown",
   "metadata": {},
   "source": [
    "### **2.6 - The Calendar View**"
   ]
  },
  {
   "cell_type": "markdown",
   "metadata": {},
   "source": [
    "Junto a la grind view, tienes la calendar view y realmente me encanta esa también porque bien tienes este calendario y para cada cuadro tienes la agregación de los estados, de los DAG runs para un DAG específico, para un día específico, lo cual es extremadamente útil porque puedes ver rápidamente los patrones a lo largo del tiempo.\n",
    "\n",
    "Por ejemplo, si ves que a menudo, durante los fines de semana, tienes cuadros rojos, es decir, muchos fallos, entonces es posible que tenga que hacer algo sobre sus fines de semana. También, si ves que a menudo los lunes, tienes más fallos que durante los otros días. Es posible que tengas que comprobar lo que ocurre el lunes para solucionar tus problemas.\n",
    "\n",
    "Así que ten en cuenta que cada casilla te da una agregación de los estados de los DAG runs para un DAG específico. Cuantos más fallos tengas, más rojo será el cuadrado, cuantos más éxitos tengas más verde será el cuadrado.\n",
    "\n",
    "Además, con los puntos se puede ver cuántos DAG runs están previstos para un día determinado. En este caso, como este DAG se activa una vez cada día a medianoche, se ve un plan para todos los próximos días. Para resumir, utilice la calendar view para detectar los patrones repetitivos y los fallos que se produzcan, de modo que sepa qué días debe corregir con la ayuda de la vista de calendario. para saber qué días debe arreglar con su data pipeline.\n",
    "\n",
    "<center><img src=\"https://i.postimg.cc/d0pcW5ck/a67.png\"></center>"
   ]
  }
 ],
 "metadata": {
  "language_info": {
   "name": "python"
  }
 },
 "nbformat": 4,
 "nbformat_minor": 2
}
