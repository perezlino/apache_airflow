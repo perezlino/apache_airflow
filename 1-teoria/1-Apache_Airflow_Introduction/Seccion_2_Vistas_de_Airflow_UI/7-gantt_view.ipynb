{
 "cells": [
  {
   "cell_type": "markdown",
   "metadata": {},
   "source": [
    "### **2.7 - The Gantt View**"
   ]
  },
  {
   "cell_type": "markdown",
   "metadata": {},
   "source": [
    "Lo que me gusta ver mucho es la vista Gantt.\n",
    "\n",
    "Y les aconsejo encarecidamente que echen un vistazo a esta vista también, porque les da una buena visión general del tiempo que tardan sus tareas en completarse, así como si hay algún cuello de botella en su data pipeline.\n",
    "\n",
    "En efecto, cuanto más largo es el rectángulo, más tiempo tarda en completarse la task. Por lo tanto, si tiene un rectángulo enorme, puede que tenga que echar un vistazo a esta task y tratar de encontrar una manera de mejorar el tiempo que se tarda en completarla y así reducir el tiempo que se tarda en completar su data pipeline.\n",
    "\n",
    "Además, si ves algunos rectángulos superpuestos, eso significa que puedes ejecutar varias tasks al mismo tiempo. Por eso puedes ver que runme_2, this_will_skip, also_run_this, runme_0, runme_1 superpuestas porque son capaces de ser ejecutadas al mismo tiempo. Y usted quiere asegurarse de que usted es capaz de ejecutar varias tasks al mismo tiempo. De lo contrario, es posible que tenga que cambiar el paralelismo de su aplicación, por ejemplo, o para su DAG, pero lo veremos más adelante en el curso.\n",
    "\n",
    "Por ahora, sólo ten en cuenta la Gantt View. Es muy bueno para detectar cualquier cuello de botella en su data pipeline, así como el paralelismo si usted es capaz de ejecutar múltiples tasks al mismo tiempo para un determinado DAG.\n",
    "\n",
    "<center><img src=\"https://i.postimg.cc/zXBpB8gN/a68.png\"></center>"
   ]
  }
 ],
 "metadata": {
  "language_info": {
   "name": "python"
  }
 },
 "nbformat": 4,
 "nbformat_minor": 2
}
