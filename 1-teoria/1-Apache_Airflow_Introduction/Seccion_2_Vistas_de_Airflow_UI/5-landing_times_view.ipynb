{
 "cells": [
  {
   "cell_type": "markdown",
   "metadata": {},
   "source": [
    "### **2.5 - The Landing Times View**"
   ]
  },
  {
   "cell_type": "markdown",
   "metadata": {},
   "source": [
    "Bueno, ahora mismo no es muy significativo, pero a medida que ejecutes más y más tasks, verás cuánto tiempo tarda cada tarea de tu DAG en completarse desde el estado scheduled hasta completion. Así que los success, failures y así sucesivamente.\n",
    "\n",
    "Si ve que muchas de sus tasks tardan mucho, puede que tenga que mejorarlas con el fin de reducir el tiempo de ejecución de las mismas.\n",
    "\n",
    "Tu objetivo con esta vista es reducir al máximo el tiempo que tardas en completar tus tasks. Y eso es lo que puedes ver en este ejemplo que tienes en la pantalla, donde al principio las tasks tardaban hasta 2 horas en completarse, mientras que a medida que avanzamos y mejoramos esas tasks, ahora toma alrededor de 10 minutos para completarlas.\n",
    "\n",
    "<center><img src=\"https://i.postimg.cc/t7Q0XJ4X/a66.png\"></center>"
   ]
  }
 ],
 "metadata": {
  "language_info": {
   "name": "python"
  }
 },
 "nbformat": 4,
 "nbformat_minor": 2
}
