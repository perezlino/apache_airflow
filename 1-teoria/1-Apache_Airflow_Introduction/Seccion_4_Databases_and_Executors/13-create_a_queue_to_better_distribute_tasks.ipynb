{
 "cells": [
  {
   "cell_type": "markdown",
   "metadata": {},
   "source": [
    "### **4.13 - Create a queue to better distribute tasks**"
   ]
  },
  {
   "cell_type": "markdown",
   "metadata": {},
   "source": [
    "Crear una Queue en Airflow es muy sencillo. Sólo tienes que especificar al comando celery worker,\n",
    "\n",
    "<center><img src=\"https://i.postimg.cc/dVdYkKBV/a379.png\"></center>\n",
    "\n",
    "la opción “-q” y la queue que quieres crear por ejemplo, ml_model o high_cpu. Y haciendo esto vas a crear una nueva queue que verás en flower y podrás enviar las tareas a esa queue para ejecutarlas en este y sólo este worker específico (airflow-worker-2),\n",
    "\n",
    "<center><img src=\"https://i.postimg.cc/q7Td2ZbX/a380.png\"></center>\n",
    "\n",
    "de hecho el otro worker, el airflow-worker mantendrá la queue por defecto (default). Y así todas las demás tareas que no se envían a la queue high_cpu se ejecutarán en ella.\n",
    "\n",
    "<center><img src=\"https://i.postimg.cc/fbfQCj14/a381.png\"></center>\n",
    "\n",
    "Guarda el archivo y reinicia la instancia de airflow con el siguiente comando y dale a Enter y espera un poco hasta que vuelva a arrancar.\n",
    "\n",
    "<center><img src=\"https://i.postimg.cc/QtNGyKrF/a382.png\"></center>\n",
    "\n",
    "Vuelve a Flower. Haz clic en tu primer worker y ve a Queues. Y como puedes ver, este ejecuta todas las tareas que se envían a la queue por defecto.\n",
    "\n",
    "<center><img src=\"https://i.postimg.cc/0QtRR58c/a383.png\"></center>\n",
    "<center><img src=\"https://i.postimg.cc/3NdMKMN7/a384.png\"></center>\n",
    "\n",
    "Y ahora si miras el otro worker y haces clic en Queues, puedes ver que este ahora se encarga de ejecutar las tareas que se envían a la queue high_cpu como se definió ahí mismo.\n",
    "\n",
    "<center><img src=\"https://i.postimg.cc/PJcgJ6vD/a385.png\"></center>\n",
    "<center><img src=\"https://i.postimg.cc/bYBcmvVv/a386.png\"></center>\n",
    "<center><img src=\"https://i.postimg.cc/gkL9QP1H/a387.png\"></center>\n",
    "\n",
    "Así que tienes un worker que ejecuta tareas en la default queue y un worker que ejecuta tareas en la high_cpu queue.\n",
    "\n",
    "Así que la pregunta es cómo definir que una tarea debe ser enviada a una u otra queue."
   ]
  }
 ],
 "metadata": {
  "language_info": {
   "name": "python"
  }
 },
 "nbformat": 4,
 "nbformat_minor": 2
}
