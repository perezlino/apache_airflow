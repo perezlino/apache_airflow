{
 "cells": [
  {
   "cell_type": "markdown",
   "metadata": {},
   "source": [
    "### **4.16 - Resumen**"
   ]
  },
  {
   "cell_type": "markdown",
   "metadata": {},
   "source": [
    "<center><img src=\"https://i.postimg.cc/YCNPB2RY/a400.png\"></center>\n",
    "<center><img src=\"https://i.postimg.cc/5tnkjPZt/a401.png\"></center>\n",
    "<center><img src=\"https://i.postimg.cc/pTrcjfHJ/a403.png\"></center>\n",
    "<center><img src=\"https://i.postimg.cc/gJ7SHxcF/a404.png\"></center>\n",
    "<center><img src=\"https://i.postimg.cc/QCW64jVB/a405.png\"></center>"
   ]
  }
 ],
 "metadata": {
  "language_info": {
   "name": "python"
  }
 },
 "nbformat": 4,
 "nbformat_minor": 2
}
