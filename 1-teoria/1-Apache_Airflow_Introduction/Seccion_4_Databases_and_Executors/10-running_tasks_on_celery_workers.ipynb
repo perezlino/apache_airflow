{
 "cells": [
  {
   "cell_type": "markdown",
   "metadata": {},
   "source": [
    "### **4.10 - Running tasks on Celery Workers**"
   ]
  },
  {
   "cell_type": "markdown",
   "metadata": {},
   "source": [
    "En este video, vas a ejecutar tus tareas en el Celery worker. Déjame mostrarte lo primero. Abre el archivo parallel_dag.py en tu editor de código y añade sleep 10 para cada tarea que tengas. Por ejemplo, sleep 10 para extract_a, luego extract_b, load_a, load_b y para transform.\n",
    "\n",
    "<center><img src=\"https://i.postimg.cc/VNnk8CT4/a360.png\"></center>\n",
    "<center><img src=\"https://i.postimg.cc/mD422rW4/a361.png\"></center>\n",
    "\n",
    "Una vez hecho esto, guarda el archivo y vuelve a la interfaz de usuario de Airflow. En la UI de Airflow, activas el toggle del dag parallel_dag y lo disparas (trigger it) haciendo click en este botón, luego disparas (trigger) el dag y ahora se ejecuta.\n",
    "\n",
    "<center><img src=\"https://i.postimg.cc/g2f2QDMn/a362.png\"></center>\n",
    "<center><img src=\"https://i.postimg.cc/zBkDL1qg/a363.png\"></center>\n",
    "<center><img src=\"https://i.postimg.cc/VvLfnHNH/a364.png\"></center>\n",
    "\n",
    "Si vas a Flower, localhost :5555 como puedes ver, tienes un par de tareas ejecutándose como muestra la columna Active, lo que significa que tus tareas se están ejecutando en este Celery worker.\n",
    "\n",
    "<center><img src=\"https://i.postimg.cc/WzW2n6Fp/a365.png\"></center>\n",
    "\n",
    "Después de esperar unos segundos, terminará con todas sus tareas procesadas y, como puede ver, todas han tenido éxito (Succeeded).\n",
    "\n",
    "<center><img src=\"https://i.postimg.cc/WpXbTjWR/a366.png\"></center>\n",
    "\n",
    "Dicho esto, ¿qué deberías mirar en Flower?\n",
    "\n",
    "Bueno, lo primero es comprobar si tienes algún fallo o alguna tarea que haya sido reintentada (Retried). Además, si haces clic en **`Tasks`** y echas un vistazo a una de las tareas haciendo clic en un ID determinado, obtienes obtendrá información adicional sobre la tarea específica. Echa un vistazo al estado. Debe estar en success y el worker donde se ejecutó la tarea.\n",
    "\n",
    "<center><img src=\"https://i.postimg.cc/4N0fHPRB/a367.png\"></center>\n",
    "<center><img src=\"https://i.postimg.cc/rwt8148c/a368.png\"></center>"
   ]
  }
 ],
 "metadata": {
  "language_info": {
   "name": "python"
  }
 },
 "nbformat": 4,
 "nbformat_minor": 2
}
