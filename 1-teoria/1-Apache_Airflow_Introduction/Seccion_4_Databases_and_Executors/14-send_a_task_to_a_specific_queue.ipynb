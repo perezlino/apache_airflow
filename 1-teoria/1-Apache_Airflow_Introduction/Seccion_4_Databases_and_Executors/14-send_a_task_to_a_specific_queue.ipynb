{
 "cells": [
  {
   "cell_type": "markdown",
   "metadata": {},
   "source": [
    "### **4.14 - Send a task to a specific queue**"
   ]
  },
  {
   "cell_type": "markdown",
   "metadata": {},
   "source": [
    "Por defecto, cuando se ejecuta una tarea, ésta se envía a la queue por defecto (default queue) definida en la configuración de Airflow por el parámetro default_queue en la sección de operadores.\n",
    "\n",
    "<center><img src=\"https://i.postimg.cc/25wghjBr/a388.png\"></center>\n",
    "\n",
    "Y como puede ver, el valor por defecto de este parámetro de configuración es \"default\".\n",
    "\n",
    "<center><img src=\"https://i.postimg.cc/fR44hrNn/a389.png\"></center>\n",
    "\n",
    "Por eso, si vuelves a Flower y haces clic en el otro worker, puedes ver que la queue está por defecto (is default).\n",
    "\n",
    "<center><img src=\"https://i.postimg.cc/Mp1CZm6c/a390.png\"></center>\n",
    "<center><img src=\"https://i.postimg.cc/hjt6rF9x/a391.png\"></center>\n",
    "<center><img src=\"https://i.postimg.cc/TPGZK51t/a392.png\"></center>\n",
    "\n",
    "¿Y ahora qué pasa si quieres usar high_cpu en su lugar?\n",
    "\n",
    "Pues muy sencillo. Abre tu dag para la tarea \"transform\" y añade el parámetro queue con el valor high_cpu. Por defecto, la queue está definida en default. Por eso no tienes que definirla para las otras tareas. Pero si quieres especificar otra queue, necesitas usar el parámetro queue como se muestra ahí mismo con un valor en este caso high_cpu.\n",
    "\n",
    "<center><img src=\"https://i.postimg.cc/ZRsgsfcQ/a393.png\"></center>\n",
    "\n",
    "Ahora modifiquemos el sleep con 30 segundos, guardemos el archivo y ejecutemos el DAG.\n",
    "\n",
    "<center><img src=\"https://i.postimg.cc/J0yFfbYz/a394.png\"></center>\n",
    "<center><img src=\"https://i.postimg.cc/Bbdz4XRc/a395.png\"></center>\n",
    "\n",
    "Como puedes ver, algunas tareas están siendo procesadas por el primer worker con la default queue. Así que si esperas un poco, en algún momento vas a ver que una tarea correspondiente a transform se ejecutará en el otro worker con la cola high_cpu. Así que vamos a esperar un poco y como puedes ver, tienes una tarea activa que corresponde a transform, bien hecho.\n",
    "\n",
    "<center><img src=\"https://i.postimg.cc/mZqJQ5hz/a396.png\"></center>\n",
    "<center><img src=\"https://i.postimg.cc/5NCGpSFP/a397.png\"></center>\n",
    "\n",
    "Puedes añadir un nuevo celery worker, puedes crear una queue y adjuntar esa queue a un worker específico, lo cual es muy útil si tienes una tarea que consume recursos que quieres enviar a un worker específico con más recursos que los demás."
   ]
  }
 ],
 "metadata": {
  "language_info": {
   "name": "python"
  }
 },
 "nbformat": 4,
 "nbformat_minor": 2
}
