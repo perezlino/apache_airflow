{
 "cells": [
  {
   "cell_type": "markdown",
   "metadata": {},
   "source": [
    "### **4.3 - The Sequential Executor**"
   ]
  },
  {
   "cell_type": "markdown",
   "metadata": {},
   "source": [
    "El sequential executor es el executor por defecto cuando se instala airflow manualmente.\n",
    "\n",
    "**¿Cómo funciona?**\n",
    "\n",
    "Muy fácil. Tienes un web server, un scheduler y una base de datos, una base de datos SQLite. Y si quieres ejecutar el siguiente DAG, el Scheduler ejecuta una tarea a la vez. No puede ejecutar varias tareas al mismo tiempo. Así que, por ejemplo, aquí se ejecuta T1, luego una vez que T1 se completa, se ejecuta T2. Luego, una vez que T2 se completa, ejecuta T3. Luego, una vez que T3 se ha completado, se ejecuta T4. Así que es extremadamente simple y usted usará ese executor sólo para hacer experimentos o depurar algunos problemas. Para configurar este executor, sólo tienes que modificar la configuración del executor con el valor de sequential executor.\n",
    "\n",
    "<center><img src=\"https://i.postimg.cc/9MwtVJ2K/a328.png\"></center>\n",
    "<center><img src=\"https://i.postimg.cc/BvVcdRr2/a329.png\"></center>"
   ]
  }
 ],
 "metadata": {
  "language_info": {
   "name": "python"
  }
 },
 "nbformat": 4,
 "nbformat_minor": 2
}
