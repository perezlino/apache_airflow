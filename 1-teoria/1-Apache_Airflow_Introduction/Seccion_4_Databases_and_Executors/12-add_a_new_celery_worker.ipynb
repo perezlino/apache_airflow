{
 "cells": [
  {
   "cell_type": "markdown",
   "metadata": {},
   "source": [
    "### **4.12 - Add a new Celery Worker**"
   ]
  },
  {
   "cell_type": "markdown",
   "metadata": {},
   "source": [
    "Before creating a queue, you are going to add a new celery worker to your Airflow instance, in order to simulate the fact that you have multiple machines to execute your tasks. Remember, in the real world you have multiple machines, and those machines are your celery workers to execute your tasks.\n",
    "\n",
    "<center><img src=\"https://i.postimg.cc/rmqM2Y5F/a372.png\"></center>\n",
    "\n",
    "Así que primero abre el archivo docker-compose y desplázate hacia abajo hasta que llegues al servicio airflow-worker y copias todas esas líneas\n",
    "\n",
    "<center><img src=\"https://i.postimg.cc/FRGmrgxb/a373.png\"></center>\n",
    "\n",
    "y luego pegas esas líneas justo debajo y añades \"-2\" para el airflow-worker y ya está.\n",
    "\n",
    "<center><img src=\"https://i.postimg.cc/kG4CB6j0/a374.png\"></center>\n",
    "<center><img src=\"https://i.postimg.cc/fyrNXzpJ/a375.png\"></center>\n",
    "\n",
    "Guardas el archivo y reinicias tu instancia de Airflow para ello, ejecutas el siguiente comando y esperas un poco hasta que airflow esté en marcha de nuevo.\n",
    "\n",
    "<center><img src=\"https://i.postimg.cc/XNH3tLq4/a376.png\"></center>\n",
    "\n",
    "Una vez que Airflow está en marcha, comprueba tus contenedores con el siguiente comando y deberías ver dos worker, worker-2 y worker_1.\n",
    "\n",
    "<center><img src=\"https://i.postimg.cc/BQjs3FPD/a377.png\"></center>\n",
    "\n",
    "A continuación, abres tu navegador y vas a Flower. Deberías ver los siguientes dos workers. Eso significa que has añadido con éxito un nuevo worker y que puedes ejecutar más tareas que antes.\n",
    "\n",
    "<center><img src=\"https://i.postimg.cc/KvCb8YtW/a378.png\"></center>"
   ]
  }
 ],
 "metadata": {
  "language_info": {
   "name": "python"
  }
 },
 "nbformat": 4,
 "nbformat_minor": 2
}
