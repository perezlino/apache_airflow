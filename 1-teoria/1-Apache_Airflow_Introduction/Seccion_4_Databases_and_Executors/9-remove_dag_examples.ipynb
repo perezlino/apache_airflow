{
 "cells": [
  {
   "cell_type": "markdown",
   "metadata": {},
   "source": [
    "### **4.9 - Remove DAG Examples**"
   ]
  },
  {
   "cell_type": "markdown",
   "metadata": {},
   "source": [
    "<center><img src=\"https://i.postimg.cc/5yx0p2sg/a354.png\"></center>\n",
    "<center><img src=\"https://i.postimg.cc/qBLgq275/a355.png\"></center>\n",
    "<center><img src=\"https://i.postimg.cc/fL7yx9fk/a356.png\"></center>\n",
    "<center><img src=\"https://i.postimg.cc/W1D45KwB/a357.png\"></center>\n",
    "<center><img src=\"https://i.postimg.cc/28SyZ3b8/a358.png\"></center>\n",
    "<center><img src=\"https://i.postimg.cc/FsCRgm3b/a359.png\"></center>"
   ]
  }
 ],
 "metadata": {
  "language_info": {
   "name": "python"
  }
 },
 "nbformat": 4,
 "nbformat_minor": 2
}
