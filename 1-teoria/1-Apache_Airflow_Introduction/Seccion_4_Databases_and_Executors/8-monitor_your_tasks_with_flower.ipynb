{
 "cells": [
  {
   "cell_type": "markdown",
   "metadata": {},
   "source": [
    "### **4.8 - Monitor your tasks with Flower**"
   ]
  },
  {
   "cell_type": "markdown",
   "metadata": {},
   "source": [
    "Como utilizamos un Celery executor, tenemos acceso al Flower Dashboard. Y Flower es una herramienta basada en la web que le permite monitorear un administrator service cluster, que es exactamente lo que tiene ahora.\n",
    "\n",
    "Así que si usted va y mira un host 5555, terminas en esta página. Y lo que puedes ver rápidamente es el número de tareas que están activas, procesadas, falladas, exitosas o reintentadas.\n",
    "\n",
    "Y justo debajo tienes tus workers. Por ahora, sólo tenemos un worker. Aquí puedes ver el estado Online. Así que se está ejecutando, listo para ejecutar tareas y no hay tareas activas, procesadas, fallidas, exitosas o tareas reintentadas en este punto.\n",
    "\n",
    "A la derecha, tenemos el promedio de carga (load average). No voy a ampliar esto, pero es básicamente la cola de ejecución del sistema promediada (system run queue averaged) en los ultimos uno, cinco y 15 minutos.\n",
    "\n",
    "<center><img src=\"https://i.postimg.cc/K841d4xs/a350.png\"></center>\n",
    "<center><img src=\"https://i.postimg.cc/rprKwbd1/a351.png\"></center>\n",
    "\n",
    "Ahora, si haces clic en el worker, aterrizas en esta página que te da un montón de información sobre tu worker. Y por cierto, si usted termina con un error, sólo tiene que actualizar esa página. Así que primero tienes el Pool. Y una cosa que hay que saber es que se define el número de tareas que se pueden ejecutar al mismo tiempo en un determinado worker. Y en este caso, por defecto, es de 16 tareas, por lo que puede ejecutar hasta 16 tareas al mismo tiempo en este airflow walker, puedes aumentar o disminuir ese número, pero depende de tus recursos.\n",
    "\n",
    "<center><img src=\"https://i.postimg.cc/zv0fQYMr/a352.png\"></center>\n",
    "\n",
    "Además del Pool tienes las Queues y las queues son muy útiles porque te permiten dirigir las tareas a un worker específico. Por ejemplo, tienes tareas que consumen muchos recursos y tienes un worker con muchos recursos. Puedes crear una Queue, adjuntar esa Queue a este worker y poner las tareas de alto consumo de recursos en esa Queue para que ese worker y sólo él ejecute esas tareas.\n",
    "\n",
    "<center><img src=\"https://i.postimg.cc/50WjY3vZ/a353.png\"></center>"
   ]
  }
 ],
 "metadata": {
  "language_info": {
   "name": "python"
  }
 },
 "nbformat": 4,
 "nbformat_minor": 2
}
