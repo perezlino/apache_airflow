{
 "cells": [
  {
   "cell_type": "markdown",
   "metadata": {},
   "source": [
    "### **4.11 - ¿Que es una Queue?**"
   ]
  },
  {
   "cell_type": "markdown",
   "metadata": {},
   "source": [
    "**¿Qué es una Queue?**\n",
    "\n",
    "Bueno, puedes pensar en una Queue como una línea de personas esperando por algo, pero en el contexto de Airflow es una línea de tareas a la espera de ser activada (triggered). Así que tienes tu Queue mostrada en verde y las tareas son empujadas a esa Queue con el fin de ser ejecutadas.\n",
    "\n",
    "<center><img src=\"https://i.postimg.cc/c4C1Jj2v/a369.png\"></center>\n",
    "\n",
    "Así, por ejemplo, una tarea es empujada en ella \"T1\", luego otra tarea es empujada en ella \"T2\" y así sucesivamente. Básicamente los queues trabajan con primero en entrar, primero en salir. Así que \"T1\" se ejecuta primero, luego \"T2\", luego \"T3\" y así sucesivamente.\n",
    "\n",
    "<center><img src=\"https://i.postimg.cc/HLDTBLxM/a370.png\"></center>\n",
    "\n",
    "Ahora, ¿qué pasa con las queues en el contexto de airflow?\n",
    "\n",
    "Bueno, lo bueno de las queues es que con Celery tienes múltiples workers, múltiples máquinas, y tal vez una máquina tiene un montón de CPUs, tal vez otra máquina tiene una GPU y tal vez otra tiene menos recursos. Pues bien, con las queues puedes definir en qué máquina, en qué worker quieres ejecutar las tareas según sus especificidades. Por ejemplo, tienes una tarea que necesita muchos recursos para ser ejecutada. Puedes ponerla en la queue, high CPU, y entonces el worker con muchas CPUs, cinco en este ejemplo, sacará esa tarea de esa queue para ejecutarla. Algo así como si necesitas ejecutar un modelo de aprendizaje automático, puedes enviar la tarea a la queue ml_model que está conectada al worker con una GPU. Y así es donde se ejecutará la tarea.\n",
    "\n",
    "Por último, pero no menos importante, puedes tener una queue por defecto donde todas las demás tareas se ejecutarán en el worker con menos recursos.\n",
    "\n",
    "Como ves, con las queues puedes distribuir tus tareas entre múltiples máquinas de acuerdo a las las especificidades de sus tareas y sus máquinas.\n",
    "\n",
    "<center><img src=\"https://i.postimg.cc/3wXY6H4c/a371.png\"></center>\n"
   ]
  }
 ],
 "metadata": {
  "language_info": {
   "name": "python"
  }
 },
 "nbformat": 4,
 "nbformat_minor": 2
}
