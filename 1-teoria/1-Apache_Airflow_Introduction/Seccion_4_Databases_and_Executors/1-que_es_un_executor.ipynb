{
 "cells": [
  {
   "cell_type": "markdown",
   "metadata": {},
   "source": [
    "### **4.1 - ¿Que es un Executor?**"
   ]
  },
  {
   "cell_type": "markdown",
   "metadata": {},
   "source": [
    "El executor es una de las piezas más importantes de Airflow. Y lo primero que debes saber sobre él es que **`no ejecuta tus tareas`**, no ejecuta tus tareas. Aunque se llame executor, no ejecuta tus tareas. En cambio, **`define cómo ejecutar tus tareas, en qué sistema en tu Airflow instance`**. Así que primero tienes que saber que detrás de escena del executor siempre hay una \"queue\" y esa \"queue\" es donde tus tareas van a ser empujadas y tiradas por los workers. Sin una \"queue\" será difícil definir el orden en el que tus tareas deben ser ejecutadas. Pero una vez que tus tareas están en la queue, el executor define en qué sistema se van a ejecutar tus tareas. Por defecto, cuando se instala Airflow por primera vez existe el \"**`Executor por defecto`**\", es el \"**`Sequential executor`**\".\n",
    "\n",
    "Y básicamente tienes muchos executors diferentes que puedes usar. Hay executors locales y executors remotos.\n",
    "\n",
    "-\tPor ejemplo, tienes el **`Local executor`** para ejecutar múltiples tareas en una sola máquina.\n",
    "\n",
    "-\tTienes el **`Sequential executor`** para ejecutar una tarea a la vez en una sola máquina. No se pueden ejecutar varias tareas al mismo tiempo.\n",
    "\n",
    "-\tY tienes los **`executors remotos`** como el Self executor para ejecutar tus tareas en el Celery cluster en múltiples máquinas.\n",
    "\n",
    "-\tY usted tiene el **`Kubernetes executor`** para ejecutar sus tareas en un clúster Kubernetes, lo mismo, en múltiples máquinas en múltiples pods.\n",
    "\n",
    "Así que como puedes ver, hay muchos executors diferentes que puedes utilizar según tu caso de uso y tu workload. **`Para configurar tu executor lo único que tienes que cambiar es el parámetro del executor en el archivo de configuración de Airflow`**. Hay otros parámetros que puede necesitar cambiar según el executor que utilice. Por ejemplo, con el Seller executor tienes un par de parámetros más que puedes definir algo con el Kubernetes executor. Pero no te preocupes, vamos a ver todos ellos justo después de ese video.\n",
    "\n",
    "<center><img src=\"https://i.postimg.cc/yNdyp7bV/a321.png\"></center>"
   ]
  }
 ],
 "metadata": {
  "language_info": {
   "name": "python"
  }
 },
 "nbformat": 4,
 "nbformat_minor": 2
}
