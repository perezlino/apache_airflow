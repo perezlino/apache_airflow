{
 "cells": [
  {
   "cell_type": "markdown",
   "metadata": {},
   "source": [
    "### **4.4 - The Local Executor**"
   ]
  },
  {
   "cell_type": "markdown",
   "metadata": {},
   "source": [
    "El executor local va un paso más allá que el ejecutor secuencial, ya que permite ejecutar varias tareas al mismo tiempo. Pero en una sola máquina, significa que terminas con la misma instancia de Airflow, pero con una base de datos diferente. En esta ocasión vamos a utilizar ya sea PostgreSQL, MySQL, Oracle DB o lo que quieras, pero no la base de datos SQL Lite.\n",
    "\n",
    "Y al hacer esto es capaz de ejecutar múltiples tareas al mismo tiempo. Así, por ejemplo, el Scheduler ejecuta T1 y una vez que se completa, T2 y T3 se ejecutan al mismo tiempo. Una vez que se completan, se ejecuta T4 y ya está.\n",
    "\n",
    "<center><img src=\"https://i.postimg.cc/SxZWMwNH/a330.png\"></center>\n",
    "\n",
    "Para configurar este executor es tan sencillo como definir el parámetro ejecutable con LocalExecutor y definir el SQL_alchemy_conn que contiene la conexión a tu base de datos.\n",
    "\n",
    "Y aquí está la conexión que utilizarás para conectarte a Postgres. Ahora ten en cuenta que el local executor no escala muy bien, ya que depende de la máquina en la que se ejecuta. Está limitado por los recursos que tenga la máquina.\n",
    "\n",
    "<center><img src=\"https://i.postimg.cc/YShQfbv0/a332.png\"></center>"
   ]
  }
 ],
 "metadata": {
  "language_info": {
   "name": "python"
  }
 },
 "nbformat": 4,
 "nbformat_minor": 2
}
