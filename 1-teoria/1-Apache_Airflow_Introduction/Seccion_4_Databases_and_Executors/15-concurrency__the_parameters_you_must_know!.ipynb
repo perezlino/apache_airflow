{
 "cells": [
  {
   "cell_type": "markdown",
   "metadata": {},
   "source": [
    "### **4.15 - Concurrency, the parameters you must know!**"
   ]
  },
  {
   "cell_type": "markdown",
   "metadata": {},
   "source": [
    "<center><img src=\"https://i.postimg.cc/131ddVGy/a398.png\"></center>\n",
    "<center><img src=\"https://i.postimg.cc/KYZHGXpV/a399.png\"></center>\n",
    "\n",
    "- **`Parallelism`** define el número máximo de tareas que se pueden ejecutar al mismo tiempo en toda la instancia de Airflow.\n",
    "\n",
    "- **`DAG_CONCURRENCY`** define el número de tareas de un DAG determinado que pueden ejecutarse en paralelo en todos los DAG Runs. Por lo tanto, si tiene cientos de DAG Runs y DAG_CONCURRENCY se establece en 1, siempre tendrá una tarea que se ejecuta en todas las DAG Runs para un DAG determinado. Y el valor por defecto es 16, puedes ejecutar como máximo 16 tareas al mismo tiempo para un DAG dado a través de todos sus DAG Runs.\n",
    "\n",
    "- **`MAX_ACTIVE_RUNS_PER_DAG`** define el número de DAG Runs que pueden ejecutarse al mismo tiempo para un DAG dado. El valor por defecto es 16, lo que significa que para un DAG dado se pueden tener hasta 16 DAG Runs ejecutándose al mismo tiempo."
   ]
  }
 ],
 "metadata": {
  "language_info": {
   "name": "python"
  }
 },
 "nbformat": 4,
 "nbformat_minor": 2
}
