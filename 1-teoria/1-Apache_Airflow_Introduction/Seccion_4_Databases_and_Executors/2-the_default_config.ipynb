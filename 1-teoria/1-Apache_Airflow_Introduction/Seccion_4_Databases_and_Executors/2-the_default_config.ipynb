{
 "cells": [
  {
   "cell_type": "markdown",
   "metadata": {},
   "source": [
    "### **4.2 - The Default Config**"
   ]
  },
  {
   "cell_type": "markdown",
   "metadata": {},
   "source": [
    "Al ejecutar Airflow con Docker Compose, hay un par de cosas que hacer si quieres acceder al archivo de configuración y básicamente en tu terminal puedes escribir el comando docker-compose ps para acceder a los diferentes contenedores Docker. Y luego ejecutas el siguiente comando\n",
    "\n",
    "Para poder copiar el archivo de configuración de Airflow del contenedor al host a tu máquina.\n",
    "\n",
    "<center><img src=\"https://i.postimg.cc/D0VQzLyZ/a322.png\"></center>\n",
    "\n",
    "Y ahora a la izquierda puedes ver el archivo de configuración. Si lo abres, obtienes todos los ajustes de configuración que puedes modificar. Estos ajustes se dividen en secciones como core, como web server, Kubernetes y así sucesivamente. Hay muchas secciones. \n",
    "\n",
    "Puedes ver algunos ajustes aquí con la carpeta DAGs donde están tus dags.\n",
    "\n",
    "<center><img src=\"https://i.postimg.cc/rsS1RsK9/a323.png\"></center>\n",
    "\n",
    "Tienes el \"**`parallelism`**\", es decir, cuántas tareas quieres ejecutar al mismo tiempo, en una instancia dada de Airflow, y tienes el \"**`executor`**\" que define el executor que quieres usar. Por defecto, es el **`SequentialExecutor`** como se muestra ahí mismo.\n",
    "\n",
    "<center><img src=\"https://i.postimg.cc/28DFRQK9/a324.png\"></center>\n",
    "\n",
    "Pero como usamos Docker compose, si realmente quieres saber qué ejecutor estás usando ahora mismo, tienes que abrir el archivo **`docker-composer.yaml`**\n",
    "\n",
    "<center><img src=\"https://i.postimg.cc/ht4LhSg9/a325.png\"></center>\n",
    "\n",
    "y si te desplazas un poco hacia abajo, puedes ver las variables de entorno ahí mismo y mirar **AIRFLOW__CORE__EXECUTOR** que es el valor de **`CeleryExecutor`**.\n",
    "\n",
    "Así que, efectivamente, estás utilizando el **`CeleryExecutor`** y no el **`SequentialExecutor`** como se define en el archivo de configuración de airflow.\n",
    "\n",
    "<center><img src=\"https://i.postimg.cc/CLsCFZyh/a326.png\"></center>\n",
    "\n",
    "**¿Por qué?**\n",
    "\n",
    "Cuando se define una variable de entorno con Airflow__ la sección CORE donde el parámetro que se quiere modificar es \"__\" el nombre del parámetro EXECUTOR y se le da un valor. Esto anula el valor correspondiente en el archivo de configuración. Así por ejemplo, aquí como tenemos esta variable de entorno con el CeleryExecutor, esto anula el valor del SequentialExecutor correspondiente al parámetro \"executor\".\n",
    "\n",
    "<center><img src=\"https://i.postimg.cc/xjHy4xtb/a327.png\"></center>\n",
    "\n",
    "Vale, pues **`tener en cuenta básicamente que como usamos Docker, tenemos que modificar la configuración de Airflow a través de ese archivo y no a través del archivo de configuración de Airflow`**."
   ]
  }
 ],
 "metadata": {
  "language_info": {
   "name": "python"
  }
 },
 "nbformat": 4,
 "nbformat_minor": 2
}
