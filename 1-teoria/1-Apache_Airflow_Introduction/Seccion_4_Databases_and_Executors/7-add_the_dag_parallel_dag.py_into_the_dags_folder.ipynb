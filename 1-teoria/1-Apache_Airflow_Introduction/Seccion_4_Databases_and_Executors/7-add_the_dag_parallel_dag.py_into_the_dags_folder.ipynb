{
 "cells": [
  {
   "cell_type": "markdown",
   "metadata": {},
   "source": [
    "### **4.7 - Add the DAG parallel_dag.py into the dags folder**"
   ]
  },
  {
   "cell_type": "markdown",
   "metadata": {},
   "source": [
    "<center><img src=\"https://i.postimg.cc/8C2fdD8X/a346.png\"></center>\n",
    "<center><img src=\"https://i.postimg.cc/tRtn6LBD/a347.png\"></center>\n",
    "<center><img src=\"https://i.postimg.cc/KvGkDJVb/a348.png\"></center>\n",
    "<center><img src=\"https://i.postimg.cc/7Zc5DDLP/a349.png\"></center>"
   ]
  }
 ],
 "metadata": {
  "language_info": {
   "name": "python"
  }
 },
 "nbformat": 4,
 "nbformat_minor": 2
}
