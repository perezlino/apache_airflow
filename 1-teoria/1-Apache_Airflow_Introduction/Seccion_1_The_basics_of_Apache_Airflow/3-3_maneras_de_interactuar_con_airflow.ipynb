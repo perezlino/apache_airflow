{
 "cells": [
  {
   "cell_type": "markdown",
   "metadata": {},
   "source": [
    "### **1.3 - 3 maneras de interactuar con Airflow**"
   ]
  },
  {
   "cell_type": "markdown",
   "metadata": {},
   "source": [
    "#### **`UI`**\n",
    "\n",
    "Utilizarás mucho la interfaz de usuario, ya que te permite gestionar y supervisar tus data pipelines. Por ejemplo, si quieres comprobar los logs de tu tarea, utilizarás la UI. Si quieres obtener el historial de tus diagramas, etc."
   ]
  },
  {
   "cell_type": "markdown",
   "metadata": {},
   "source": [
    "#### **`CLI`**\n",
    "\n",
    "La command line interface. Es realmente útil en casos especiales, por ejemplo, si se quiere probar las tareas o si se quiere actualizar Airflow, o si se quiere inicializar Airflow."
   ]
  },
  {
   "cell_type": "markdown",
   "metadata": {},
   "source": [
    "#### **`REST API`**\n",
    "\n",
    "Es realmente útil cuando se quiere construir algo más allá de Airflow, o si se tiene un front-end y por ejemplo, en cuanto el cliente hace clic en un botón se quiere desencadenar (trigger) un DAG."
   ]
  }
 ],
 "metadata": {
  "language_info": {
   "name": "python"
  }
 },
 "nbformat": 4,
 "nbformat_minor": 2
}
