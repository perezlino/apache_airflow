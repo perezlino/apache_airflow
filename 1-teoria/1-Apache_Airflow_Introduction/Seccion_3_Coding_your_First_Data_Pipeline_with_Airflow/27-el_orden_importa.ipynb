{
 "cells": [
  {
   "cell_type": "markdown",
   "metadata": {},
   "source": [
    "### **3.27 - El orden importa**"
   ]
  },
  {
   "cell_type": "markdown",
   "metadata": {},
   "source": [
    "Si vas a la interfaz de usuario de Airflow y haces clic en user processing, luego haz clic en graph. \n",
    "\n",
    "Usted llega a esta vista.\n",
    "\n",
    "<center><img src=\"https://i.postimg.cc/PxzgFwBn/a278.png\"></center>\n",
    "\n",
    "Esto le da la representación de sus tareas en su data pipeline y como puede ver, son no están vinculadas de ninguna manera. Así que es hora de crear las dependencias entre sus tareas.\n",
    "\n",
    "Hagamos esto ahora.\n",
    "\n",
    "Por lo general, le recomiendo que siempre definir sus dependencias al final de su archivo DAG, y eso es lo que va a hacer ahora. Así que justo debajo de store_user escribe, create_table y luego utiliza el operador de desplazamiento  \">>\" Para definir esto, usted quiere ejecutar la tarea \"create_table\" primero y luego quiere ejecutar la tarea \"is_api_available\". Ves que el operador de desplazamiento \">>\" indica que quieres ejecutar \"create_table\" primero y luego \"is_api_available\". Luego añades uno nuevo y escribes \"extract_user\", luego otro operador de desplazamiento \">>\" y colocamos \"process_user\" y el último operador de desplazamiento \">>\" y esta vez colocamos \"store_user\" y ya está.\n",
    "\n",
    "<center><img src=\"https://i.postimg.cc/nr36ntFd/a279.png\"></center>\n",
    "\n",
    "Solo con hacer esto, guardas el archivo y vuelves al Airflow UI. Si actualizas la página, terminará con el siguiente data pipeline con las dependencias correctamente definidas. Primero se ejecutará \"create_table\", luego es \"is_api_available\", luego \"extract_user\", \"process_user\" y finalmente \"store_user\".\n",
    "\n",
    "<center><img src=\"https://i.postimg.cc/d3sbM0Yk/a280.png\"></center>"
   ]
  }
 ],
 "metadata": {
  "language_info": {
   "name": "python"
  }
 },
 "nbformat": 4,
 "nbformat_minor": 2
}
