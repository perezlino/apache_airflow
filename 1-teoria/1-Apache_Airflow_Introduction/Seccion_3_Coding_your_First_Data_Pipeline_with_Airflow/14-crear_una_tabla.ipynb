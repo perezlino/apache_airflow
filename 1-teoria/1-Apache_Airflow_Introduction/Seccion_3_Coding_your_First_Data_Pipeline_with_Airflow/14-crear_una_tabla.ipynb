{
 "cells": [
  {
   "cell_type": "markdown",
   "metadata": {},
   "source": [
    "### **3.14 - Crear una tabla**"
   ]
  },
  {
   "cell_type": "markdown",
   "metadata": {},
   "source": [
    "#### **`PostgresOperator`**\n",
    "\n",
    "Una vez que has definido tu DAG con los parámetros más básicos pero importantes, estás listo para implementar tu primera tarea. Y la primera tarea que quieres crear es crear tabla.\n",
    "\n",
    "<center><img src=\"https://i.postimg.cc/tJMKfhgJ/a208.png\"></center>\n",
    "\n",
    "Con Create Table vas a utilizar el operador Postgres para ejecutar una petición SQL contra una base de datos y crear una tabla.\n",
    "\n",
    "Siempre que quieras utilizar un operador, tienes que importar el operador correspondiente y para el operador **`Postgres es airflow.providers.postgres.operators.postgres import PostgresOperator`**.\n",
    "\n",
    "<center><img src=\"https://i.postimg.cc/dQNcLK9F/a209.png\"></center>\n",
    "\n",
    "A continuación se crea una variable \"**`create_table`**\" con el operador Postgres y se define el task ID '**`create_table`**'.\n",
    "\n",
    "Yo prefiero mantener el mismo nombre para ambos, el nombre de la variable y el task ID. El task ID aquí es el identificador único de su tarea. Siempre tienes que definir un task ID y debe ser único para todas las tareas que tengas en el mismo DAG.\n",
    "\n",
    "<center><img src=\"https://i.postimg.cc/SNXF9tZM/a210.png\"></center>\n",
    "\n",
    "Ya que interactúas con una base de datos, necesitas definir la conexión y esto es lo que puedes hacer con **`postgres_conn_id = 'postgres'`**.\n",
    "\n",
    "Aquí está el ID de la conexión que vas a crear después de este video.\n",
    "\n",
    "<center><img src=\"https://i.postimg.cc/7Z7FsJrP/a211.png\"></center>\n",
    "\n",
    "Por último, pero no menos importante, la SQL request que se desea ejecutar. En este caso como la SQL request es bastante grande, vamos a utilizar un par de apóstrofes triples simples y añadimos la primera línea CREATE TABLE IF NOT EXISTS users. La linea IF NOT EXISTS es muy importante aquí.\n",
    "\n",
    "Si no existe usuarios si no existe es muy importante aquí.\n",
    "\n",
    "**¿Por qué?**\n",
    "\n",
    "Porque si no lo usas y ejecutas la tarea dos veces, vas a terminar con un error diciendo que esta tabla ya existe. No quieres eso. Usted quiere asegurarse de que sus tareas son capaces de ser ejecutadas varias veces con la misma entrada. Siempre debe obtener la misma salida. Es muy importante tener esto en cuenta. Quieres ser capaz de reintentar tu tarea sin obtener ningún fallo.\n",
    "\n",
    "<center><img src=\"https://i.postimg.cc/0Q5hytMr/a212.png\"></center>\n",
    "\n",
    "A continuación, añadimos lo siguiente:\n",
    "\n",
    "<center><img src=\"https://i.postimg.cc/d3LX8L9Y/a213.png\"></center>\n",
    "\n",
    "Eso es todo. Esa es el segundo request y eso es lo que necesitamos para crear la tabla users en la base de datos Postgres con todas esas columnas.\n",
    "___"
   ]
  },
  {
   "cell_type": "markdown",
   "metadata": {},
   "source": [
    "#### **`Creación de una “conexión” en Airflow UI`**\n",
    "\n",
    "Guarde el archivo y es el momento de definir la conexión **`postgres`** para el ID de conexión Postgres (**`postgres_conn_id`**).\n",
    "\n",
    "<center><img src=\"https://i.postimg.cc/zBd6bnK7/a214.png\"></center>\n",
    "\n",
    "Para ello, vaya a la interfaz de usuario de Airflow y actualice la página. En la parte inferior de la página debería ver su DAG user_processing. Si no lo ves, es posible que tengas que esperar hasta 5 minutos antes de obtenerlo. Además, si tienes un problema en la parte superior de la página en rojo, trata de depurar ese problema. Tal vez cometiste un error con las sangrías o alguna otra cosa. Así que tómate tu tiempo. Intenta depurar ese error. Dicho esto, vamos a crear la conexión.\n",
    "\n",
    "<center><img src=\"https://i.postimg.cc/Jh59mwh9/a215.png\"></center>\n",
    "\n",
    "Así que vaya a **Admin > Connections** y **añada una nueva conexión** haciendo clic aquí.\n",
    "\n",
    "<center><img src=\"https://i.postimg.cc/m20xyNq6/a216.png\"></center>\n",
    "<center><img src=\"https://i.postimg.cc/C5X2JSvf/a217.png\"></center>\n",
    "\n",
    "A continuación tienes que definir el connection ID igual que en tu código. Así que escribe postgres. El tipo de conexión es postgres. No hay descripción, pero te aconsejo que definas una descripción a tus conexiones. El host es postgres, el login es airflow y el password es airflow. Por último, pero no menos importante, el puerto 5432. Puede guardar y ha creado con éxito su primera conexión en Airflow. Y usted debe hacer eso para cualquier operador que necesita tener una conexión. Así que cualquier operador que interactúa con una herramienta externa como Postgres, MySQL, ocho, DBT y así etc.\n",
    "____"
   ]
  },
  {
   "cell_type": "markdown",
   "metadata": {},
   "source": [
    "#### **`Creación conexión con pasos del curso`**\n",
    "\n",
    "<center><img src=\"https://i.postimg.cc/7ZgRMvSf/a218.png\"></center>\n",
    "<center><img src=\"https://i.postimg.cc/59RDfSxN/a219.png\"></center>\n",
    "<center><img src=\"https://i.postimg.cc/J4Hv0Hn3/a220.png\"></center>\n",
    "<center><img src=\"https://i.postimg.cc/y8q5Z6gM/a221.png\"></center>\n",
    "\n",
    "____"
   ]
  },
  {
   "cell_type": "markdown",
   "metadata": {},
   "source": [
    "#### **`Creación conexión con datos de Postgres instalado en UBUNTU de mi notebook`**\n",
    "\n",
    "<center><img src=\"https://i.postimg.cc/zf8cxdkp/a222.png\"></center>"
   ]
  }
 ],
 "metadata": {
  "language_info": {
   "name": "python"
  }
 },
 "nbformat": 4,
 "nbformat_minor": 2
}
