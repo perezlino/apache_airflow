{
 "cells": [
  {
   "cell_type": "markdown",
   "metadata": {},
   "source": [
    "### **3.21 - Process Users**"
   ]
  },
  {
   "cell_type": "markdown",
   "metadata": {},
   "source": [
    "Una vez que eres capaz de extraer el usuario de la API, el siguiente paso es procesar ese usuario. Y para ello vas a crear una nueva tarea con PythonOperator. PythonOperator te permite ejecutar una función python y nosotros vamos a hacerlo ahora mismo. Así que primero importamos el operador python y a continuación importamos: **`from pandas import json_normalize`**, ya que vamos a normalizar unos datos. \n",
    "\n",
    "<center><img src=\"http://i.postimg.cc/FK8prLZ2/a254.png\"></center>\n",
    "\n",
    "A continuación, se crea una nueva tarea process_user con el operador python, un task_id = process_user.\n",
    "\n",
    "Y el parámetro que debes especificar es python_callable con la función que quieres ejecutar. En este caso, _process_user.\n",
    "\n",
    "<center><img src=\"http://i.postimg.cc/2j4GY3BK/a255.png\"></center>\n",
    "\n",
    "Ahora es el momento de definir esta función. Puedes hacerlo en la parte superior del DAG justo antes.\n",
    "\n",
    "Así que def_process_user y añadir un parámetro ti por task instance. No voy a bucear en los detalles aquí de lo que esto es necesario, pero básicamente necesitamos ese parámetro para extraer los datos (pull the data) que han sido descargados por la task extract_user.\n",
    "\n",
    "\n",
    "Así que obtenemos los datos de extract_user en la tarea process_user. Como es un valor JSON necesitamos entrar en los resultados y procesamos el usuario con json_normalize. Así que el nombre, el apellido, el país, el nombre de usuario, la contraseña y el correo electrónico como se define en la tabla SQL que hemos creado antes.\n",
    "\n",
    "<center><img src=\"http://i.postimg.cc/GhdQmrFh/a256.png\"></center>\n",
    "\n",
    "Sólo hay que tener en cuenta que esta función es ejecutada por el operador python que obtenemos los datos descargados por extract_user en process_user.\n",
    "\n",
    "Y ahora sólo hacemos un poco de trabajo en los datos que vamos a almacenar como un archivo CSV processed_user.to_csv en el archivo /temp/processed_user.csv.\n",
    "\n",
    "Así que tomamos los datos y los almacenamos en un archivo CSV con algunos parámetros adicionales y eso es todo. Así que en este punto, has implementado con éxito el operador de Python para ejecutar una función de Python. Y créeme, este operador es extremadamente útil.\n",
    "\n",
    "<center><img src=\"http://i.postimg.cc/J4xQygx3/a257.png\"></center>\n"
   ]
  }
 ],
 "metadata": {
  "language_info": {
   "name": "python"
  }
 },
 "nbformat": 4,
 "nbformat_minor": 2
}
