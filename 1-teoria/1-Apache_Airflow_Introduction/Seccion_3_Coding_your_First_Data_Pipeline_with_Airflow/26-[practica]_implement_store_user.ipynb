{
 "cells": [
  {
   "cell_type": "markdown",
   "metadata": {},
   "source": [
    "### **3.26 - [Práctica] Implement store_user**"
   ]
  },
  {
   "cell_type": "markdown",
   "metadata": {},
   "source": [
    "En esta actividad, vas a implementar la tarea store_user que acabas de ver en el vídeo.\n",
    "\n",
    "<center><img src=\"https://i.postimg.cc/8zPqXcbq/a276.png\"></center>\n",
    "<center><img src=\"https://i.postimg.cc/8zKx2GKs/a277.png\"></center>"
   ]
  }
 ],
 "metadata": {
  "language_info": {
   "name": "python"
  }
 },
 "nbformat": 4,
 "nbformat_minor": 2
}
