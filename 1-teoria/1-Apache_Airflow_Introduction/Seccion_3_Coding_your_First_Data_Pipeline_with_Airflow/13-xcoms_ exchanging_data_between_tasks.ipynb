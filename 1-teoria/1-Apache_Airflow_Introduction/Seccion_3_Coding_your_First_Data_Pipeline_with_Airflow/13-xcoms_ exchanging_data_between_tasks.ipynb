{
 "cells": [
  {
   "cell_type": "markdown",
   "metadata": {},
   "source": [
    "### **3.13 - XComs : Exchanging data between tasks** "
   ]
  },
  {
   "cell_type": "markdown",
   "metadata": {},
   "source": [
    "¿Podemos compartir datos entre tareas?\n",
    "\n",
    "Y la respuesta es que sí se puede, pero con limitaciones. La forma de compartir datos entre sus tareas en Airflow se define como XComs. Siempre que quieras compartir entre tus tareas en un DAG, vas a utilizar XComs. XComs significa comunicación cruzada (cross-comunication) y le permite intercambiar una pequeña cantidad de datos entre sus tareas.\n",
    "\n",
    "Digamos que queremos transferir datos, queremos intercambiar algunos datos entre \"downloading_data\" y \"checking_data\". En primer lugar, usted tiene que crear su XCom. En la función \"_downloading_data\" para crear el XCom con el valor con los datos que queremos compartir, la forma más sencilla de hacerlo es alcanzar un valor (reach out a value). Así que si escribimos \"return\", digamos, \"42\" este valor se encapsulará automáticamente en tu XCom y luego podrás jalar (pull) ese XCom desde otra tarea para leerlo.\n",
    "\n",
    "<center><img src=\"https://i.postimg.cc/rygDK7vN/a195.png\"></center>\n",
    "\n",
    "Guardemos el archivo y nos dirigimos a la UI de Airflow. Encendemos el Toggle y refrescamos la página y luego:\n",
    "\n",
    "<center><img src=\"https://i.postimg.cc/Yq9hgb7K/a196.png\"></center>\n",
    "\n",
    "Esta vez tenemos algunos XComs. Y en realidad el primer XCom corresponde al XCom que hemos creado desde la función \"_downloading_data\" con el valor \"42\". Lo que hay que saber es que el XCom se describe con una Key \"return_value\" que se utiliza para obtener el XCom de la meta database. El XCom se almacena en la meta database de Airflow. Y luego tenemos el valor que puede ser un JSON ......., luego tenemos la timestamp cuando el XCom fue creado, la Execution date correspondiente a la execution date del DAG Run, donde el XCom fue creado, el Task_ID donde está el XCom, así como el DAG ID.\n",
    "\n",
    "<center><img src=\"https://i.postimg.cc/DyMmcLfW/a197.png\"></center>\n",
    "\n",
    "Ahora, ¿cómo podemos recuperar este valor de checking_data?\n",
    "\n",
    "Necesitamos utilizar un método especial para extraer el XCom de la meta database de Airflow, y ese método es \"xcom_pull\". Para acceder a \"xcom_pull\" tenemos que acceder al contexto del DAG Run. Y en el contexto tenemos el task instance object, que es \"ti\". Una vez que tenemos \"ti\", podemos acceder al método \"xcom_pull\".\n",
    "\n",
    "<center><img src=\"https://i.postimg.cc/C5KLGLWH/a198.png\"></center>\n",
    "\n",
    "Guardamos el archivo y nos dirigimos la UI de Airflow:\n",
    "\n",
    "Damos clic:\n",
    "\n",
    "<center><img src=\"https://i.postimg.cc/L8g5Q5hx/a199.png\"></center>\n",
    "\n",
    "Haga clic en \"Clear the state\" para reiniciar el DAG.\n",
    "\n",
    "<center><img src=\"https://i.postimg.cc/wBKvCzmg/a200.png\"></center>\n",
    "<center><img src=\"https://i.postimg.cc/k4sgRthg/a201.png\"></center>\n",
    "\n",
    "Ahora esperamos unos momentos y damos clic en el DAG\n",
    "\n",
    "<center><img src=\"https://i.postimg.cc/zfnB5QCW/a202.png\"></center>\n",
    "\n",
    "Clic en Graph View y luego en checking_data\n",
    "\n",
    "<center><img src=\"https://i.postimg.cc/bJpvvRg5/a203.png\"></center>\n",
    "\n",
    "Luego en Log\n",
    "\n",
    "<center><img src=\"https://i.postimg.cc/KvR84j7m/a204.png\"></center>\n",
    "\n",
    "Obtenemos el valor almacenado en el XCom.\n",
    "\n",
    "<center><img src=\"https://i.postimg.cc/65g5ZKzn/a205.png\"></center>\n",
    "\n",
    "Así es como puedes compartir datos entre tus tareas utilizando XComs. Usted empuja (push) el XCom usando la palabra clave \"return\" y luego obtiene el XCom de la meta database de Airflow usando \"xcom_pull\".\n",
    "\n",
    "Otra forma de empujar (push) su XCom es usando \"xcom_push\":\n",
    "\n",
    "<center><img src=\"https://i.postimg.cc/Sx9Q7Pt5/a206.png\"></center>\n",
    "<center><img src=\"https://i.postimg.cc/SKpSZGBK/a207.png\"></center>\n"
   ]
  }
 ],
 "metadata": {
  "language_info": {
   "name": "python"
  }
 },
 "nbformat": 4,
 "nbformat_minor": 2
}
