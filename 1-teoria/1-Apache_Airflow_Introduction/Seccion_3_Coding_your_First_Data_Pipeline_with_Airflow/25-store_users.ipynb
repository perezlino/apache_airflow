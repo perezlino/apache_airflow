{
 "cells": [
  {
   "cell_type": "markdown",
   "metadata": {},
   "source": [
    "### **3.25 - Store Users**"
   ]
  },
  {
   "cell_type": "markdown",
   "metadata": {},
   "source": [
    "Es hora de implementar la última tarea de nuestro data pipeline para almacenar los usuarios procesados en la tabla que has creado al principio de esta sección. Y para ello necesitas utilizar el PostgresHook.\n",
    "\n",
    "Así que el primer paso es importar el PostgresHook, a continuación, crear la función de python, _store_user con el fin de interactuar con la base de datos mediante el PostgresHook.\n",
    "\n",
    "<center><img src=\"https://i.postimg.cc/Xqf84KnQ/a272.png\"></center>\n",
    "<center><img src=\"https://i.postimg.cc/Y2Y867QY/a273.png\"></center>\n",
    "\n",
    "Así que primero instancias un objeto hook, con el PostgresHook. Se define la conexión postgres connection id = postgres como se definió anteriormente. Luego utilizamos hook con el método copy_expert con el fin de hacer una copia del archivo CSV en la tabla users. Así que con la SQL request \"COPY users\" y la ruta del archivo processed_user.csv y eso es todo para esta función.\n",
    "\n",
    "<center><img src=\"https://i.postimg.cc/bNRT5RCv/a274.png\"></center>\n",
    "\n",
    "El último paso es crear el operador de python correspondiente.\n",
    "\n",
    "Así que se crea la tarea store_user, se llama al PythonOperator. Luego se define la task_id = store_user. Luego, por último, pero no menos importante, llamas al método, _store_user, y eso es todo.\n",
    "\n",
    "<center><img src=\"https://i.postimg.cc/J48xKFQg/a275.png\"></center>\n",
    "\n",
    "Has implementado con éxito la tarea \"store_user\" que utiliza el hook de Postgres para copiar los usuarios de este fichero en la tabla \"users\" que creaste en la primera tarea \"create_table\" y ten en cuenta que el método copy_expert no existe desde el operador PostgreSQL. Tienes que usar el PostgresHook para eso y por eso siempre te recomiendo que le eches un vistazo al hook para ver qué métodos puedes usar.\n"
   ]
  }
 ],
 "metadata": {
  "language_info": {
   "name": "python"
  }
 },
 "nbformat": 4,
 "nbformat_minor": 2
}
