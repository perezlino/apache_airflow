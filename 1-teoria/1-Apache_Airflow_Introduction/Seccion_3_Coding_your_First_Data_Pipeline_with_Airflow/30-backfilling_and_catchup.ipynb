{
 "cells": [
  {
   "cell_type": "markdown",
   "metadata": {},
   "source": [
    "### **3.30 - Backfilling & Catchup** "
   ]
  },
  {
   "cell_type": "markdown",
   "metadata": {},
   "source": [
    "#### **`Apuntes Astronomer Apache Airflow Fundamentals`**\n",
    "\n",
    "Me gustaría mostrarte uno de los mecanismos más importantes de Airflow.\n",
    "\n",
    "El proceso de **`Backfilling`** le permite ejecutar o volver a ejecutar DAG Runs pasadas no disparadas o ya disparadas. Por ejemplo, imaginemos que ha cometido un error en su DAG. Pues bien, usted planteó su DAG, digamos que durante cinco días y tan pronto como arregló su problema, quiere empezar a programar (scheduling) sus tareas de nuevo. Obviamente durante este periodo de tiempo, terminas con DAG Runs no disparadas. Por defecto, tan pronto como empiece a programar (scheduling) su DAG de nuevo, todas las DAG Runs no disparadas durante ese periodo de tiempo serán automáticamente disparadas por Airflow.\n",
    "\n",
    "Supongamos que acaba de crear un nuevo data pipeline y desea procesar los datos entre la start date, que se ha fijado en dos meses, y la fecha actual. Puede hacerlo por defecto. Airflow ejecutará todas las DAG Runs no disparadas entre la start date y la fecha actual.  Por lo tanto, es muy probable que interactúe mucho con el proceso de Backfilling.\n",
    "\n",
    "La siguiente pregunta es, ¿cuál es el parámetro para activar o desactivar este comportamiento? Bueno, hay que especificar el parámetro \"**`catchup`**\" en el objeto DAG. El caso por defecto es \"catchup=True\":\n",
    "\n",
    "<center><img src=\"https://i.postimg.cc/GtzVQn6F/a299.png\"></center>\n",
    "\n",
    "Si desea desactivar el proceso de backfilling, es decir, ejecutar automáticamente las DAG Runs pasadas no disparadas o ya disparadas, sólo tiene que establecer el parámetro \"catchup\" en \"False\":\n",
    "\n",
    "<center><img src=\"https://i.postimg.cc/1382pTBF/a300.png\"></center>\n",
    "\n",
    "Veamos un ejemplo:\n",
    "\n",
    "<center><img src=\"https://i.postimg.cc/BnRyNg7V/a301.png\"></center>\n",
    "\n",
    "Current date = fecha actual = 21/02\n",
    "\n",
    "Three days ago = Tres días atrás = 18/02\n",
    "\n",
    "Tendríamos 3 DAG Runs que se ejecutarían de manera automática:\n",
    "\n",
    "<center><img src=\"https://i.postimg.cc/ZYLGZ60W/a302.png\"></center>\n",
    "<center><img src=\"https://i.postimg.cc/TPmssDZY/a303.png\"></center>\n",
    "\n",
    "Pero, ¿qué ocurre si la start date se fija en dos años atrás y el schedule interval se define en 10 minutos? Como puedes imaginar, terminarás con miles o quizás cientos de DAG Runs. Entonces, ¿cómo se puede arreglar esto? ¿Cómo puede evitar acabar con muchas ejecuciones de DAG Runs? ¿Hay alguna manera de cambiar este comportamiento? Sólo tienes que desactivar el parámetro \"catchup\". Debes enviar el parámetro \"catchup\" a \"False\". Sólo los últimos DAG Runs no disparados serán automáticamente disparados por el scheduler.\n",
    "\n",
    "<center><img src=\"https://i.postimg.cc/26DtN5Dd/a304.png\"></center>\n",
    "\n",
    "Como puedes ver, sólo tenemos un DAG Run completado. ¿Por qué? Porque como el parámetro catchup está configurado como False, sólo el último DAG Run no disparado ha sido automáticamente disparado por el scheduler.\n",
    "\n",
    "<center><img src=\"https://i.postimg.cc/8PKxfDRD/a305.png\"></center>\n",
    "\n",
    "Este parámetro \"max_active_runs\" define el número máximo de DAG Runs, para un DAG específico que se permite ejecutar al mismo tiempo. Por lo tanto, si se establece este parámetro en 1, sólo se ejecutará un DAG Run a la vez.\n",
    "\n",
    "<center><img src=\"https://i.postimg.cc/xC34fSfw/a306.png\"></center>\n",
    "\n",
    "Si desea mantener el parámetro \"catchup\" en \"False\" puede seguir ejecutando su proceso de Backfilling a través del command line interface.\n",
    "___"
   ]
  },
  {
   "cell_type": "markdown",
   "metadata": {},
   "source": [
    "#### **`Apuntes Udemy Apache Airflow Introduction`**\n",
    "\n",
    "Digamos que tienes el siguiente data pipeline que se dispara todos los días a medianoche. Y la fecha de inicio de este data pipeline es el 3 de enero de 2022 y la fecha actual es el 7 de enero de 2022. Si ejecuta su DAG por primera vez, el Scheduler ejecuta automáticamente los \"DAG runs\" no disparados entre el ahora y la fecha de inicio. Así que usted termina con lo siguiente que se ejecuta en marcha. Este es el mecanismo de catch up (puesta al día).\n",
    "\n",
    "<center><img src=\"https://i.postimg.cc/5NNZtjFn/a307.png\"></center>\n",
    "\n",
    "El mecanismo catch up le permite ejecutar automáticamente las \"DAG runs\" no disparadas entre la última vez que su DAG fue disparada y la fecha actual. Así que, por ejemplo, si pausas tu DAG durante dos días y luego introduces tu DAG, terminarás con algunas ejecuciones de DAG correspondientes a las ejecuciones de DAG no disparadas para este período de tiempo.\n",
    "\n",
    "Ahora el mecanismo de Backfilling le permite ejecutar \" DAG runs\" históricos, por ejemplo, usted quiere ejecutar su DAG antes de la fecha de inicio del 1 de enero de 2022 al 3 de enero de 2022. Usted puede hacer eso. Hay un comando para esto que es airflow dags backfill y terminará con los siguientes \"DAG runs\". Así que el mecanismo de backfilling le permite ejecutar \"DAG runs\" históricos.\n",
    "\n",
    "<center><img src=\"https://i.postimg.cc/Gt3S9S9H/a308.png\"></center>\n",
    "\n",
    "Ahora puede modificar el comportamiento del mecanismo de catchup poniéndolo en false a nivel del DAG, y en este caso sólo se ejecutará la última ejecución del DAG no disparada.\n",
    "\n",
    "Una vez más, este mecanismo es realmente poderoso porque le permite volver a ejecutar automáticamente las ejecuciones DAG no disparadas anteriormente.\n",
    "\n",
    "<center><img src=\"https://i.postimg.cc/05ZBhxHm/a309.png\"></center>"
   ]
  }
 ],
 "metadata": {
  "language_info": {
   "name": "python"
  }
 },
 "nbformat": 4,
 "nbformat_minor": 2
}
