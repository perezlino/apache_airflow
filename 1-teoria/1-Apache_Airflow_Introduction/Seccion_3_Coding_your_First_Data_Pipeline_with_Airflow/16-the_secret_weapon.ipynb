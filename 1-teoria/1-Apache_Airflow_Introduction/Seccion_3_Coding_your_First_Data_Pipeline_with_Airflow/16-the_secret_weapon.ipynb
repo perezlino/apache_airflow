{
 "cells": [
  {
   "cell_type": "markdown",
   "metadata": {},
   "source": [
    "### **3.16 - The Secret Weapon**"
   ]
  },
  {
   "cell_type": "markdown",
   "metadata": {},
   "source": [
    "Cuando añadas una nueva tarea a tu DAG, te aconsejo encarecidamente que la pruebes siempre. Y para eso hay un comando que puedes usar. Déjame mostrarte esto en tu código de Visual Studio, en la terminal escribe, **`docker-compose ps`**, luego escribes **`docker exec-it`**, luego copias el **Scheduler**, el nombre del scheduler, lo pegas y **`/bin/bash`**. Le das a enter.\n",
    "\n",
    "<center><img src=\"https://i.postimg.cc/BnfBJXkV/a226.png\"></center>\n",
    "<center><img src=\"https://i.postimg.cc/1XNDQQHS/a227.png\"></center>\n",
    "\n",
    "Y ahora, como puedes ver en el prompt, estás dentro del contenedor Docker, dentro de la pequeña VM donde funciona el Scheduler de Airflow. Desde ahí puedes acceder al CLI de Airflow.\n",
    "\n",
    "<center><img src=\"https://i.postimg.cc/zfJwR4Jw/a228.png\"></center>\n",
    "\n",
    "Así, si escribe **`airflow-h`**, podrá ver todos los comandos que puede ejecutar con la CLI de Airflow.\n",
    "\n",
    "<center><img src=\"https://i.postimg.cc/Tw1rtm5p/a229.png\"></center>\n",
    "<center><img src=\"https://i.postimg.cc/W3y0C30S/a230.png\"></center>\n",
    "\n",
    "En este caso, sólo quiere ejecutar el siguiente comando airflow tasks test. La tarea que quieres comprobar es user_processing, el task ID que quieres comprobar y la fecha en el pasado digamos 2022-01-01.\n",
    "\n",
    "<center><img src=\"https://i.postimg.cc/KYJP7Qz6/a231.png\"></center>\n",
    "\n",
    "Dale a enter y esperemos un poco y como puedes ver usted tiene su tarea que se ha ejecutado con éxito como se muestra con el success allí mismo.\n",
    "\n",
    "<center><img src=\"https://i.postimg.cc/Bt9HZVYK/a232.png\"></center>\n",
    "\n",
    "Finalmente, para salir del contenedor Docker, pulsa CTRL + D en el terminal y ahora estarás de vuelta en tu terminal con el prompt."
   ]
  }
 ],
 "metadata": {
  "language_info": {
   "name": "python"
  }
 },
 "nbformat": 4,
 "nbformat_minor": 2
}
