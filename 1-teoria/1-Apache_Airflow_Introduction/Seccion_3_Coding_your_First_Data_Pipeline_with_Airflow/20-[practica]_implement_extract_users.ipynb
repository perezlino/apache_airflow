{
 "cells": [
  {
   "cell_type": "markdown",
   "metadata": {},
   "source": [
    "### **3.20 - [Práctica] Implement_extract users**"
   ]
  },
  {
   "cell_type": "markdown",
   "metadata": {},
   "source": [
    "En esta actividad, vas a implementar la tarea extract_users que acabas de ver en el vídeo.\n",
    "\n",
    "<center><img src=\"https://i.postimg.cc/rwNhMs0J/a252.png\"></center>\n",
    "<center><img src=\"https://i.postimg.cc/rmKg19hn/a253.png\"></center>"
   ]
  }
 ],
 "metadata": {
  "language_info": {
   "name": "python"
  }
 },
 "nbformat": 4,
 "nbformat_minor": 2
}
