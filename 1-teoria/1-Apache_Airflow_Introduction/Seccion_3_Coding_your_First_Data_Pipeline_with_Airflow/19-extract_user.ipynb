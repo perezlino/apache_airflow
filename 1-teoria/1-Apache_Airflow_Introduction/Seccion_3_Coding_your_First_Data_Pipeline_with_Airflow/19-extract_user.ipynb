{
 "cells": [
  {
   "cell_type": "markdown",
   "metadata": {},
   "source": [
    "### **3.19 - Extract users**"
   ]
  },
  {
   "cell_type": "markdown",
   "metadata": {},
   "source": [
    "#### **`SimpleHttpSensor`**\n",
    "\n",
    "En este punto, usted es capaz de crear una tabla y verificar si la API está disponible o no. Así que es el momento de extraer los datos de esa API. Y para ello vas a utilizar el SimpleHttpOperator así como el primer paso. Importa ese operador y como vamos a usar JSON, necesitamos importar también JSON.\n",
    "\n",
    "<center><img src=\"https://i.postimg.cc/zvb60Nfg/a249.png\"></center>\n",
    "\n",
    "Ahora, como de costumbre, añadir una nueva tarea en la parte inferior de su archivo. Llamémosla extract_user. Instanciamos el SimpleHttpOperator y creamos el task ID = extract_user. Es exactamente igual que con el sensor HTTP o cualquier otro operador, tienes que especificar el task ID, luego el HTTP connection ID es user_api así como usamos la API para extraer los usuarios y definimos que el endpoint = api/ como para el sensor HTTP.\n",
    "\n",
    "<center><img src=\"https://i.postimg.cc/gcx2f6Xv/a250.png\"></center>\n",
    "\n",
    "Ahora, existen algunos parámetros adicionales específicos de la operación SimpleHttp, donde el primer método que tenemos es el **`método get`**. Sólo queremos solicitar la API. No queremos enviar ningún dato y utilizamos **`response_filter`** para extraer los datos y transformar estos datos en un formato decente. Y para ello podemos definir un **`lambda, una función python`** que cargue la respuesta, el texto, en un diccionario python.\n",
    "\n",
    "Luego, por último, pero no menos importante, queremos registrar (**`log`**) la respuesta para que usted sea capaz de ver la respuesta que se obtiene en los logs en la interfaz de usuario.\n",
    "\n",
    "Y eso es todo.\n",
    "\n",
    "Sólo haciendo esto usted es capaz de obtener los datos de la API como se define en la connection ID =  user_api.\n",
    "\n",
    "<center><img src=\"https://i.postimg.cc/mZKgR2CK/a251.png\"></center>\n"
   ]
  }
 ],
 "metadata": {
  "language_info": {
   "name": "python"
  }
 },
 "nbformat": 4,
 "nbformat_minor": 2
}
