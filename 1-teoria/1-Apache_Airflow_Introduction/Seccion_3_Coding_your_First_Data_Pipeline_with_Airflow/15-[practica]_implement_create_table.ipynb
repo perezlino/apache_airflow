{
 "cells": [
  {
   "cell_type": "markdown",
   "metadata": {},
   "source": [
    "### **3.15 - [Práctica] Implement Create Table**"
   ]
  },
  {
   "cell_type": "markdown",
   "metadata": {},
   "source": [
    "<center><img src=\"https://i.postimg.cc/gcyycYyS/a223.png\"></center>\n",
    "<center><img src=\"https://i.postimg.cc/Yqp6hJbp/a224.png\"></center>\n",
    "<center><img src=\"https://i.postimg.cc/xTtKHt4L/a225.png\"></center>"
   ]
  }
 ],
 "metadata": {
  "language_info": {
   "name": "python"
  }
 },
 "nbformat": 4,
 "nbformat_minor": 2
}
