{
 "cells": [
  {
   "cell_type": "markdown",
   "metadata": {},
   "source": [
    "### **3.7 - ¿Que es una Task Instance Object?**"
   ]
  },
  {
   "cell_type": "markdown",
   "metadata": {},
   "source": [
    "Y cuando una Tarea está lista para ser programada (scheduled), esa tarea se convierte en una Task Instance Object. Una Task Instance Object representa una ejecución específica de una tarea. Así que, básicamente, dondequiera que se dispare (triggered) una Tarea, esa Tarea se convierte en una Task Instance Obejct."
   ]
  }
 ],
 "metadata": {
  "language_info": {
   "name": "python"
  }
 },
 "nbformat": 4,
 "nbformat_minor": 2
}
