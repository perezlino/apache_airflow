{
 "cells": [
  {
   "cell_type": "markdown",
   "metadata": {},
   "source": [
    "### **3.22 - Before running process_user**"
   ]
  },
  {
   "cell_type": "markdown",
   "metadata": {},
   "source": [
    "Si vas a la interfaz de Airflow y miras tu DAG, terminarás con este montón de tareas que no tienen dependencias y tienes que tener cuidado porque si disparas (trigger) tu data pipeline, terminarás con un issue.\n",
    "\n",
    "<center><img src=\"http://i.postimg.cc/g0YY4g6K/a258.png\"></center>\n",
    "\n",
    "Selecciona la fase process_user. Haga clic en él. Echa un vistazo al log.\n",
    "\n",
    "<center><img src=\"http://i.postimg.cc/2jqB45YS/a259.png\"></center>\n",
    "<center><img src=\"http://i.postimg.cc/mg4zfNHP/a260.png\"></center>\n",
    "\n",
    "Y como puedes ver, te sale este mensaje ¿por qué? Porque process_user espera un Xcom del usuario extraído que viene de la tarea anterior extract_user. \n",
    "\n",
    "Pero la cosa es que como todavía no tienes ninguna dependencia, todas esas tareas se ejecutan al mismo tiempo. Y por eso process_user no obtiene la salida de extract_user porque extract_user tiene que ejecutarse primero y luego process_user. \n",
    "\n",
    "Así que tienes que arreglar las dependencias y lo haremos más adelante en esta sección. Mientras tanto, si quieres comprobar el usuario de proceso, puedes hacerlo con el comando airflow tasks test, pero necesitas respetar el orden. Así que déjame mostrarte esto. Si vuelves a tu terminal, el comando docker-compose ps, luego copia el container ID del Scheduler,\n",
    "\n",
    "<center><img src=\"http://i.postimg.cc/W3dt65QH/a261.png\"></center>\n",
    "\n",
    "entonces escribe docker exec dash -it materials_airflow-scheduler_1 /bin/bash, pulsa enter, ejecuta el comando airflow tasks test user_processing extract_user el 2022-01-01 para ejecutar la tarea extract_user y crear el Xcom que process_user necesita para funcionar.\n",
    "\n",
    "<center><img src=\"http://i.postimg.cc/dtrkxSLM/a262.png\"></center>\n",
    "<center><img src=\"http://i.postimg.cc/B6Rbhx3Q/a263.png\"></center>\n",
    "\n",
    "Una vez hecho esto, si vuelves a la UI y vas a admin --> Xcoms, deberías ver que viene una Xcom con la siguiente fecha de ejecución. Si no es así, quita la Xcom que tienes y vuelve a intentarlo. Vuelve a tu terminal y ahora tienes que ejecutar el mismo comando, pero esta vez con process_user en lugar de extract_user. Así que si ejecutas process_user, le das a enter, esperas un poco y ya funciona.\n",
    "\n",
    "<center><img src=\"http://i.postimg.cc/8zbF1JRt/a264.png\"></center>\n",
    "<center><img src=\"http://i.postimg.cc/hGyfdk3m/a265.png\"></center>\n",
    "<center><img src=\"http://i.postimg.cc/zfXy3zp5/a266.png\"></center>\n",
    "<center><img src=\"http://i.postimg.cc/kg74hJ08/a267.png\"></center>\n",
    "<center><img src=\"http://i.postimg.cc/wjFvKKzr/a268.png\"></center>"
   ]
  }
 ],
 "metadata": {
  "language_info": {
   "name": "python"
  }
 },
 "nbformat": 4,
 "nbformat_minor": 2
}
