{
 "cells": [
  {
   "cell_type": "markdown",
   "metadata": {},
   "source": [
    "### **3.28 - Nuestro DAG en acción**"
   ]
  },
  {
   "cell_type": "markdown",
   "metadata": {},
   "source": [
    "Por último, es el momento de probar su DAG. Has hecho todas las tareas. Es hora de ejecutarla.\n",
    "\n",
    "Así que en user processing, haz clic en este toggle y actualiza la página. Entonces vamos a esperar un poco para ver si todo va bien. Así que create_table se ha ejecutado con éxito. Lo mismo para is_api_available, extract_users también. Y ya hemos terminado. Eso ha sido muy rápido.\n",
    "\n",
    "<center><img src=\"https://i.postimg.cc/Kvr5k5t2/a281.png\"></center>\n",
    "\n",
    "Vamos a ver lo que tienes en tu terminal, escribe docker dash-compose ps, luego copia el nombre del contenedor del worker y escribe docker exec -it materials_airflow-worker_1 /bin/bash.\n",
    "\n",
    "<center><img src=\"https://i.postimg.cc/Wp0GC7Wk/a282.png\"></center>\n",
    "<center><img src=\"https://i.postimg.cc/1tqG90yb/a283.png\"></center>\n",
    "\n",
    "Una vez que estés en el contenedor Docker como muestra el prompt, puedes escribir ls/tmp y como puedes ver, tienes el archivo processed_user.csv como se define en la tarea \"process_user\".\n",
    "\n",
    "<center><img src=\"https://i.postimg.cc/kgTFwXjY/a284.png\"></center>\n",
    "\n",
    "Bien hecho. Vamos a ver en la base de datos si tienes los datos.\n",
    "\n",
    "Así que para eso:\n",
    "\n",
    "- CTRL + D \n",
    "- Escribe docker-compose ps \n",
    "- Copia el nombre del contenedor de la base de datos Postgres \n",
    "- Escribe docker exec -it materials_postgres_1 /bin /bash\n",
    "- Pulsa enter y ya estás en la acción del contenedor por el prompt.\n",
    "- A continuación, escribe psql -Uairflow\n",
    "- Pulsa enter \n",
    "- Escribe SELECT * FROM users \n",
    "- Pulsa enter\n",
    "\n",
    "y como puedes ver, tienes dos usuarios, Sophia and Aidan. Así que eso significa que usted ha procesado con éxito los usuarios y los almacena en la tabla users.\n",
    "\n",
    "<center><img src=\"https://i.postimg.cc/br01nzDT/a285.png\"></center>\n",
    "<center><img src=\"https://i.postimg.cc/DzDQkp3q/a286.png\"></center>\n",
    "<center><img src=\"https://i.postimg.cc/nLMKWbgF/a287.png\"></center>\n",
    "<center><img src=\"https://i.postimg.cc/Xq6wXZJq/a288.png\"></center>"
   ]
  }
 ],
 "metadata": {
  "language_info": {
   "name": "python"
  }
 },
 "nbformat": 4,
 "nbformat_minor": 2
}
