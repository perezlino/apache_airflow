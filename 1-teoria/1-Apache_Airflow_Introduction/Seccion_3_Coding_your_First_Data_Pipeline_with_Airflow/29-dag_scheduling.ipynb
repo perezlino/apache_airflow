{
 "cells": [
  {
   "cell_type": "markdown",
   "metadata": {},
   "source": [
    "### **3.29 - DAG Scheduling**"
   ]
  },
  {
   "cell_type": "markdown",
   "metadata": {},
   "source": [
    "Déjenme mostrarles cómo sus DAGs están programando (scheduling) airflow. Y hay un par de parámetros que usted necesita saber. El primero es el \"start_date\". El start_date define la fecha en la que su DAG comienza a ser programado, por ejemplo, el 1 de enero de 2022.\n",
    "\n",
    "A continuación, tienes el \"schedule_interval\" que define la frecuencia con la que tu DAG se dispara (triggered), cada 10 minutos, cada 5 minutos, una vez al día, etc.\n",
    "\n",
    "Por último, pero no menos importante, tienes la \"end_date\" que define la fecha en la que quieres detener tu DAG. No tienes que definirla, pero puedes hacerlo.\n",
    "\n",
    "<center><img src=\"https://i.postimg.cc/ZK8hWXf5/a289.png\"></center>\n",
    "\n",
    "Ahora, a nivel de DAG, tienes que definir la \"start_date\". Tienes que hacerlo con un \"datetime\" como se muestra ahí mismo, y necesitas definir el \"schedule_interval\" con la expresión cron o el objeto cadena. Si no sabes cómo definir las expresiones cron, echa un vistazo a la página web Contact Guru que te ayudará mucho. Y si te preguntas qué es @daily, detrás de escena, significa que el DAG se activa (triggered) todos los días a medianoche. Airflow te trae algunas expresiones cron preestablecidas como @daily, @hourly, @monthly, @weekly, y así sucesivamente. Echa un vistazo a la documentación completa para eso.\n",
    "\n",
    "<center><img src=\"https://i.postimg.cc/jj5Vk2RD/a290.png\"></center>\n",
    "\n",
    "Ahora bien, cuando activas eso, obtienes una \" DAG run \" y un \" DAG run \" cubre un intervalo de datos (date_interval) específico que siempre tiene un inicio de intervalo de datos (date_interval_start), por ejemplo, aquí el 1 de enero de 2022, y el intervalo de datos terminará (date_interval_end) aquí el 2 de enero de 2022.\n",
    "\n",
    "<center><img src=\"https://i.postimg.cc/SxVFrCb0/a291.png\"></center>\n",
    "\n",
    "Y dicho esto, cuando tu DAG se dispara realmente, bueno, ten en cuenta que, un DAG se dispara después de la fecha de inicio (start_date) o la última vez que tu DAG se disparó, más el schedule_interval.\n",
    "\n",
    "<center><img src=\"https://i.postimg.cc/qq2WCCx5/a292.png\"></center>\n",
    "\n",
    "Así que déjame mostrarte esto.\n",
    "\n",
    "Tienes un DAG con la fecha de inicio, el 1 de enero de 2022 a las 10 a.m. Eso se dispara cada 10 minutos. Al principio, no pasa nada, pero a las 10 de la mañana, no pasa nada.\n",
    "\n",
    "Airflow espera 10 minutos y luego es a las 10 y 10 de la mañana cuando se desencadena efectivamente la primera \"DAG run\" una vez que se ha completado.\n",
    "\n",
    "<center><img src=\"https://i.postimg.cc/TP488xPC/a293.png\"></center>\n",
    "\n",
    "Ese \"DAG run\" tiene un date_interval_start que comienza a las 10 de la mañana y un date_interval_end a las diez y 10 de la mañana.\n",
    "\n",
    "<center><img src=\"https://i.postimg.cc/76GFwRGD/a294.png\"></center>\n",
    "<center><img src=\"https://i.postimg.cc/63kD3hnZ/a295.png\"></center>\n",
    "\n",
    "Para el segundo \"DAG run\", de nuevo a las diez y diez de la mañana, Airflow espera 10 minutos y es a las 10:20 de la mañana cuando se dispara efectivamente el segundo. Y para ese \" DAG run \", el date_interval_start es a las diez y 10 de la mañana y el date_interval_end es a las 10:20 de la mañana.\n",
    "\n",
    "<center><img src=\"https://i.postimg.cc/7PzFRprn/a296.png\"></center>\n",
    "\n",
    "Algo similar para el tercer \"DAG run\". Espera 10 minutos. El inicio del intervalo \"date_interval_start\" es a las 10:20 a.m. y el \"date_interval_end\" es a las 10:30 a.m.. Eso es lo que tienes que recordar. Su DAG es efectivamente disparado después de la fecha de inicio o la última vez que su dag fue disparado, más el schedule_interval. Eso es lo que puedes ver aquí.\n",
    "\n",
    "<center><img src=\"https://i.postimg.cc/28fsN2zR/a297.png\"></center>\n",
    "<center><img src=\"https://i.postimg.cc/SN7wSCsX/a298.png\"></center>"
   ]
  }
 ],
 "metadata": {
  "language_info": {
   "name": "python"
  }
 },
 "nbformat": 4,
 "nbformat_minor": 2
}
