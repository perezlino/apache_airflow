{
 "cells": [
  {
   "cell_type": "markdown",
   "metadata": {},
   "source": [
    "### **3.2 - ¿Que es un DAG?**"
   ]
  },
  {
   "cell_type": "markdown",
   "metadata": {},
   "source": [
    "Un DAG en Airflow es un data pipeline. Por lo tanto, cuando se crea un data pipeline, en realidad se está creando un DAG.\n",
    "\n",
    "Es un directed acyclic graph. Lo que significa que es un grafo con nodos y aristas (edges), pero las aristas son dirigidas (directed), es decir, tienen una dirección establecida y no hay ningún bucle (loop).\n",
    "\n",
    "<center><img src=\"https://i.postimg.cc/brGYhLfn/a92.png\"></center>\n",
    "\n",
    "En la siguiente imagen:\n",
    "\n",
    "<center><img src=\"https://i.postimg.cc/qM3BDmLV/a93.png\"></center>\n",
    "\n",
    "Tienes nodos que corresponden a tus tasks y tienes directed edges que corresponden a tus dependencias.\n",
    "\n",
    "Así que de ahí puedes ver que t5, t6 depende de t4 y t4 depende de t2 y t3, y estos dependen de t1.\n",
    "\n",
    "Así que básicamente se ejecutará primero t1, luego t2, t3, luego t4 y finalmente t5 y t6.\n",
    "\n",
    "-\tTen en cuenta que un DAG es un directed acyclic graph. \n",
    "-\tNodos, Tareas, Aristas corresponden a dependencias dirigidas \n",
    "-\ty no tienes ningún bucle en su DAG, de lo contrario no es un DAG.\n"
   ]
  }
 ],
 "metadata": {
  "language_info": {
   "name": "python"
  }
 },
 "nbformat": 4,
 "nbformat_minor": 2
}
