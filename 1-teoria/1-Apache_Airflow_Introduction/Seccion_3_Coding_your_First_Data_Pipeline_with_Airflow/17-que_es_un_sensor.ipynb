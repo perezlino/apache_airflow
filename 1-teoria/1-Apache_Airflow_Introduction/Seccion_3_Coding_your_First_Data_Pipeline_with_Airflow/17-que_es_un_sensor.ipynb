{
 "cells": [
  {
   "cell_type": "markdown",
   "metadata": {},
   "source": [
    "### **3.17 - ¿Que es un Sensor?**"
   ]
  },
  {
   "cell_type": "markdown",
   "metadata": {},
   "source": [
    "#### **`FileSensor`**\n",
    "\n",
    "`Apuntes Astronomer Apache Airflow Fundamentals`\n",
    "\n",
    "Un caso de uso muy común en Airflow es esperar a que un archivo llegue a una ubicación específica antes de pasar a la siguiente tarea. Y eso es lo que vamos a descubrir ahora. En Airflow, **`siempre que se quiera esperar a que un archivo exista en una carpeta específica, se utilizará el \"FileSensor\"`**. Y un \"Sensor\" es un tipo especial de Operator que espera que algo suceda, antes de pasar a la siguiente tarea.  \n",
    "\n",
    "<center><img src=\"https://i.postimg.cc/RFJJLfXM/a233.png\"></center>\n",
    "\n",
    "Nuestro papel es verificar que este archivo se ha creado como se esperaba en la carpeta /tmp. Para ello vamos a utilizar el FileSensor.\n",
    "\n",
    "<center><img src=\"https://i.postimg.cc/BQBLpJc1/a234.png\"></center>\n",
    "\n",
    "___"
   ]
  },
  {
   "cell_type": "markdown",
   "metadata": {},
   "source": [
    "### **`Creación de una “conexión” en Airflow UI`**\n",
    "\n",
    "¿Qué es fs_default? fs_default corresponde al ID de la conexión que necesita el FileSensor. Y esta conexión tenemos que crearla en la interfaz de usuario.\n",
    "\n",
    "<center><img src=\"https://i.postimg.cc/DwfWYRBp/a235.png\"></center>\n",
    "\n",
    "Aquí puedes crear tus conexiones. **`Siempre que tengas que interactuar con un sistema externo, que en este caso es el FileSystem, tienes que crear una conexión en Airflow`**. Y esta conexión será utilizada por el operator. Así que vamos a crear un nuevo registro:\n",
    "\n",
    "<center><img src=\"https://i.postimg.cc/K89KXQWG/a236.png\"></center>\n",
    "\n",
    "El valor \"Extra\" espera un valor JSON. En el caso del FileSensor el valor Extra es la carpeta donde debería existir el archivo:\n",
    "\n",
    "<center><img src=\"https://i.postimg.cc/BQ0P2jD0/a237.png\"></center>\n",
    "\n",
    "Como puede ver, la conexión se ha creado. Por defecto, el campo Extra y el campo Password están encriptados en la base de datos de Airflow. Una vez que tenemos la conexión, estamos listos para volver al código.\n",
    "\n",
    "<center><img src=\"https://i.postimg.cc/KjnKd26w/a238.png\"></center>\n",
    "\n",
    "___"
   ]
  },
  {
   "cell_type": "markdown",
   "metadata": {},
   "source": [
    "#### **`fs_conn_id, filepath y poke_interval`**\n",
    "\n",
    "Y hay un parámetro más que añadir que es:\n",
    "\n",
    "<center><img src=\"https://i.postimg.cc/s2vM37Fp/a239.png\"></center>\n",
    "\n",
    "Si te preguntas cómo funciona, pues bien, cada 30 segundos por defecto, el Sensor comprobará si se cumple la condición. Y este intervalo de tiempo está definido por un parámetro que es \"poke_interval\". Con el parámetro \"poke_interval\" puedes definir que quieres comprobar cada 30 segundos (que eso se realiza por defecto, no seria necesario especificar el poke_interval) o cada 15 segundos o el tiempo que quieras, si la condición se cumple o no.\n",
    "\n",
    "<center><img src=\"https://i.postimg.cc/Pq9PJJh0/a240.png\"></center>\n",
    "\n",
    "`Apuntes Udemy Apache Airflow Introduction`\n",
    "\n",
    "Permíteme que te ponga al día sobre los sensores, porque son muy importantes. Imaginemos que estás esperando a que llegue tu autobús y que estás sentado en ese banco durante un rato y, con suerte, en algún momento eres capaz de ver llegar tu autobús. Así que te levantas y entras en el autobús. Bueno, ¿adivina qué? Un sensor en el contexto de Airflow. Este eres tú esperando tu autobús. Pero en lugar de esperar un autobús, un sensor esperará lo que quieras. En Airflow, por ejemplo, los archivos para aterrizar en una ubicación específica o entradas en una tabla SQL. Depende de usted. Y hay muchos sensores que existen en Airflow.\n",
    "\n",
    "Lo que me gustaría que recordaras es que hay dos parámetros que debes conocer: \n",
    "\n",
    "-\t**`poke_interval`**: que está definido a 60 segundos por defecto. Así que cada 60 segundos el sensor comprueba si la condición es verdadera o no, antes de ejecutar la siguiente tarea.\n",
    "\n",
    "-\t**`timeout`**: que se define a siete días por defecto. Así que te aconsejo que siempre definir timeout para su sensor y, obviamente, dice en segundos cuando su sensor se termina y falla.\n",
    "\n",
    "\n",
    "Ahora en la interfaz de usuario, si usted activa su DAG activando el toggle allí mismo y esperar a que sus tareas para ser completado, si hace clic en **`is_api_available`**\n",
    "\n",
    "<center><img src=\"https://i.postimg.cc/59vFHBXg/a241.png\"></center>\n",
    "\n",
    "y comprueba los logs,\n",
    "\n",
    "<center><img src=\"https://i.postimg.cc/vBnDVyZT/a242.png\"></center>\n",
    "<center><img src=\"https://i.postimg.cc/nrtrKWXk/a243.png\"></center>\n",
    "<center><img src=\"https://i.postimg.cc/8cB5ZbWV/a244.png\"></center>\n",
    "\n",
    "y eso significa exactamente lo que significa. Significa que cada 60 segundos la caja verifica si esa URL es válida o no. **`Y ese es el objetivo de los sensores. Esperan a que ocurra algo antes de ejecutar la siguiente tarea`**.\n",
    "\n",
    "___"
   ]
  },
  {
   "cell_type": "markdown",
   "metadata": {},
   "source": [
    "#### **`HttpSensor`**\n",
    "\n",
    "Una vez que ha creado su primera tarea, está listo para crear la segunda tarea, que esta vez utiliza un tipo especial de operadores, los sensores y ¿qué son los sensores? Un sensor espera a que ocurra algo antes de pasar a la siguiente tarea. Y en este caso, queremos verificar si la API está disponible o no. Y para ello utilizamos el sensor HTTP.\n",
    "\n",
    "Como siempre, hay que crear una nueva variable. En este caso es **`is_api_available`** y añades el **`sensor HTTP`** para comprobar si una URL está activa o no, luego especificas el task ID. Especifica siempre el **`task ID = is_api_available`**. También el **`HTTP connection ID`** ya que interactúas con un servicio externo, en este caso una URL, necesitas definir una conexión, así como el sitio web que desea comprobar. Entonces, por último, pero no menos importante, usted tiene el **`endpoint = api/`**. Así que esa es la ruta del sitio web que quieres comprobar.\n",
    "\n",
    "<center><img src=\"https://i.postimg.cc/Y21h2tPy/a245.png\"></center>\n",
    "\n",
    "Por último, en la parte superior de la página, no te olvides de añadir **`from airflow.providers.http.sensors.http import HttpSensor`**\n",
    "\n",
    "Y eso es todo.\n",
    "\n",
    "En este punto, has implementado con éxito tu primer sensor que comprobará si la API está disponible o no\n",
    "\n",
    "<center><img src=\"https://i.postimg.cc/28r3VPRj/a246.png\"></center>\n"
   ]
  }
 ],
 "metadata": {
  "language_info": {
   "name": "python"
  }
 },
 "nbformat": 4,
 "nbformat_minor": 2
}
