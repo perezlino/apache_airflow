{
 "cells": [
  {
   "cell_type": "markdown",
   "metadata": {},
   "source": [
    "### **3.32 - Resumen**"
   ]
  },
  {
   "cell_type": "markdown",
   "metadata": {},
   "source": [
    "<center><img src=\"https://i.postimg.cc/d1JKm6LK/a314.png\"></center>\n",
    "<center><img src=\"https://i.postimg.cc/QtSZ67TK/a315.png\"></center>\n",
    "<center><img src=\"https://i.postimg.cc/brJc4vxC/a316.png\"></center>\n",
    "<center><img src=\"https://i.postimg.cc/MKnJDvKX/a317.png\"></center>\n",
    "<center><img src=\"https://i.postimg.cc/c19NwQWV/a318.png\"></center>\n",
    "<center><img src=\"https://i.postimg.cc/T14MxXQR/a319.png\"></center>\n",
    "<center><img src=\"https://i.postimg.cc/28gRXrVG/a320.png\"></center>"
   ]
  }
 ],
 "metadata": {
  "language_info": {
   "name": "python"
  }
 },
 "nbformat": 4,
 "nbformat_minor": 2
}
