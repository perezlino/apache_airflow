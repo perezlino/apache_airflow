{
 "cells": [
  {
   "cell_type": "markdown",
   "metadata": {},
   "source": [
    "### **3.23 - [Práctica] Implement process_user**"
   ]
  },
  {
   "cell_type": "markdown",
   "metadata": {},
   "source": [
    "En esta actividad, vas a implementar la tarea process_user que acabas de ver en el vídeo.\n",
    "\n",
    "<center><img src=\"https://i.postimg.cc/W4TJcmx9/a269.png\"></center>\n",
    "<center><img src=\"https://i.postimg.cc/hGsQDzBK/a270.png\"></center>"
   ]
  }
 ],
 "metadata": {
  "language_info": {
   "name": "python"
  }
 },
 "nbformat": 4,
 "nbformat_minor": 2
}
