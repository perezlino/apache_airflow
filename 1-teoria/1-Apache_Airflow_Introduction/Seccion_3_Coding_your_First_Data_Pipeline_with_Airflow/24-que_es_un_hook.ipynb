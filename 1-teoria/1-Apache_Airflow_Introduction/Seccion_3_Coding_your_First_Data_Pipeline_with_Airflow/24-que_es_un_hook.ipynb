{
 "cells": [
  {
   "cell_type": "markdown",
   "metadata": {},
   "source": [
    "### **3.24 - ¿Que es un Hook?**"
   ]
  },
  {
   "cell_type": "markdown",
   "metadata": {},
   "source": [
    "Con Airflow, puede interactuar con muchas herramientas y para asegurarse de que es fácil para usted para interactuar con la herramienta. Existe el concepto de Hook. \n",
    "\n",
    "Permítanme explicarles lo que es.\n",
    "\n",
    "Imaginemos que tienes el operador y quieres ejecutar una SQL request a una base de datos PostgreSQL.\n",
    "\n",
    "¿Y adivina qué?\n",
    "\n",
    "Con el operador Postgres, puedes ejecutar una SQL request, pero detrás de la escena se utiliza un PostgresHook y el objetivo del PostgresHook es abstraer toda la complejidad de interactuar con una base de datos Postgres.\n",
    "\n",
    "Así que ten en cuenta que cada vez que interactúas con una herramienta externa o un servicio externo, tienes un hook detrás de escena que abstrae la complejidad de interactuar con esa herramienta o servicio.\n",
    "\n",
    "Tienes el PostgresHook, tienes el MySQLHook y la lista continúa.\n",
    "\n",
    "Te aconsejo encarecidamente que siempre eches un vistazo al hook ya que puedes tener acceso a algunos métodos a los que no tienes acceso desde el operador. Así que eso es un hook. Un hook te permite interactuar fácilmente con una herramienta externa o un servicio externo.\n",
    "\n",
    "<center><img src=\"https://i.postimg.cc/T3WzmF2s/a271.png\"></center>"
   ]
  }
 ],
 "metadata": {
  "language_info": {
   "name": "python"
  }
 },
 "nbformat": 4,
 "nbformat_minor": 2
}
