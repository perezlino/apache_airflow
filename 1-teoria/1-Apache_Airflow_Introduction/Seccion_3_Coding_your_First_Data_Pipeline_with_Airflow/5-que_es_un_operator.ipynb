{
 "cells": [
  {
   "cell_type": "markdown",
   "metadata": {},
   "source": [
    "### **3.5 - ¿Que es un Operator?**"
   ]
  },
  {
   "cell_type": "markdown",
   "metadata": {},
   "source": [
    "En tu DAG tienes un par de tareas y esas tareas se definen como operadores.\n",
    "\n",
    "**¿Qué es un operador?**\n",
    "\n",
    "Un Operator es una Tarea en tu DAG. Cada vez que defines un operator, estás creando una tarea en tu DAG, en tu data pipeline.\n",
    "\n",
    "Un operator es una tarea. En cuanto se instancie un operator en el DAG, este operator se convierte en una tarea en el DAG.\n",
    "\n",
    "<center><img src=\"https://i.postimg.cc/jSBQp6LJ/a126.png\"></center>\n",
    "\n",
    "Un Operator es como un objeto alrededor de las Tareas que se quieren ejecutar. Por ejemplo, puedes instanciar un operator así, y dentro de este operator podrías querer abrir un archivo e imprimir el contenido de ese archivo.\n",
    "\n",
    "<center><img src=\"https://i.postimg.cc/yN9XsJZp/a127.png\"></center>\n",
    "\n",
    "Bueno, imaginemos que tienes el siguiente operador, el PythonOperator que ejecuta una función python. Y tienes dos cosas que quieres hacer: limpiar los datos y procesar los datos. **`No pongas dos tareas en un mismo operador, esos dos pasos en el mismo operador Python`**. En el mismo operador.\n",
    "\n",
    "**¿Por qué?**\n",
    "\n",
    "Porque si el procesamiento de datos falla, vas a tener que reiniciar tanto la limpieza de datos como el procesamiento de datos, mientras que sólo deberías reintentar el procesamiento de datos.\n",
    "\n",
    "<center><img src=\"https://i.postimg.cc/ydHhdVh1/a128.png\"></center>\n",
    "\n",
    "Así que en su lugar vas a crear dos operadores, un PythonOperator para limpiar los datos y otro PythonOperator para procesar los datos, de manera que si el procesamiento de los datos falla, vas a reiniciar sólo el procesamiento de los datos y no la limpieza de los datos.\n",
    "\n",
    "Ten en cuenta que aquí tienes dos tareas, mientras que con el ejemplo del “DON’T”, tienes una tarea.\n",
    "\n",
    "<center><img src=\"https://i.postimg.cc/KzDP3dQn/a129.png\"></center>\n",
    "\n",
    "```\n",
    "Otro punto importante es que su operator debe ser idempotente, lo que significa que para el mismo input debe obtener siempre el mismo output, siempre que se ejecute ese operator.\n",
    "\n",
    "La task ID de su operator debe ser única entre todos los demás operators de su DAG.\n",
    "```\n",
    "___"
   ]
  },
  {
   "cell_type": "markdown",
   "metadata": {},
   "source": [
    "#### **`retry y retry_delay`**\n",
    "\n",
    "Podemos especificar muchos parámetros diferentes para los operators. Por ejemplo, digamos que queremos **reintentar esa tarea cinco veces antes de que la tarea termine con el estado \"`Failed`\"**. ¿Cómo se puede hacer eso? Con el parámetro \"retry\":\n",
    "\n",
    "<center><img src=\"https://i.postimg.cc/Znf6VpGn/a130.png\"></center>\n",
    "\n",
    "Imaginemos que queremos poner un poco de **`delay`** entre cada intento, digamos 5 minutos:\n",
    "\n",
    "<center><img src=\"https://i.postimg.cc/X7zw5KKD/a131.png\"></center>\n",
    "\n",
    "Como puede ver a la derecha hay un problema aquí. Nos estamos repitiendo. Repetimos los mismos parámetros una y otra vez para cada operator (retry y retry_delay). ¿Cómo podemos evitar esto?\n",
    "\n",
    "<center><img src=\"https://i.postimg.cc/ZKR80sNd/a132.png\"></center>\n",
    "\n",
    "___"
   ]
  },
  {
   "cell_type": "markdown",
   "metadata": {},
   "source": [
    "#### **`default_args`**\n",
    "\n",
    "En Airflow puedes crear argumentos por defecto que se aplicarán automáticamente a todos tus operators.\n",
    "\n",
    "<center><img src=\"https://i.postimg.cc/44wvfRYG/a133.png\"></center>\n",
    "<center><img src=\"https://i.postimg.cc/x8jKvtFB/a134.png\"></center>\n",
    "\n",
    "Y ahora si quieres que la task_2 tenga un comportamiento específico, por ejemplo, tres reintentos:\n",
    "\n",
    "<center><img src=\"https://i.postimg.cc/9QwyY4JX/a135.png\"></center>\n",
    "\n",
    "En ese caso, retry=3 tendrá prioridad sobre retry=5.\n",
    "\n",
    "____"
   ]
  },
  {
   "cell_type": "markdown",
   "metadata": {},
   "source": [
    "#### **`Ejemplos de Operators`**\n",
    "\n",
    "<center><img src=\"https://i.postimg.cc/jjVPgsFH/a136.png\"></center>\n",
    "\n",
    "___"
   ]
  },
  {
   "cell_type": "markdown",
   "metadata": {},
   "source": [
    "#### **`Tipos de Operators`**\n",
    "\n",
    "A continuación tienes **`tres tipos de operadores`**, y el primero es el **`Action Operator`** (operador de acción). Un operador de acción nos permite ejecutar algo en nuestro data pipeline, por ejemplo, ejecuta una función básicamente como el operador Python, para ejecutar una función python o el operador bash para ejecutar un comando bash.\n",
    "\n",
    "También tienes los **`Transfer Operators`** (operadores de transferencia) que te permiten transferir datos de un origen a un destino. Se encargan de transferir datos entre el punto A al punto B o entre la fuente A a la fuente B.\n",
    "\n",
    "Por último, pero no menos importante, tienes los Sensores o **`Sensor Operator`**, y me encantan los sensores porque te permiten esperar un evento, esperar a que algo se cumpla antes de pasar a la siguiente tarea. \n",
    "\n",
    "Por ejemplo, quieres esperar a que un archivo llegue a una ubicación específica, en una carpeta específica. En ese caso, debe utilizar FileSensor. FileSensor esperará a que ese archivo llegue al destino específico y entonces, tan pronto como el archivo esté allí, FileSensor tendrá éxito y usted podrá pasar a la siguiente tarea.\n",
    "\n",
    "<center><img src=\"https://i.postimg.cc/DzqsRt9t/a137.png\"></center>"
   ]
  }
 ],
 "metadata": {
  "language_info": {
   "name": "python"
  }
 },
 "nbformat": 4,
 "nbformat_minor": 2
}
