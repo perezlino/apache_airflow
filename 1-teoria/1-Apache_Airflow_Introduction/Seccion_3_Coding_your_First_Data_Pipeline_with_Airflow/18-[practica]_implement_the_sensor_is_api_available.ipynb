{
 "cells": [
  {
   "cell_type": "markdown",
   "metadata": {},
   "source": [
    "### **3.18 - [Práctica] Implement the sensor is_api_available**"
   ]
  },
  {
   "cell_type": "markdown",
   "metadata": {},
   "source": [
    "En esta actividad, vas a implementar la tarea is_api_available que acabas de ver en el vídeo junto con la conexión.\n",
    "\n",
    "<center><img src=\"https://i.postimg.cc/hG9gV1d8/a247.png\"></center>\n",
    "<center><img src=\"https://i.postimg.cc/GhV1N5PJ/a248.png\"></center>"
   ]
  }
 ],
 "metadata": {
  "language_info": {
   "name": "python"
  }
 },
 "nbformat": 4,
 "nbformat_minor": 2
}
