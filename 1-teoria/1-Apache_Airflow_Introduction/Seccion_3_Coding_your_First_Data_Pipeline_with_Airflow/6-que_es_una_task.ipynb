{
 "cells": [
  {
   "cell_type": "markdown",
   "metadata": {},
   "source": [
    "### **3.6 - ¿Que es una Task?**"
   ]
  },
  {
   "cell_type": "markdown",
   "metadata": {},
   "source": [
    "Cuando se asocia un operator en un DAG, este operator se convierte en una Task. Por lo tanto, Task es una instancia de un operator.\n",
    "\n",
    "<center><img src=\"https://i.postimg.cc/pTCjLKXC/a138.png\"></center>"
   ]
  }
 ],
 "metadata": {
  "language_info": {
   "name": "python"
  }
 },
 "nbformat": 4,
 "nbformat_minor": 2
}
