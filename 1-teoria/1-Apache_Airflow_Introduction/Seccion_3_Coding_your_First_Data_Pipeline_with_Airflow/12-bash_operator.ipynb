{
 "cells": [
  {
   "cell_type": "markdown",
   "metadata": {},
   "source": [
    "### **3.12 - BashOperator**"
   ]
  },
  {
   "cell_type": "markdown",
   "metadata": {},
   "source": [
    "El BashOperator permite ejecutar comandos Bash. Me gusta usar el BashOperator para simular un fallo en una tarea. Vamos a implementar el BashOperator:\n",
    "\n",
    "<center><img src=\"https://i.postimg.cc/9fQKbRLk/a176.png\"></center>\n",
    "\n",
    "Tenemos que especificar el comando Bash que queremos ejecutar. Para ello añadimos el parámetro \"bash_command\" igual a \"exit 0\". Lo que significa que esta tarea sale con el código escrito 0 y por lo tanto tiene éxito.\n",
    "\n",
    "<center><img src=\"https://i.postimg.cc/MKJL4rsV/a177.png\"></center>\n",
    "\n",
    "Si echamos un vistazo a la Graph View, como puedes ver tenemos las tres tareas pero no hay dependencias entre ellas, lo que significa que no sabemos el orden en el que se van a ejecutar las tareas:\n",
    "\n",
    "<center><img src=\"https://i.postimg.cc/PqVcRXc5/a178.png\"></center>\n",
    "\n",
    "___"
   ]
  },
  {
   "cell_type": "markdown",
   "metadata": {},
   "source": [
    "#### **`Definiendo dependencias (set_upstream & set_downstream)`**\n",
    "\n",
    "Hay dos formas de definir las relaciones en Airflow. La primera es a través de los métodos set_upstream y set_downstream. "
   ]
  },
  {
   "cell_type": "markdown",
   "metadata": {},
   "source": [
    "#### **`set_downstream`**\n",
    "\n",
    "Digamos que queremos ejecutar primero la tarea \"downloading_data\" luego \"waiting_for_data\" y finalmente \"proccesing_data\". ¿Cómo se puede hacer eso?:\n",
    "\n",
    "<center><img src=\"https://i.postimg.cc/T1g41rPK/a179.png\"></center>\n",
    "\n",
    "Si guardamos el archivo y regresamos a la UI de Airflow y refrescamos la página:\n",
    "\n",
    "<center><img src=\"https://i.postimg.cc/ydwG7f7q/a180.png\"></center>\n",
    "\n",
    "___"
   ]
  },
  {
   "cell_type": "markdown",
   "metadata": {},
   "source": [
    "#### **`set_upstream`**\n",
    "\n",
    "¿Qué pasa con set_upstream? Si volvemos a nuestro DAG, esta vez la tarea upstream de \"processing_data\" está esperando datos:\n",
    "\n",
    "<center><img src=\"https://i.postimg.cc/59CGsMmf/a181.png\"></center>\n",
    "\n",
    "Deberíamos obtener exactamente las mismas dependencias:\n",
    "\n",
    "<center><img src=\"https://i.postimg.cc/zBLMZmZS/a182.png\"></center>\n",
    "\n",
    "___"
   ]
  },
  {
   "cell_type": "markdown",
   "metadata": {},
   "source": [
    "#### **`Operadores bitshift (>> <<)`**\n",
    "\n",
    "Hay una forma mejor de definir las dependencias. Debe utilizar los operadores bitshift derecho e izquierdo (>> <<):\n",
    "```\n",
    ">> = set_downstream\n",
    "<< = set_upstream\n",
    "```\n",
    "\n",
    "<center><img src=\"https://i.postimg.cc/02G4qd33/a183.png\"></center>\n",
    "\n",
    "___"
   ]
  },
  {
   "cell_type": "markdown",
   "metadata": {},
   "source": [
    "#### **`Ejecutar múltiples tareas al mismo tiempo`**\n",
    "\n",
    "Ahora, ¿qué pasa si tenemos dos tareas que queremos ejecutar al mismo tiempo? Digamos que queremos ejecutar waiting_for_data y proccesing_data tan pronto como downloading_data haya terminado. Para poner varias tareas en el mismo nivel, lo que significa ejecutar varias tareas al mismo tiempo, hay que ponerlas en una lista:\n",
    "\n",
    "<center><img src=\"https://i.postimg.cc/g2YTcLb0/a184.png\"></center>\n",
    "\n",
    "Si guardamos el archivo y regresamos al UI de Airflow y refrescamos la página:\n",
    "\n",
    "<center><img src=\"https://i.postimg.cc/DwBYSf7P/a185.png\"></center>\n",
    "\n",
    "___"
   ]
  },
  {
   "cell_type": "markdown",
   "metadata": {},
   "source": [
    "#### **`chain`**\n",
    "\n",
    "Digamos que quieres ejecutar “downloading_data”, luego “waiting_for_data” y finalmente “processing_data”. Para ello primero importamos la función:\n",
    "\n",
    "<center><img src=\"https://i.postimg.cc/pdrczNTb/a186.png\"></center>\n",
    "<center><img src=\"https://i.postimg.cc/HLNZtScJ/a187.png\"></center>\n",
    "\n",
    "Esto es el equivalente exacto a tener \"downloading_data\", luego \">>\", \"waiting_for_data\", luego \">>\" y finalmente \"proccesing_data\".\n",
    "\n",
    "<center><img src=\"https://i.postimg.cc/ZRyfsrpw/a188.png\"></center>\n",
    "\n",
    "___"
   ]
  },
  {
   "cell_type": "markdown",
   "metadata": {},
   "source": [
    "#### **`cross_downstream`**\n",
    "\n",
    "Para mostrarle la utilidad de esta función, tenemos que crear otra tarea.\n",
    "\n",
    "<center><img src=\"https://i.postimg.cc/prbswpBR/a189.png\"></center>\n",
    "<center><img src=\"https://i.postimg.cc/qByb8xkR/a190.png\"></center>\n",
    "\n",
    "Digamos que queremos ejecutar \"downloading_data\" y \"checking_data\" antes de \"waiting_data\". Además, queremos ejecutar \"downloading_data\" y \"checking_data\" antes de \"proccesing_data\". Así que básicamente, queremos crear dependencias entre \"downloading_data\", \"checking_data\" y \"waiting_for_data\" y \"proccesing_data\". Así que \"waiting_for_data\" depende de \"checking_data\" y \"downloading_data\" y \"proccesing_data\" depende de \"checking_data\" y \"downloading_data\". ¿Cómo se pueden crear estas dependencias cruzadas (cross_dependencies)?\n",
    "\n",
    "Para utilizarla es necesario importar esa función, así que escribe \"**`from airflow.models.baseoperator import cross_downstream`**\".\n",
    "\n",
    "<center><img src=\"https://i.postimg.cc/brxmpp6b/a191.png\"></center>\n",
    "\n",
    "Guardamos el archivo y nos dirigimos a la UI de Airflow:\n",
    "\n",
    "<center><img src=\"https://i.postimg.cc/7Y4BXJ6N/a192.png\"></center>\n",
    "<center><img src=\"https://i.postimg.cc/wTkwrxRY/a193.png\"></center>\n",
    "<center><img src=\"https://i.postimg.cc/0y2V1g7M/a194.png\"></center>"
   ]
  }
 ],
 "metadata": {
  "language_info": {
   "name": "python"
  }
 },
 "nbformat": 4,
 "nbformat_minor": 2
}
