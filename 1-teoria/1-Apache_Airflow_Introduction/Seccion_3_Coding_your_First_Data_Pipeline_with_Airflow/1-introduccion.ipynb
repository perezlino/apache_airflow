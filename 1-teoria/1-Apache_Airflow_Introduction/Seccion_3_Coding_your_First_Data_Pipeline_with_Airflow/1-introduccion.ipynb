{
 "cells": [
  {
   "cell_type": "markdown",
   "metadata": {},
   "source": [
    "### **3.1 - Introduccion**"
   ]
  },
  {
   "cell_type": "markdown",
   "metadata": {},
   "source": [
    "Estoy súper emocionado de mostrarte el data pipeline con el que terminarás al final de esta sección y vas a construir ese data pipeline.\n",
    "\n",
    "Entonces, ¿qué es exactamente?\n",
    "\n",
    "Bueno, en primer lugar, vas a crear una tabla con el PostgresOperator para que sepas cómo ejecutar SQL requests en Airflow.\n",
    "\n",
    "A continuación, verás cómo comprobar si una API está disponible o no, pero lo más importante es que descubrirás un tipo especial de operadores que te ayudan a esperar a que algo suceda antes de pasar a la siguiente task.\n",
    "\n",
    "Bien, así que extraerás un usuario y procesarás ese usuario con uno de los operadores más populares en Airflow.\n",
    "\n",
    "Y finalmente, almacenará ese usuario en la base de datos Postgres.\n",
    "\n",
    "<center><img src=\"https://i.postimg.cc/MKd54DK5/a91.png\"></center>\n"
   ]
  }
 ],
 "metadata": {
  "language_info": {
   "name": "python"
  }
 },
 "nbformat": 4,
 "nbformat_minor": 2
}
