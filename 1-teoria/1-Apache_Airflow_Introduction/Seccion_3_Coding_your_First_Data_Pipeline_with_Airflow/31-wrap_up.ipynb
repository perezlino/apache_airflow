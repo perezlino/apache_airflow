{
 "cells": [
  {
   "cell_type": "markdown",
   "metadata": {},
   "source": [
    "### **3.31 - Wrap up!**"
   ]
  },
  {
   "cell_type": "markdown",
   "metadata": {},
   "source": [
    "<center><img src=\"https://i.postimg.cc/4yzVkJXc/a310.png\"></center>"
   ]
  },
  {
   "cell_type": "code",
   "execution_count": null,
   "metadata": {},
   "outputs": [],
   "source": [
    "\n",
    "1.\tfrom airflow import DAG\n",
    "2.\tfrom airflow.providers.postgres.operators.postgres import PostgresOperator\n",
    "3.\tfrom airflow.providers.http.sensors.http import <center><img src=\"httpsensor\n",
    "4.\tfrom airflow.providers.http.operators.http import SimpleHttpOperator\n",
    "5.\tfrom airflow.operators.python import PythonOperator\n",
    "6.\tfrom airflow.providers.postgres.hooks.postgres import PostgresHook\n",
    "7.\t \n",
    "8.\timport json\n",
    "9.\tfrom pandas import json_normalize\n",
    "10.\tfrom datetime import datetime\n",
    "11.\t \n",
    "12.\tdef _process_user(ti):\n",
    "13.\t    user = ti.xcom_pull(task_ids=\"extract_user\")\n",
    "14.\t    user = user['results'][0]\n",
    "15.\t    processed_user = json_normalize({\n",
    "16.\t        'firstname': user['name']['first'],\n",
    "17.\t        'lastname': user['name']['last'],\n",
    "18.\t        'country': user['location']['country'],\n",
    "19.\t        'username': user['login']['username'],\n",
    "20.\t        'password': user['login']['password'],\n",
    "21.\t        'email': user['email'] })\n",
    "22.\t    processed_user.to_csv('/tmp/processed_user.csv', index=None, header=False)\n",
    "23.\t \n",
    "24.\tdef _store_user():\n",
    "25.\t    hook = PostgresHook(postgres_conn_id='postgres')\n",
    "26.\t    hook.copy_expert(\n",
    "27.\t        sql=\"COPY users FROM stdin WITH DELIMITER as ','\",\n",
    "28.\t        filename='/tmp/processed_user.csv'\n",
    "29.\t    )\n",
    "30.\t \n",
    "31.\twith DAG('user_processing', start_date=datetime(2022, 1, 1), \n",
    "32.\t        schedule_interval='@daily', catchup=False) as dag:\n",
    "33.\t \n",
    "34.\t    create_table = PostgresOperator(\n",
    "35.\t        task_id='create_table',\n",
    "36.\t        postgres_conn_id='postgres',\n",
    "37.\t        sql='''\n",
    "38.\t            CREATE TABLE IF NOT EXISTS users (\n",
    "39.\t                firstname TEXT NOT NULL,\n",
    "40.\t                lastname TEXT NOT NULL,\n",
    "41.\t                country TEXT NOT NULL,\n",
    "42.\t                username TEXT NOT NULL,\n",
    "43.\t                password TEXT NOT NULL,\n",
    "44.\t                email TEXT NOT NULL\n",
    "45.\t            );\n",
    "46.\t        '''\n",
    "47.\t    )\n",
    "48.\t \n",
    "49.\t    is_api_available = <center><img src=\"httpsensor(\n",
    "50.\t        task_id='is_api_available',\n",
    "51.\t        http_conn_id='user_api',\n",
    "52.\t        endpoint='api/'\n",
    "53.\t    )\n",
    "54.\t \n",
    "55.\t    extract_user = SimpleHttpOperator(\n",
    "56.\t        task_id='extract_user',\n",
    "57.\t        http_conn_id='user_api',\n",
    "58.\t        endpoint='api/',\n",
    "59.\t        method='GET',\n",
    "60.\t        response_filter=lambda response: json.loads(response.text),\n",
    "61.\t        log_response=True\n",
    "62.\t    )\n",
    "63.\t \n",
    "64.\t    process_user = PythonOperator(\n",
    "65.\t        task_id='process_user',\n",
    "66.\t        python_callable=_process_user\n",
    "67.\t    )\n",
    "68.\t \n",
    "69.\t    store_user = PythonOperator(\n",
    "70.\t        task_id='store_user',\n",
    "71.\t        python_callable=_store_user\n",
    "72.\t    )\n",
    "73.\t \n",
    "74.\t    create_table >> is_api_available >> extract_user >> process_user >> store_user\n"
   ]
  },
  {
   "cell_type": "markdown",
   "metadata": {},
   "source": [
    "<center><img src=\"https://i.postimg.cc/BvkKj86D/a311.png\"></center>\n",
    "<center><img src=\"https://i.postimg.cc/pTjnz2hS/a312.png\"></center>\n",
    "<center><img src=\"https://i.postimg.cc/90jwBvyQ/a313.png\"></center>"
   ]
  }
 ],
 "metadata": {
  "language_info": {
   "name": "python"
  }
 },
 "nbformat": 4,
 "nbformat_minor": 2
}
