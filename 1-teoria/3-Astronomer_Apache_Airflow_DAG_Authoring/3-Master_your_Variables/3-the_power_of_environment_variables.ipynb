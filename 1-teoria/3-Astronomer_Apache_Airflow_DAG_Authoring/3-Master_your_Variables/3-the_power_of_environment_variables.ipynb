{
 "cells": [
  {
   "cell_type": "markdown",
   "metadata": {},
   "source": [
    "### **3.3 - The Power of Environment Variables**"
   ]
  },
  {
   "cell_type": "markdown",
   "metadata": {},
   "source": [
    "Hay una característica que me gusta mucho en Airflow y te va a encantar también que es la creación de variables mediante la exportación de variables de entorno (environment variables). Y esta característica es realmente poderosa porque bueno, vas a ver por qué en unos segundos. Pero, primero vamos a ver cómo crear una variable exportando una variable de entorno en Airflow. Digamos que quieres crear la variable \"my_dag_partner\" como antes, pero esta vez queremos crear esa variable exportando una variable de entorno. ¿Cómo se puede hacer eso? Extremadamente sencillo, lo único que tenemos que hacer es ir a tu \"Dockerfile\" si usas Docker y aquí escribir: 'ENV' para exportar una variable de entorno, para crear una variable de entorno y luego tienes que poner \"**`AIRFLOW_VAR_( Key of your variable)`**\". Así que al crear una variable de entorno con el prefijo \"**`AIRFLOW_VAR_`**\" vas a crear una variable en Airflow, así es como funciona, así es como Airflow sabe que esta variable de entorno es de hecho una variable. Entonces, aquí tienes AIRFLOW_VAR_ y luego escribes la clave de tu variable en ese caso es \"my_dag_partner\", así que escribamos \"MY_DAG_PARTNER\" es igual a un valor Json y así en ese caso puedes crear tu valor Json así:\n",
    "\n",
    "<center><img src=\"https://i.postimg.cc/t4Xk2h2j/a1126.png\"></center>\n",
    "\n",
    "Haciendo esto, exportando esta variable de entorno, vas a crear el \"AIRFLOW_VAR_MY_DAG_PARTNER\" con el siguiente valor Json, es tan simple como eso. Por lo tanto, guarda el archivo y vamos a volver a la interfaz de usuario de Airflow para eliminar esa variable. Así que aquí vaya a ADMIN > VARIABLES luego establecer la variable y eliminar el registro.\n",
    "\n",
    "<center><img src=\"https://i.postimg.cc/RZXR8NDn/a1127.png\"></center>\n",
    "<center><img src=\"https://i.postimg.cc/HLNtYFHY/a1128.png\"></center>\n",
    "\n",
    "Ok, perfecto, así que ya no tienes la variable. Vuelve a tu editor de código, y vamos a reiniciar Airflow. Entonces, en tu terminal escribe \"**`astro dev stop && astro dev start`**\":\n",
    "\n",
    "<center><img src=\"https://i.postimg.cc/tgJ5HpKv/a1129.png\"></center>\n",
    "\n",
    "Esperemos hasta que Airflow esté en funcionamiento. Una vez que Airflow está en marcha, si vas a la interfaz de usuario de Airflow > Admin > Variables:\n",
    "\n",
    "<center><img src=\"https://i.postimg.cc/Y9mzh8q1/a1130.png\"></center>\n",
    "\n",
    "como puedes ver, no ves ninguna variable allí:\n",
    "\n",
    "<center><img src=\"https://i.postimg.cc/Rh5QffN2/a1131.png\"></center>\n",
    "\n",
    "y si va a su terminal y abre la (partición???) en uno de los contenedores docker correspondientes a su instancia de Airflow, así por ejemplo, vamos a escribir \"docker ps\":\n",
    "\n",
    "<center><img src=\"https://i.postimg.cc/KjP75zTj/a1132.png\"></center>\n",
    "\n",
    "entonces vamos a acceder al scheduler por ejemplo, así que teclea:\n",
    "\n",
    "<center><img src=\"https://i.postimg.cc/T2gcxksx/a1133.png\"></center>\n",
    "\n",
    "Entonces escriba:\n",
    "\n",
    "<center><img src=\"https://i.postimg.cc/Hsm9kwGy/a1134.png\"></center>\n",
    "\n",
    "Como puede ver, no hay variables tampoco. Así que si escribes \"**`env | grep AIRFLOW_VAR`**\":\n",
    "\n",
    "<center><img src=\"https://i.postimg.cc/BQCcLjsw/a1135.png\"></center>\n",
    "\n",
    "Aquí puede ver su variable de entorno como se esperaba. Pero la pregunta es, ¿dónde está esa variable? porque no se puede ver, tanto en la UI como desde la command line interface. Pero estas variables existen y te lo puedo demostrar. De hecho, si vas a tu data pipeline, puedes ver que en la tarea \"extract\", estás tratando de obtener esa variable \"my_dag_partner\", así que si la variable no existe, entonces esta tarea no deberia funcionar. Veamos eso. Escribe:\n",
    "\n",
    "<center><img src=\"https://i.postimg.cc/T3YjrT32/a1136.png\"></center>\n",
    "\n",
    "Pulsa Enter y como puedes ver has obtenido \"**`partner_a`**\" así que eso significa que la variable existe:\n",
    "\n",
    "<center><img src=\"https://i.postimg.cc/W1WG8xdG/a1137.png\"></center>\n",
    "\n",
    "**`Y esta es la razón por la que realmente amo las variables de entorno para crear variables en Airflow, porque al crear sus variables de esa manera las está ocultando de los usuarios, de su instancia de Airflow, por lo que si tiene valores que definitivamente no quiere compartir con todo el mundo en su instancia de Airflow, entonces puede aprovechar las variables de entorno para eso y también evita hacer su conexión a su base de metadatos`**. Así que por estas dos razones la creación de variables usando variables de entorno puede ser extremadamente útil, así que no dudes en usarlas, a mí me encantan, a ti también te van a encantar."
   ]
  }
 ],
 "metadata": {
  "language_info": {
   "name": "python"
  }
 },
 "nbformat": 4,
 "nbformat_minor": 2
}
