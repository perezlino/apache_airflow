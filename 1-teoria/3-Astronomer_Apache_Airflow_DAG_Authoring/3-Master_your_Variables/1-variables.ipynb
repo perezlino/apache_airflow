{
 "cells": [
  {
   "cell_type": "markdown",
   "metadata": {},
   "source": [
    "### **3.1 - Variables**"
   ]
  },
  {
   "cell_type": "markdown",
   "metadata": {},
   "source": [
    "¿Qué ocurre si tiene varios data pipelines que interactúan con un API endpoint? ¿Realmente quieres poner estos API endpoints en todos tus DAGs? No lo creo. ¿Qué pasa si tienes un S3 bucket y este S3 bucket es utilizado por muchos DAGs diferentes o muchas tareas diferentes, quieres poner este S3 bucket en todas tus tareas? No lo creo. Quiero decir que definitivamente no quieres tener que poner el mismo valor una y otra vez, porque si ese valor cambia, entonces tendrás que hacer todas esas modificaciones. Así que una mejor manera es usar variables. Una variable en Airflow no es más que un objeto con la key y el valor que se almacenará en la meta database y así, en lugar de codificar el mismo valor en todas sus tareas, sólo tiene que obtener la misma variable, modificar esa variable y las modificaciones se aplicarán automáticamente en todas partes, lo que es mucho mejor y esto le da mucha flexibilidad.\n",
    "Veamos cómo funcionan las variables. Digamos que tienes tu data pipeline y solo tienes una tarea hasta ahora que es \"extract\". Esta tarea se basa en el PythonOperator y su objetivo es extraer algunos datos correspondientes a un partner específico y este partner será almacenado como una variable. Así que primero hay que crear la variable. Así que vamos a hacerlo: vaya a la interfaz de usuario de Airflow > Admin > Variables :\n",
    "\n",
    "<center><img src=\"https://i.postimg.cc/VkjgFKj4/a1097.png\"></center>\n",
    "\n",
    "Crear un nuevo registro \n",
    "\n",
    "<center><img src=\"https://i.postimg.cc/vmbz25hy/a1098.png\"></center>\n",
    "\n",
    "y aquí vamos a completar así:\n",
    "\n",
    "<center><img src=\"https://i.postimg.cc/zBfk854P/a1099.png\"></center>\n",
    "<center><img src=\"https://i.postimg.cc/5tgmhjKC/a1100.png\"></center>\n",
    "\n",
    "Y usted ha creado con éxito su variable, nada sofisticado aquí, sólo uno viendo cómo puedes terminar con un montón de variables y podría ser difícil saber dónde se utiliza cada variable en qué DAG. Una cosa que podemos hacer es añadir un prefijo a tu variable con el DAG donde se utiliza esa variable. Así, por ejemplo, aquí como esta variable se utilizará en el DAG \"my_dag\". He prefijado esa variable con \"my_dag\" y entonces sólo tendrás que hacer clic en SEARCH > ADD FILTER > START WITH y buscar el DAG que quieras.\n",
    "\n",
    "<center><img src=\"https://i.postimg.cc/WzF6q8NG/a1101.png\"></center>\n",
    "\n",
    "Este es un consejo rápido pero puede ser muy útil. Dicho esto, también puedes crear tus variables a través de la API REST o a través de la interfaz de línea de comandos. La UI es sólo una forma entre otras. Ahora tienes tu variable y vuelves a tu código y digamos que quieres obtener esa variable en la función _extract que es llamada por el PythonOperator. Así que para hacer eso necesitas importar 'Variables', así que escribes \"from airflow.models import Variable\" y luego creas una nueva variable y llamémosla \"partner\", no a la variable de Airflow, sino a una variable de Python, luego Variable.get y especificas la key, así que en ese caso la key es \"my_dag_partner\" y eso es todo. \n",
    "\n",
    "<center><img src=\"https://i.postimg.cc/RCNjTzqR/a1102.png\"></center>\n",
    "\n",
    "En este punto usted es capaz de obtener la variable de la meta database de Airflow con la key \"my_dag_partner\". Hay que saber que al hacer esto se crea una conexión con la meta database. Así que vamos a imprimir la variable \n",
    "\n",
    "<center><img src=\"https://i.postimg.cc/gcQ1SBZP/a1103.png\"></center>\n",
    "\n",
    "y luego utilizando la interfaz de línea de comandos de Airflow, podemos probar la tarea con \"airflow tasks test my_dag (la tarea \"extract\") an execution date\". Pulsamos Enter. \n",
    "\n",
    "<center><img src=\"https://i.postimg.cc/ydryNtH6/a1104.png\"></center>\n",
    "\n",
    "Esperemos un poco y como puedes ver obtuvimos \"partner_a\".\n",
    "\n",
    "<center><img src=\"https://i.postimg.cc/1Xk0GFXL/a1105.png\"></center>\n",
    "\n",
    "Así de sencillo es almacenar una variable y obtenerla de tu DAG. Ahora, ¿qué pasa si tienes una variable que inicia una API key? Definitivamente no quieres tener tu API key expuesta a todo el mundo en la UI o en el log, así que ¿cómo puedes ocultar el valor de tu variable? Bueno, es bastante fácil, lo único que tiene que hacer es utilizar una de las keywords en la key de su variable y entonces Airflow ocultará automáticamente el valor de su variable tanto en la UI como en los logs. Por ejemplo, sólo unas pocas keywords: password, ???, apy key, api_key, también hay un “secret” y, obviamente, podemos añadir algunas keywords también sólo modificando el ajuste de configuración “sensitive_var_con_names”, en la sección \"core\" en el archivo de configuración de Airflow. Así que vamos a modificar esta variable y vamos a añadir \"_secret\" al final, por ejemplo:\n",
    "\n",
    "<center><img src=\"https://i.postimg.cc/fRhpZtC2/a1106.png\"></center>\n",
    "\n",
    "A continuación, guarde el archivo. Vamos a la interfaz de Airflow y luego modificamos la key de la variable y luego hacemos clic en guardar:\n",
    "\n",
    "<center><img src=\"https://i.postimg.cc/QdkPM8nX/a1107.png\"></center>\n",
    "<center><img src=\"https://i.postimg.cc/zfzQbs9T/a1108.png\"></center>\n",
    "\n",
    "Y como puedes ver ahora mismo ya no puedes ver el valor de esa variable. \n",
    "\n",
    "<center><img src=\"https://i.postimg.cc/wv3bFhxv/a1109.png\"></center>\n",
    "\n",
    "Pero aún más importante, si vas a DAGs y activas el toggle del DAG y refrescas la página y haces click en el DAG:\n",
    "\n",
    "<center><img src=\"https://i.postimg.cc/MG9FysSN/a1110.png\"></center>\n",
    "\n",
    "Ve a la Graph View > Haz clic en la tarea > Log. Como puedes ver ya no obtienes el valor de la variable, por lo que esta característica es realmente útil si quieres ocultar algunos valores bastante sensibles. \n",
    "\n",
    "<center><img src=\"https://i.postimg.cc/qRYDFzgG/a1111.png\"></center>\n",
    "<center><img src=\"https://i.postimg.cc/4y92Rs9R/a1112.png\"></center>\n",
    "<center><img src=\"https://i.postimg.cc/3rsbC4s8/a1113.png\"></center>"
   ]
  }
 ],
 "metadata": {
  "language_info": {
   "name": "python"
  }
 },
 "nbformat": 4,
 "nbformat_minor": 2
}
