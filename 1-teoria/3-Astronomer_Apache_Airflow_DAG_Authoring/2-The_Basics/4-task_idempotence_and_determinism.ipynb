{
 "cells": [
  {
   "cell_type": "markdown",
   "metadata": {},
   "source": [
    "### **2.4 - Task idempotence and determinism**"
   ]
  },
  {
   "cell_type": "markdown",
   "metadata": {},
   "source": [
    "Cuando creas tu tarea en tu data pipeline quieres asegurarte de que esta tarea es idempotente y determinista. Básicamente significa que si ejecutas tu tarea con una entrada, para la misma entrada siempre obtendrás la misma salida. Esta es la definición de determinista e idempotente significa que si ejecutas varias veces tu tarea, tu tarea siempre producirá el mismo efecto secundario. Dicho esto, es bastante teórico, así que déjame darte un ejemplo concreto. Digamos que quieres ejecutar una SQL request, por ejemplo, podrías crear la siguiente tarea con el PostgresOperator y luego con task_id obviamente, así que llamémosla 'create_table' y luego defines tu SQL request como \"CREATE TABLE my_table ...\" y así sucesivamente. \n",
    "\n",
    "<center><img src=\"https://i.postimg.cc/Kj3JCcyn/a1087.png\"></center>\n",
    "\n",
    "Así que ahora, ESTA TAREA NO ES IDEMPOTENTE, lo que significa que si tratas de ejecutar esa tarea dos veces obtendrás un error. Así que no puedes ejecutar esa tarea más de una vez, porque la SQL request \"CREATE TABLE my_table ...\" sólo puede ejecutarse una vez. Así que debes tener cuidado con eso, porque si quieres reintentar tu tarea no podrás hacerlo. Así que para hacer esta tarea IDEMPOTENTE tienes que escribir \"CREATE TABLE IF NOT EXISTS my_table …\". Así que este es un ejemplo, otro ejemplo podría ser que en vez de usar el PostgresOperator, quieras usar el BashOperator, así que esta vez el task ID podría ser \"creating_folders\" y entonces tienes este bash_command \"mkdir my_folder\".\n",
    "\n",
    "<center><img src=\"https://i.postimg.cc/j5FM8wBx/a1088.png\"></center>\n",
    "\n",
    "Nuevamente, ESTA TAREA NO ES IDEMPOTENTE. ¿Por qué? porque si ejecuta más de una vez el comando \"mkdir my_folder\" terminará con un error, recibirá un error diciendo, hey, esta carpeta ya existe, así que tiene que asegurarse de que pueda crear esa carpeta más de una vez, de lo contrario no podrás reintentar tu tarea, no podrás volver a ejecutar tu tarea en el pasado también y ten en cuenta que Airflow te permite ejecutar una tarea y también te permite volver a ejecutar tus tareas pasadas ya disparadas. En resumen, asegúrese de que usted puede ejecutar su tarea más de una vez, con la misma entrada siempre se debe obtener la misma salida y siempre debe tener el mismo efecto secundario. ¿Por qué? porque es posible que tengas que volver a ejecutar DAG Runs ya disparados y por eso quieres asegurarte de que, si vuelves a ejecutar tareas ya disparadas con la misma entrada, siempre obtendrás la misma salida cada vez que ejecutes esas tareas."
   ]
  }
 ],
 "metadata": {
  "language_info": {
   "name": "python"
  }
 },
 "nbformat": 4,
 "nbformat_minor": 2
}
