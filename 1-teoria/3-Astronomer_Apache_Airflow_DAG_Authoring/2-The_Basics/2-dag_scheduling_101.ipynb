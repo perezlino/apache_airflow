{
 "cells": [
  {
   "cell_type": "markdown",
   "metadata": {},
   "source": [
    "### **2.2 - DAG Scheduling 101**"
   ]
  },
  {
   "cell_type": "markdown",
   "metadata": {},
   "source": [
    "#### **`start_date y schedule_interval`**\n",
    "\n",
    "Voy a ser rápido pero siempre es bueno tener un recordatorio fresco de cómo se programan tus DAGs en Airflow. Así que primero hay que recordar que hay dos parámetros importantes y el primero es el 'start_date'. 'start_date' define la fecha en la que su DAG comienza a ser programado (scheduled). Por ejemplo, el 1 de enero de 2021 y ésta start_date se define con el objeto 'datetime'. Luego tienes el schedule_interval. El schedule_interval define la frecuencia con la que tu DAG se activa (is triggered). Por ejemplo, cada 10 minutos o cada día o una vez a la semana y así sucesivamente. Este schedule_intervale se define mediante el uso de 'cron expression' o 'timedelta object'.\n",
    "\n",
    "<center><img src=\"https://i.postimg.cc/ydYGpzdP/a1083.png\"></center>\n",
    "\n",
    "Déjeme darle un esquema rápido. Así que vamos a suponer que usted tiene un DAG con el start_date establecido en el 1 de enero de 2021 a las 10:00 AM y el schedule_interval se establece en 10 minutos. Ahora, a las 10:00 AM no pasa nada, Airflow esperará durante 10 minutos que corresponden al schedule_interval que tiene y luego a las 10:10 AM se dispara efectivamente la primera ejecución del DAG (el primer DAG Run) y el comienzo de este período de tiempo (10:00 AM) se corresponde con la 'execution_date'. Así que la execution_date del 'DAG Run #1' corresponde al inicio del periodo de tiempo entre las 10:00 AM y tu schedule_interval. Así que tienes tu DAG Run disparado después del start_date más el schedule_interval, a las 10:10 AM, y el comienzo de ese período, 10:00 AM, corresponde a la execution_date de tu DAG Run.\n",
    "\n",
    "___"
   ]
  },
  {
   "cell_type": "markdown",
   "metadata": {},
   "source": [
    "#### **`Execution flow`**\n",
    "\n",
    "<center><img src=\"https://i.postimg.cc/1tCjLYVZ/a1084.png\"></center>\n",
    "\n",
    "De nuevo, una vez que la DAG Run #1 se completa a las 10:10 AM, no ocurre nada. Sigue habiendo un segundo DAG Run, Airflow espera 10 minutos y a las 10:20 AM el DAG Run #2 se dispara efectivamente y esta vez el execution_date para ese DAG Run, para el segundo DAG Run, es igual a las 10:10 AM, el periodo de tiempo de inicio del scheduling. Y se repite una y otra vez, así que para la DAG Run #3, Airflow espera 10 minutos y a las 10:30 AM se dispara efectivamente el DAG Run y la execution_date para ese DAG Run es igual a las 10:20 AM. Lo mismo ocurre con el resto de DAG Runs. Eso es lo que debes recordar, tu DAG se dispara efectivamente después del start_date más el schedule_interval, así que por ejemplo, si tienes un DAG con un start_date al 1 de enero de 2021 y el schedule_interval es diario, el execution_date del tercer DAG Run será igual al 3 de enero de 2021 a medianoche pero se disparará efectivamente el 4 de enero de 2021 a medianoche.\n",
    "\n",
    "<center><img src=\"https://i.postimg.cc/02JBBn8L/a1085.png\"></center>\n",
    "\n",
    "___"
   ]
  }
 ],
 "metadata": {
  "language_info": {
   "name": "python"
  }
 },
 "nbformat": 4,
 "nbformat_minor": 2
}
