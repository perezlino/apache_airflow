{
 "cells": [
  {
   "cell_type": "markdown",
   "metadata": {},
   "source": [
    "### **2.3 - Cron v/s Timedelta**"
   ]
  },
  {
   "cell_type": "markdown",
   "metadata": {},
   "source": [
    "Puede definir su schedule interval mediante el uso de 'Cron expression' o 'timedelta object'. Pero la pregunta es ¿cuál es la diferencia entre esos dos? Bueno, saltemos a un ejemplo para mostrarte esto. Lo que debe tener en cuenta es que la diferencia entre la 'Cron expression' y el 'timedelta object' es que la 'Cron expression' no tiene estado, mientras que el 'timedelta object' tiene estado o es relativo. Déjame mostrarte un ejemplo. Entonces, digamos que tiene el siguiente data pipeline llamado 'processor_customer' y luego tiene un schedule interval establecido en @daily o esta Cron expression (0 0 * * *). Entonces, lo que significa que todos los días a la medianoche va a disparar tu DAG. Entonces, por ejemplo, tu DAG Run se ejecutará el 1 de enero de 2021 a la medianoche y luego el segundo DAG Run se ejecutará el 2 de enero a la medianoche y algo para el tercer DAG Run y así sucesivamente. Así que básicamente siempre se disparará su DAG a la medianoche, todos los días. Eso es todo. Es tan simple como eso. \n",
    "\n",
    "Ahora digamos que en lugar de tener una 'Cron expression' esta vez tiene un 'timedelta object', timedelta(days=1). ¿Cuál es la diferencia? Bueno, para ver la diferencia, necesitamos especificar una start_date aquí, imaginemos que para ese DAG la start_date es igual al 1 de enero de 2021 a las 10:00 a. m. Así que, ¿qué significa? Bueno, primero puede ver que con la 'Cron expression', incluso si el schedule interval está configurado en @daily, no está esperando 24 horas entre la start_date y la primera ejecución de DAG (el primer DAG Run). Eso es lo que puedes ver aquí. Si start_date es igual a las 10:00 a. m., su DAG se activará a la medianoche. Por lo tanto, no está esperando 24 horas como lo define el schedule interval (el que determinamos con @daily), de hecho, está esperando solo 14 horas. Ahora, con el timedelta object es diferente porque activará su DAG en función de la execution_date más reciente y como la primera ejecución del DAG (primer DAG Run) en función de la start_date. Entonces, en ese caso, la execution_date del primer DAG Run será igual al 1 de enero de 2021 a las 10:00 a. m., pero este DAG, la primera ejecución de DAG (el primer DAG Run) se disparará efectivamente 24 horas después, por lo que el 2 de enero de 2021 a las 10:00 AM, esa es la diferencia. Entonces, en la segunda ejecución de DAG (segundo DAG Run), tendremos la execution_date nuevamente el 2 de enero, esta vez a las 10:00 a. m. Entonces, como puede ver con la 'Cron expression', realmente está diciendo que quiero ejecutar mi DAG, quiero disparar mi DAG como se especifica en la 'Cron expression', mientras que con el 'timedelta object' está diciendo que quiero para ejecutar mi DAG de acuerdo con la execution_date anterior.\n",
    "\n",
    "Ya sea que elija, la 'Cron expression' o el 'timedelta object' depende de usted, eso realmente depende de sus casos de uso, pero cuando usa un caso en el que necesitará un 'timedelta object' es, por ejemplo, cuando desea disparar su DAG cada tres días por ejemplo. Si intenta hacer eso con una 'Cron expression', tendrá que especificar cada día en la Cron expression, pero obviamente terminará con el problema porque, por ejemplo, el último día del mes será, por ejemplo, el 31 y luego tendrá el primer día del mes, el día 1, y la cosa es que no esperará tres días entre esos dos días mientras que con el ‘timedelta object’ con days= 3, entonces esperará efectivamente tres días y siempre esperará tres días entre cada ejecución de DAG y ahora sabe cuál es la diferencia entre una 'Cron expression' y un 'timedelta object'.\n",
    "\n",
    "<center><img src=\"https://i.postimg.cc/XXMQWMVt/a1086.png\"></center>"
   ]
  }
 ],
 "metadata": {
  "language_info": {
   "name": "python"
  }
 },
 "nbformat": 4,
 "nbformat_minor": 2
}
