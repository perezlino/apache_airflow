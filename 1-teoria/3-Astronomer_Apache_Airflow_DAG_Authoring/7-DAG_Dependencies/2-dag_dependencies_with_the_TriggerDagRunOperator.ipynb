{
 "cells": [
  {
   "cell_type": "markdown",
   "metadata": {},
   "source": [
    "### **7.2 - DAG dependencies with the TriggerDagRunOperator**"
   ]
  },
  {
   "cell_type": "markdown",
   "metadata": {},
   "source": [
    "Estoy super emocionado por este vídeo porque vas a descubrir uno de mis operadores favoritos en Airflow, el \"TriggerDagRunOperator\". Así que, en el vídeo anterior, has descubierto el \"ExternalTaskSensor\" y cómo crear dependencias DAG con él. Pero, la cosa es que tienes que asegurarte de que los diferentes DAGs comparten las mismas \"execution dates\". De lo contrario, tendrás que lidiar con el delta entre las diferentes \"execution dates\" y podría ser realmente complicado en algún momento. Por lo tanto, creo que el \"TriggerDagRunOperator\" es una forma más fácil de definir las dependencias DAG. Veamos cómo funciona. Para ilustrar el \"TriggerDagRunOperator\", vamos a utilizar el mismo ejemplo del vídeo anterior, con el \"ExternalTaskSensor\". Así, si recuerdas en tu DAG \"cleaning_dag\", que se encarga de eliminar todos los XComs que han sido creados por el DAG \"my_dag\", has utilizado el \"ExternalTaskSensor\" como se muestra ahí mismo. Puedes eliminarlo ya que no lo vas a utilizar más.\n",
    "\n",
    "<center><img src=\"https://i.postimg.cc/br6YZ0sH/a1527.png\"></center>\n",
    "<center><img src=\"https://i.postimg.cc/KvzvdWH9/a1528.png\"></center>\n",
    "\n",
    "Y ahora sólo quieres disparar ese DAG desde el DAG \"my_dag\". ¿Cómo puedes hacerlo? Bien, en ese caso necesitarás usar el \"TriggerDagRunOperator\". Así que volvamos a \"my_dag\" y primero necesitas importar ese operador. Así que aquí lo escribes:\n",
    "\n",
    "<center><img src=\"https://i.postimg.cc/NfzfY4hQ/a1529.png\"></center>\n",
    "\n",
    "Una vez que lo tengas, copia el operador y vamos a crear una nueva tarea que será la última en ejecutarse. Así que justo después de la tarea \"storing\", quieres crear la tarea \"trigger_cleaning_xcoms\" igual al \"TriggerDagRunOperator\", un task_id como usualmente hacemos, en ese caso, es \"trigger_cleaning_xcoms\". Y ahora necesitas definir algunos argumentos, y el primero es \"trigger_dag_id\" que espera el DAG ID del DAG que quieres disparar. Así que, en este caso, es \"cleaning_dag\", \n",
    "\n",
    "<center><img src=\"https://i.postimg.cc/mg1ZrHRC/a1530.png\"></center>\n",
    "\n",
    "como se define aquí:\n",
    "\n",
    "<center><img src=\"https://i.postimg.cc/QML8KdxP/a1531.png\"></center>\n",
    "\n",
    "Así que es tan simple como eso. En este punto, eso es todo lo que necesitas para disparar otro DAG desde tu DAG. Así que es mucho más simple que usar \"ExternalTaskSensor\", pero puedes hacerlo mucho mejor que eso. Otro argumento que puedes utilizar es \"execution_date\", y este argumento espera un string o un objeto datetime, y básicamente esta \"execution date\", la fecha que pases aquí se utilizará como la \"execution date\" del DAG que dispares con el \"TriggerDagRunOperator\". Esto puede ser útil por razones de backfilling. En ese caso puedes usar el \"template engine\" y decir que quieres usar la \"execution date\" actual.\n",
    "\n",
    "<center><img src=\"https://i.postimg.cc/254zQN15/a1532.png\"></center>\n",
    "\n",
    "A continuación, y esta es una de las razones por las que me gusta tanto el \"TriggerDagRunOperator\", es el nuevo argumento, porque este argumento no existía antes de Airflow 2.0, llamado \"wait_for_completion\". Y \"wait_for_completion\" define si desea esperar a que el DAG disparado se complete antes de pasar a la siguiente tarea. Así que, básicamente, puedes esperar hasta la finalización del DAG disparado antes de pasar a la siguiente tarea en tu DAG actual. Y esto es realmente poderoso, porque en los días pasados, una de las razones por las que muchas personas estaban utilizando el \"ExternalTaskSensor\" es porque querían esperar a que el otro DAG se completara antes de seguir adelante. Pero ahora, puedes hacer eso dentro del \"TriggerDagRunOperator\". Así que, en ese caso, puedes especificar \"True\", por ejemplo. Y como usted está esperando algo aquí, hay otro argumento que puede utilizar, que es \"poke_interval\" establecido en 60 segundos por defecto. Y de nuevo, este intervalo define la frecuencia, el intervalo de tiempo en el que comprobarás si tu DAG disparado se ha completado o no. Obviamente, deberías definir un valor significativo aquí, si esperas que tu DAG tarde, por ejemplo, cinco minutos en completarse, entonces podría ser interesante poner 5 minutos aquí. Dicho esto, ten en cuenta que el \"TriggerDagRunOperator\" no es un sensor, no está basado en la clase sensor, lo que significa que \"mode\" no está disponible para este operador. Sé que es un poco raro, pero así es como funciona.\n",
    "\n",
    "<center><img src=\"https://i.postimg.cc/FRNhGCSV/a1533.png\"></center>\n",
    "\n",
    "**`Por último, hay dos argumentos más que son importantes para ti, y el primero es \"reset_dag_run\", que se establece en \"False\" por defecto, pero te aconsejo encarecidamente que lo establezcas en \"True\". ¿Por qué? Bueno, imaginemos que cometiste un error en tu DAG y quieres volver a ejecutar tu DAG. El DAG que es disparado por el \"TriggerDagRunOperator\" lanzará una excepción, porque no puedes ejecutar dos veces el mismo DAG en la misma \"execution date\"`**. Si quieres hacerlo, primero tienes que limpiar el DagRun para esa \"execution date\", y luego puedes volver a ejecutar tu DAG. Y eso es exactamente lo que \"reset_dag_run\" te permite hacer. Si no estableces este argumento a \"True\", entonces no podrás rellenar (backfill) tu DAG o no podrás volver a ejecutar tu DAG básicamente. Así que, como mejor práctica, siempre establece este argumento a \"True\". Por último, pero no menos importante, está \"failed_states\" que, al igual que con el \"ExternalTaskSensor\", espera una lista de estados y en ese caso puedes especificar \"failed\". Así que, si no lo haces, por defecto \"failed_states\" está vacío y por lo tanto tu \"TriggerDagRunOperator\" puede continuar ejecutándose, porque no sabe si tu DagRun ha fallado o no. Por eso siempre define \"failed_states\".\n",
    "\n",
    "<center><img src=\"https://i.postimg.cc/d16wfRmP/a1534.png\"></center>\n",
    "\n",
    "Así que dicho esto, en este punto ya sabes todo lo que necesitas sobre el \"TriggerDagRunOperator\" y eres capaz de crear impresionantes dependencias DAG. Realmente me encanta ese operador porque creo que es mucho más fácil crear dependencias DAG que con el \"ExternalTaskSensor\". Pero siéntete libre de probar el otro y hacer tu elección. Pero de nuevo, este es realmente mi favorito."
   ]
  }
 ],
 "metadata": {
  "language_info": {
   "name": "python"
  }
 },
 "nbformat": 4,
 "nbformat_minor": 2
}
