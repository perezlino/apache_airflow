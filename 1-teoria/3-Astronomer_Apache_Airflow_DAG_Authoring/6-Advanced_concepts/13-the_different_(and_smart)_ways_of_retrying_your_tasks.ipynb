{
 "cells": [
  {
   "cell_type": "markdown",
   "metadata": {},
   "source": [
    "### **6.13 - The different (and smart) ways of retrying your tasks**"
   ]
  },
  {
   "cell_type": "markdown",
   "metadata": {},
   "source": [
    "Una de las principales razones por las que airflow es tan útil, es porque cada vez que una tarea falla, entonces esa tarea es automáticamente reintentada y airflow te ofrece muchas maneras diferentes de modificar la forma en que tus tareas son reintentadas. Veamos, cuales son y como definirlas. Un argumento que quizás no conozcas, pero extremadamente útil si tu tarea trata con una base de datos o una API. Empecemos. Bien, el primer argumento y el más básico que tienes que definir es \"retries\". Por defecto, \"retries\" es igual a \"0\", y define el número de reintentos antes de que tu tarea falle. Así que si su tarea falla, el estado de su tarea será para reintentar (will be up for \"retry\"), pero tan pronto como el número de reintentos se alcanza, entonces el estado de su tarea se convertirá en \"failed (fallido)\". Ahora, puedes definir el número de reintentos a nivel de tarea, o en el argumento por defecto (default argument), para que el número de reintentos sea común a todos tus operadores. \n",
    "\n",
    "<center><img src=\"https://i.postimg.cc/g00WZbq8/a1479.png\"></center>\n",
    "\n",
    "O bien, si desea aplicar el número de reintentos a nivel de su instancia airflow, hay un ajuste de configuración que puede modificar, que es \"default_task_retry\". Por ejemplo, aquí podría decir que desea reintentar la tarea \"extract\" tres veces antes de fallar. \n",
    "\n",
    "<center><img src=\"https://i.postimg.cc/JhdW3YPg/a1480.png\"></center>\n",
    "\n",
    "Ahora tenga en cuenta que cada vez que se define el mismo argumento en los argumentos por defecto (default arguments), como se muestra aquí,\n",
    "\n",
    "<center><img src=\"https://i.postimg.cc/Kzkh07WY/a1481.png\"></center>\n",
    "\n",
    "Tienes \"retries\" igual a \"0\". Este valor es sobrescrito por el mismo argumento y el valor \"3\", cuando se define a nivel de tarea. Tenga en cuenta que, si define \"retries\" aquí,\n",
    "\n",
    "<center><img src=\"https://i.postimg.cc/j5p0mwV4/a1482.png\"></center>\n",
    "\n",
    "este valor se tiene en cuenta y sobrescribe el mismo argumento definido en sus default arguments. El segundo argumento que puede utilizar para los reintentos es \"retry_delay\". \"retry_delay\" define el tiempo que quieres esperar entre cada reintento. Así, por ejemplo, usted quiere decir, quiero esperar 5 minutos entre cada intento, entonces puedo definir timedelta. Este argumento espera un objeto timedelta \"(minutes=5)\", que es por cierto, el valor por defecto. Pero ahora, esto no es super inteligente. Quiero decir, imaginemos que usted tiene una tarea que está tratando de llegar a una API o base de datos. La cosa es que, para ese tipo de recursos, no quieres enviar un montón de peticiones, porque tu tarea está siendo reintentada. En su lugar, puede utilizar otro argumento, que es \"retry_exponential_backoff\", y cuando se establece en \"True\", en lugar de reintentar su tarea cada cinco minutos o cada minuto, entonces va a esperar un poco más en cada reintento. Así, por ejemplo, para el primer reintento, esperará 5 minutos, luego para el segundo reintento esperará siete minutos y para el último esperará quizás 10 minutos. De modo que si tu API está recibiendo demasiadas peticiones en este momento, sólo porque estás esperando un poco más en cada reintento, tal vez tendrás una mejor oportunidad de tener éxito con tu tarea. Así que ten en cuenta que, cada vez que interactúes con una API o base de datos, la mejor práctica es establecer \"retry_exponential_backoff\" a \"True\", para evitar sobrecargar tu API o base de datos.\n",
    "\n",
    "<center><img src=\"https://i.postimg.cc/HnbDgYdD/a1483.png\"></center>\n",
    "\n",
    "El último argumento que puede serte útil siempre que utilices \"retry_exponential_backoff\" es \"max_retry_delay\", que espera el objeto timedelta, por ejemplo, digamos 15 minutos. Entonces, cuando usas \"retry_exponential_backoff\", no sabes cuanto tiempo vas a esperar para el tercer reintento, por ejemplo. Por eso es que usando \"max_retry_delay\", te aseguras que, si el próximo reintento no ocurre en los próximos 15 minutos, entonces 15 minutos después, el reintento ocurrirá cualquiera sea el valor de \"retry_exponential_backoff\". Bien, esto es prácticamente todo lo que necesitas saber sobre \"retries\" y cómo modificar la forma en que se reintentan tus tareas. Es realmente poderoso, no dudes en usarlos, especialmente \"retry_exponential_backoff\" cada vez que estés interactuando con la base de datos o una API."
   ]
  }
 ],
 "metadata": {
  "language_info": {
   "name": "python"
  }
 },
 "nbformat": 4,
 "nbformat_minor": 2
}
