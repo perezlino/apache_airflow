{
 "cells": [
  {
   "cell_type": "markdown",
   "metadata": {},
   "source": [
    "### **6.9 - Demystifying wait for downstream**"
   ]
  },
  {
   "cell_type": "markdown",
   "metadata": {},
   "source": [
    "Un argumento que se utiliza tan comúnmente con \"depends_on_past\" es \"wait_for_downstream\". ¿Qué es \"wait_for_downstream\"? Bueno, \"wait_for_downstream\" te permite decir, ejecuta esa tarea, solo si la misma tarea en el DagRun anterior ha tenido exito asi como sus \"tareas downstream directas\". Dejame mostrarte esto. Digamos que tienes el siguiente data pipeline con solo tres tareas \"A-B-C\" y dos DagRuns. Ahora has dicho \"wait_for_downstream\" en la primera tarea (tarea A). ¿Qué ocurrirá en cuanto se active el segundo DagRun?\n",
    "\n",
    "<center><img src=\"https://i.postimg.cc/0yDxsC5K/a1448.png\"></center>\n",
    "\n",
    "Bueno, la tarea A en el segundo DagRun se activará sólo si la tarea A en el DagRun anterior ha tenido éxito, así como su \"tarea downstream directa\", que es B:\n",
    "\n",
    "<center><img src=\"https://i.postimg.cc/g0KWwkZY/a1449.png\"></center>\n",
    "\n",
    "Y una vez que esas dos tareas se han ejecutado con éxito, entonces la tarea A en el segundo DagRun se activa. Así es como funciona.\n",
    "\n",
    "<center><img src=\"https://i.postimg.cc/QtxrcGQc/a1450.png\"></center>\n",
    "\n",
    "Si la \"tarea downstream directa\" de A, B falló en el DagRun anterior, entonces la tarea A en el segundo DagRun no se disparará. \n",
    "\n",
    "<center><img src=\"https://i.postimg.cc/gJSbDSsQ/a1451.png\"></center>\n",
    "\n",
    "Asi que ten en cuenta una cosa muy importante, con \"wait_for_downstream\" no estas esperando por todas las tareas que esten downstream a la tarea donde se aplica wait for downstream.\n",
    "\n",
    "<center><img src=\"https://i.postimg.cc/WzdLfGf3/a1452.png\"></center>\n",
    "\n",
    "De hecho, sólo estás esperando por las tareas downstream directas\" en ese caso sólo B.\n",
    "\n",
    "<center><img src=\"https://i.postimg.cc/PJ0sGCBM/a1453.png\"></center>\n",
    "\n",
    "Sólo ten en cuenta esto, porque es muy común ver que si pongo \"wait_for_downstream\" en la primera tarea de mi DAG, entonces eso significa que el siguiente DagRun no se activará, si el DagRun anterior no tuvo éxito, no es el caso en absoluto. Ese no es el objetivo de \"wait_for_downstream\". Solo espera por la \"tarea downstream directa\". Una última cosa a tener en cuenta, tan pronto como se establece \"wait_for_downstream\", esa tarea tiene \"depends_on_past\" establecido en \"True\" automáticamente, lo cual tiene sentido. Y por cierto, si te estas preguntando por que necesitas usar \"wait_for_downstream\", bueno por ejemplo, si tienes una tarea accediendo a recursos y modificando esos recursos, como puedes terminar con multiples DagRun y asi multiples instancias de esa tarea tratando con los mismos recursos, puedes terminar con race conditions y asi sucesivamente. Así que, para asegurarte de que todas tus tareas no están modificando los mismos recursos al mismo tiempo, \"wait_for_downstream\" puede serte útil. Dicho esto, ahora ya sabes todo lo que necesitas sobre este argumento bastante simple, pero poderoso."
   ]
  }
 ],
 "metadata": {
  "language_info": {
   "name": "python"
  }
 },
 "nbformat": 4,
 "nbformat_minor": 2
}
