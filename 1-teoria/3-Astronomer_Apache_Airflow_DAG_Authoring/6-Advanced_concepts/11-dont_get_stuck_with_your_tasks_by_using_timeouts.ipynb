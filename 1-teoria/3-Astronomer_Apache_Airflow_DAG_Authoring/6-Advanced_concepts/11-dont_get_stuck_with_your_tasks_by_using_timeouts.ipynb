{
 "cells": [
  {
   "cell_type": "markdown",
   "metadata": {},
   "source": [
    "### **6.11 - Don't get stuck with your Tasks by using Timeouts**"
   ]
  },
  {
   "cell_type": "markdown",
   "metadata": {},
   "source": [
    "Este video va a ser bastante rápido, pero importante, de hecho, vamos a hablar de \"timeouts\", y lo primero que hay que saber, es que puedes definir un \"timeout\" dentro de tus DAGs. Para hacer eso, necesitas definir el argumento \"dagrun_timeout\" en el objeto DAG,\n",
    "\n",
    "<center><img src=\"https://i.postimg.cc/3rkxqmGm/a1464.png\"></center>\n",
    "\n",
    "y como puedes ver, eso es exactamente lo que has hecho al principio del curso de preparación con un objeto timedelta, 10 minutos, lo que significa, que si el DagRun no está terminado después de 10 minutos, entonces falla, y es realmente importante definir un DagRun timeout porque como sabes tienes un número limitado de DagRuns que puedes ejecutar al mismo tiempo. Pero, si por alguna razón una de tus tareas se atasca, entonces tu DagRun no terminará y en algún momento podrías terminar con un estancamiento ya que no serás capaz de ejecutar más DagRuns. Por eso, define siempre un timeout (tiempo de espera) para el DagRun. Por cierto, no olvides que este argumento sólo funciona para DAGs programados (scheduled DAGs). Si disparas tu DAG manualmente, entonces este argumento no será tenido en cuenta por airflow. Ahora, hay otra cosa que puedes hacer, pero esta vez a nivel de operador, puedes definir un \"execution_timeout\" también. Por lo tanto, aquí si deseas decir que si \"start\" tarda más de 10 minutos en terminar, entonces quieres que se agote el tiempo de ejecución de esa tarea (timeout that task). Puede definir \"execution_timeout\" igual a \"timedelta(minutes=10)\". Y ahora, si la tarea tarda más de 10 minutos, se agota el tiempo de espera. Tenga en cuenta que, este argumento no tiene valor por defecto, que es el tipo de problema, porque, si esa tarea nunca termina, entonces su DagRun no terminará también, y de nuevo, usted podría terminar con un estancamiento. Así que la conclusión es que siempre se debe definir un \"timeout\" en el nivel de operador y en el nivel DAG, esto es realmente una mejor práctica. Y si te estás preguntando, ¿cómo puedes reaccionar si tu tarea agota el tiempo de espera (if your task times out)? Veamos el siguiente vídeo.\n",
    "\n",
    "<center><img src=\"https://i.postimg.cc/v8CZwT7j/a1465.png\"></center>\n",
    "<center><img src=\"https://i.postimg.cc/3JpJ8hnw/a1466.png\"></center>"
   ]
  }
 ],
 "metadata": {
  "language_info": {
   "name": "python"
  }
 },
 "nbformat": 4,
 "nbformat_minor": 2
}
