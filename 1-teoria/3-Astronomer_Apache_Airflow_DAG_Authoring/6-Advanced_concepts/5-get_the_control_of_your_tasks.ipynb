{
 "cells": [
  {
   "cell_type": "markdown",
   "metadata": {},
   "source": [
    "### **6.5 - Get the control of your tasks**"
   ]
  },
  {
   "cell_type": "markdown",
   "metadata": {},
   "source": [
    "La concurrencia (concurrency) es un tema muy importante para ti. ¿Por qué? Bueno, ¿qué pasa si quieres definir el número de tareas que se pueden ejecutar al mismo tiempo para toda tu instancia de Airflow? O qué pasa si quieres definir el número de DagRuns que puedes ejecutar al mismo tiempo para un DAG dado, porque tal vez tienes dependencias DagRun o qué pasa si quieres definir que sólo para ese conjunto específico de tareas quieres ejecutar dos tareas a la vez o una tarea a la vez, porque tal vez esas tareas se encargan del entrenamiento de modelos de machine learning, que realmente consumen recursos. Es por eso que usted realmente necesita entender cómo funciona la \"concurrencia\" en Airflow y cómo vas a ver hay realmente diferentes maneras de definirlo. Así que sin más que hacer, vamos a empezar. La primera forma de definir la \"concurrencia\" en Airflow es mediante el uso del archivo de configuración y en ese archivo tiene diferentes opciones que puedes utilizar. El primero y tal vez el más comúnmente utilizado es \"PARALLELISM\". Así que \"PARALLELISM\", que se establece en 32 por defecto, define el número de tareas que se pueden ejecutar al mismo tiempo para toda su instancia airflow. Esto significa que, por defecto, se pueden ejecutar como máximo 32 tareas al mismo tiempo en toda la instancia de Airflow. A continuación, tenemos \"DAG_CONCURRENCY\", que se establece en 16 por defecto y este ajuste define el número de tareas que se pueden ejecutar al mismo tiempo para un DAG dado y, por defecto, es de 16 tareas. Así que no tendrás más de 16 tareas ejecutándose al mismo tiempo para todos los DagRuns del DAG. Luego, el último parámetro es \"MAX_ACTIVE_RUNS_PER_DAG\" y se establece en 16 por defecto, y este ajuste define el número de DagRuns que se pueden ejecutar al mismo tiempo para un DAG dado. Así, con esos parámetros por defecto, está diciendo que puede ejecutar como máximo 32 tareas para toda su instancia de airflow, para todos sus DAGs. Luego, con \"DAG_CONCURRENCY\" configurado en 16, estás diciendo que puedes ejecutar como máximo 16 tareas al mismo tiempo para todos los DagRuns de un DAG determinado. Por último, con \"MAX_ACTIVE_RUNS_PER_DAG\" establecido en 16, estás diciendo que puedes tener como máximo 16 DagRuns ejecutándose al mismo tiempo para un DAG dado. \n",
    "\n",
    "<center><img src=\"https://i.postimg.cc/8crQH5M2/a1376.png\"></center>\n",
    "\n",
    "Estos parámetros se definen al nivel de Airflow. ¿Y si quieres modificar la \"concurrencia\" a nivel de DAG? Bueno, puedes hacerlo con dos parámetros, y el primero es \"concurrency\". Así que, si estableces la concurrencia a \"2\", por ejemplo, estás diciendo que puedes ejecutar como máximo dos tareas a la vez en todos los DagRuns de un DAG dado. Así que, de nuevo, aquí no estás diciendo que tendrás dos tareas ejecutándose al mismo tiempo para cada DagRun, sino que tendrás dos tareas ejecutándose al mismo tiempo a través de todos los DagRuns de ese DAG.\n",
    "\n",
    "<center><img src=\"https://i.postimg.cc/qvrqNVdJ/a1377.png\"></center>\n",
    "\n",
    "Y el otro parámetro que puedes usar es \"max_active_runs\" igual a \"1\". Si quieres decir, quiero ejecutar un DagRun a la vez para ese DAG específico, o si quieres ejecutar \"2\" DagRuns a la vez para ese DAG específico, puedes especificar \"max_active_runs\" a \"2\". \n",
    "\n",
    "<center><img src=\"https://i.postimg.cc/Hktx5ZpQ/a1378.png\"></center>\n",
    "\n",
    "Así que, esos son los dos parámetros que puedes aprovechar a nivel DAG para modificar la \"concurrencia\". Y ahora está el último nivel, que está en el \"nivel de tarea\" y hay realmente dos parámetros para eso, donde el primero es \"task_concurrency\", así que por ejemplo, digamos que quieres definir que la tarea \"start\", quieres ejecutar sólo una instancia de \"start\" a la vez a través de todos los DagRuns de tu DAG. Bien, de nuevo, sólo tienes que especificar \"task_concurrency\" igual a \"1\", y entonces no tendrás más de una instancia de tarea correspondiente a \"start\" ejecutándose a la vez para todos los DagRuns de este DAG.\n",
    "\n",
    "<center><img src=\"https://i.postimg.cc/Ls6sVtXG/a1379.png\"></center>\n",
    "\n",
    "Y aquí está mi favorito, que es \"Pool\" y por defecto se establece en \"default_pool\" y vas a descubrir este parámetro en el siguiente video.\n",
    "\n",
    "<center><img src=\"https://i.postimg.cc/7LsZt5Jh/a1380.png\"></center>"
   ]
  }
 ],
 "metadata": {
  "language_info": {
   "name": "python"
  }
 },
 "nbformat": 4,
 "nbformat_minor": 2
}
