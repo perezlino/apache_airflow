{
 "cells": [
  {
   "cell_type": "markdown",
   "metadata": {},
   "source": [
    "### **6.3 - Change task execution with Trigger Rules**"
   ]
  },
  {
   "cell_type": "markdown",
   "metadata": {},
   "source": [
    "Este vídeo va a ser bastante rápido, pero, extremadamente interesante. En efecto, vas a descubrir el concepto de \"trigger rules\". ¿Qué es una \"trigger rule\"? Bueno, el trigger define el comportamiento de tu tarea, el por qué tu tarea se va a disparar, y por defecto, el trigger que se aplica a todos tus operadores es la regla \"all_success\". Esto significa que, por ejemplo, para la tarea \"start\", la \"trigger rule\" por defecto es igual a \"all_success\", lo que significa que la tarea se dispara si todos sus padres han tenido éxito. \n",
    "\n",
    "<center><img src=\"https://i.postimg.cc/kGPBb7Xw/a1345.png\"></center>\n",
    "\n",
    "Luego tienes otra \"trigger rule\", que es \"all_failed\", y esta tarea se dispara si todos sus padres han fallado. Eso podría ser útil si usted tiene como una tarea encargada de enviar una notificación por correo electrónico o notificación de Slack.\n",
    "\n",
    "<center><img src=\"https://i.postimg.cc/1X040b8S/a1346.png\"></center>\n",
    "\n",
    "Otra \"trigger rule\" es \"all_done\" donde básicamente no te importa el estado de las tareas padre. Siempre y cuando se han disparado y se han completado, tu tarea se dispara también. \n",
    "\n",
    "<center><img src=\"https://i.postimg.cc/sDyMffLg/a1347.png\"></center>\n",
    "\n",
    "Ahora, ¿qué pasa si quieres disparar tu tarea tan pronto como uno de los padres ha fallado? Bueno, en ese caso puede utilizar la trigger rule \"one_failed\".\n",
    "\n",
    "<center><img src=\"https://i.postimg.cc/dtBLhPMm/a1348.png\"></center>\n",
    "\n",
    "Y lo mismo si quieres disparar tu tarea tan pronto como uno de los padres haya tenido éxito, puedes usar \"one_success\". \n",
    "\n",
    "<center><img src=\"https://i.postimg.cc/6pbqhrp8/a1349.png\"></center>\n",
    "\n",
    "Así que ten en cuenta que aquí, la diferencia es que con \"one_success\" y \"one_failed\", no estás esperando a que todos los padres se completen. Tan pronto como uno de los padres ha tenido éxito o ha fallado, la tarea se dispara. A continuación, tal vez usted quiere disparar su tarea sólo si los padres se han omitido o han tenido éxito. En ese caso, puede utilizar \"none_failed\".\n",
    "\n",
    "<center><img src=\"https://i.postimg.cc/KYKzp11J/a1350.png\"></center>\n",
    "\n",
    "Tenga en cuenta que aquí, su tarea no se disparará si uno de los padres ha fallado o tiene el estado de \"upstream_failed\", lo que significa que uno de sus padres también ha fallado. Y luego tienes \"none _skipped\", que es bastante útil si quieres ejecutar tu tarea sólo si todos sus padres no han sido omitidos, así que podrías tener un caso de uso como ese si usas el Operador BranchPython, por ejemplo.\n",
    "\n",
    "<center><img src=\"https://i.postimg.cc/vmpmJG9M/a1351.png\"></center>\n",
    "\n",
    "Y hablando del Operador BranchPython, una trigger rule que es realmente útil y que ya viste en el vídeo anterior es \"non_failed_or_skipped\", que básicamente dice que, vale, quiero disparar mi tarea si al menos uno de los padres ha tenido éxito y todos los padres se han completado. Esta es la diferencia entre \"one_success\". Normalmente algunas personas usan \"one_success\" con el Operador BranchPython, pero no funciona. Tienes que usar esa trigger rule si quieres ejecutar tu tarea incluso si algunos padres han sido omitidos, pero tienes un padre que ha tenido éxito.\n",
    "\n",
    "<center><img src=\"https://i.postimg.cc/FHH1cWNt/a1352.png\"></center>\n",
    "\n",
    "Y la última trigger rule, que no es tan útil en mi opinión, es \"dummy\", que en realidad no hace nada, lo que significa que tu tarea se dispara de inmediato. Es decir, no comprueba nada. Así que eso es todo sobre trigger rules. Las trigger rules son realmente útiles para cambiar el comportamiento de tu tarea, no dudes en probarlas. Ten en cuenta que no puedes especificar múltiples trigger rules al mismo tiempo y ahora estás listo para usarlas.\n",
    "\n",
    "<center><img src=\"https://i.postimg.cc/T2nyX5Cs/a1353.png\"></center>"
   ]
  }
 ],
 "metadata": {
  "language_info": {
   "name": "python"
  }
 },
 "nbformat": 4,
 "nbformat_minor": 2
}
