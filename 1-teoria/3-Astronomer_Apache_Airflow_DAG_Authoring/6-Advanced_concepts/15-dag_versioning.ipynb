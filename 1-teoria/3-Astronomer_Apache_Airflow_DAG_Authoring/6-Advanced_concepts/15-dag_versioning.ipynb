{
 "cells": [
  {
   "cell_type": "markdown",
   "metadata": {},
   "source": [
    "### **6.15 - DAG versioning**"
   ]
  },
  {
   "cell_type": "markdown",
   "metadata": {},
   "source": [
    "El versionado del DAG (DAG versioning) es un tema muy importante. De hecho, ¿qué puedes hacer si tienes tu DAG con dos tareas y luego eliminas una tarea y luego añades dos tareas más? ¿Qué pasa si tu tarea se está ejecutando ahora mismo? ¿Qué ocurrirá? Hay algunas preguntas que necesitas responder, y la verdad es que no hay un mecanismo real para tratar con múltiples versiones de tu DAG. Sin embargo, esto está llegando y hay algunas mejores prácticas que necesitas conocer. Pero primero, vamos a ver qué pasa si disparas tu DAG y luego añades una nueva tarea. Por lo tanto, activa el toggle de tu DAG y actualiza la página. Como puedes ver ahora, está hecho, perfecto.\n",
    "\n",
    "<center><img src=\"https://i.postimg.cc/1zdLVnz1/a1491.png\"></center>\n",
    "\n",
    "Si vuelves a la Tree view, puedes ver tu DagRun con las dos tareas y vamos a añadir una nueva tarea.\n",
    "\n",
    "<center><img src=\"https://i.postimg.cc/vTFkXJ9P/a1492.png\"></center>\n",
    "\n",
    "Así que vuelve a tu editor de código y en \"process_dag\", vamos a añadir una nueva tarea, \"T3\". Lo mismo para las dependencias y guardamos el archivo.\n",
    "\n",
    "<center><img src=\"https://i.postimg.cc/pVzgydb3/a1493.png\"></center>\n",
    "\n",
    "Volvamos a Airflow UI para ver lo que se obtiene. Vamos a la Graph view, y ahora tenemos tres tareas. Disparemos el DAG de nuevo, esta vez manualmente.\n",
    "\n",
    "<center><img src=\"https://i.postimg.cc/Rh78YgLv/a1494.png\"></center>\n",
    "\n",
    "Esperemos un poco y como puedes ver ya está hecho. Pero hay un problema aquí, de hecho, una tarea, y en realidad la nueva tarea que acaba de añadir, no tiene ningún estado en absoluto para el DagRun anterior. Eso es lo que puedes ver aquí:\n",
    "\n",
    "<center><img src=\"https://i.postimg.cc/FsvwSQhz/a1495.png\"></center>\n",
    "<center><img src=\"https://i.postimg.cc/CL4XH6KN/a1496.png\"></center>\n",
    "\n",
    "**`Y este es el primer problema, es decir, si agregas nuevas tareas así, para los DagRuns anteriores, terminarás con algunas tareas sin ningún estado`**. Así que tendrás que volver a ejecutar todos tus DagRuns anteriores. Pero, ese no es el mayor problema, de hecho, ¿qué pasa si ahora eliminas una tarea? Así, por ejemplo, digamos, que quieres eliminar \"T2\", así que vamos a eliminar \"T2\", así como de las dependencias\n",
    "\n",
    "<center><img src=\"https://i.postimg.cc/Z5KgfFBh/a1497.png\"></center>\n",
    "<center><img src=\"https://i.postimg.cc/VNJhwfWG/a1498.png\"></center>\n",
    "\n",
    "Y guardamos el archivo. Si vuelves a la interfaz de Airflow, ve a Graph view y esta vez sólo tienes \"T1\" y \"T3\". Disparemos de nuevo el DAG:\n",
    "\n",
    "<center><img src=\"https://i.postimg.cc/Gm7f68GT/a1499.png\"></center>\n",
    "\n",
    "Esperemos y como puedes ver, hay un gran problema esta vez aquí, porque, ¿dónde está \"T2\"? \n",
    "\n",
    "<center><img src=\"https://i.postimg.cc/Pq0Rrg6t/a1500.png\"></center>\n",
    "\n",
    "Incluso en los DagRuns anteriores, ya no puedes acceder a \"T2\" y por tanto a los logs. Entonces, ¿qué pasa si, por ejemplo, cometiste un error en tu DAG y querías comprobar los registros de tus DagRuns anteriores, pero en el medio eliminaste algunas tareas? Bueno, será muy difícil saber exactamente lo que pasó, ya que no son capaces de acceder a los registros de la tarea que se han eliminado. Es por eso que usted realmente necesita tener cuidado cada vez que agregue una tarea a su DAG. Pero, aún más cuidado cada vez que elimine una tarea de su DAG. Y, de hecho, digamos, que \"T1\" está en cola y empujas una nueva versión de tu DAG con una nueva versión de \"T1\". El caso es que, como \"T1\" está en cola, la última versión de tu DAG no se tendrá en cuenta en ese momento. ¿Vale? en cuanto se dispare \"T1\", \"T1\" seguirá siendo la versión anterior de tu DAG, no la versión más reciente de tu DAG. Por eso hay que tener mucho cuidado cuando se modifican los DAGs y aún más cuando se están ejecutando. Así que hay una mejor práctica muy simple para eso, que te ahorrará un montón de tiempo de depuración. Lo único que tienes que hacer es añadir un sufijo a tu DAG ID, así, por ejemplo, aquí, en lugar de tener sólo \"process_dag\", \n",
    "\n",
    "<center><img src=\"https://i.postimg.cc/zBWPLxMT/a1501.png\"></center>\n",
    "\n",
    "puedes añadir:\n",
    "\n",
    "<center><img src=\"https://i.postimg.cc/D0Tp1qkH/a1502.png\"></center>\n",
    "\n",
    "Y cada vez que crees una nueva versión de tu DAG, cada vez que añadas una nueva tarea o elimines una tarea, entonces añades una versión a tu DAG ID. Es bastante básico, pero funciona muy bien. Obviamente, todos estamos esperando el mecanismo de versiones DAG, que viene muy pronto, pero en este momento esto es super útil. En realidad, eso te dará un control total sobre las diferentes versiones de tus DAGs, así que eso es lo único que necesitas saber sobre el versionado DAG, no dudes en hacerlo. Es realmente una mejor práctica."
   ]
  }
 ],
 "metadata": {
  "language_info": {
   "name": "python"
  }
 },
 "nbformat": 4,
 "nbformat_minor": 2
}
