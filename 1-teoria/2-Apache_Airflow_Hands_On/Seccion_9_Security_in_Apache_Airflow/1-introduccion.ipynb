{
 "cells": [
  {
   "cell_type": "markdown",
   "metadata": {},
   "source": [
    "### **9.1 - Introducccion**"
   ]
  },
  {
   "cell_type": "markdown",
   "metadata": {},
   "source": [
    "Taking care of the security of your application is extremely important especially if you are using Airflow\n",
    "\n",
    "in production.\n",
    "\n",
    "The idea of this section is to start from a very insecure Airflow instance and to show you step by step\n",
    "\n",
    "how can you make it safer by tweaking some parameters.\n",
    "\n",
    "We will see how your passwords are encrypted,\n",
    "\n",
    "what is a Fernet key and how to change it.\n",
    "\n",
    "Then we will quickly take a look at the way of hiding your sensitive variables from the UI.\n",
    "\n",
    "Next, we will discover how to activate password authentication on the Airflow UI as well as creating user\n",
    "\n",
    "accounts in order to filter DAGs based on the owner parameter.\n",
    "\n",
    "Finally, in the recent versions of Airflow it is possible to enable the Role Based Access Control in order\n",
    "\n",
    "to better define permissions of users such as limiting the access to specific views, functionalities\n",
    "\n",
    "and so on.\n",
    "\n",
    "So be ready,\n",
    "\n",
    "this section is gonna be pretty exciting.\n",
    "\n",
    "See you in the next video.\n"
   ]
  }
 ],
 "metadata": {
  "language_info": {
   "name": "python"
  }
 },
 "nbformat": 4,
 "nbformat_minor": 2
}
