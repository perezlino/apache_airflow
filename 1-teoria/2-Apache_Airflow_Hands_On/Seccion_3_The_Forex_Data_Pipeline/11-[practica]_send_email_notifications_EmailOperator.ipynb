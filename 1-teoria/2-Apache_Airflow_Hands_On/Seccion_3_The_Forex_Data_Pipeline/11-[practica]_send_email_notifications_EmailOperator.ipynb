{
 "cells": [
  {
   "cell_type": "markdown",
   "metadata": {},
   "source": [
    "### **3.11 - [Práctica] Send email notifications – EmailOperator**"
   ]
  },
  {
   "cell_type": "markdown",
   "metadata": {},
   "source": [
    "<center><img src=\"https://i.postimg.cc/NfbSHYSC/a599.png\"></center>\n",
    "\n",
    "En esta clase, vas a descubrir cómo implementar el EmailOperator para recibir un correo electrónico cada vez que tu DAG haya terminado. Además, aprenderás a configurar los parámetros de SMTP para que puedas recibir un correo electrónico automáticamente si una tarea falla o es reintentada.\n",
    "\n",
    "Una cosa que tienes que saber es que tienes que configurar tu proveedor de correo electrónico para poder enviar un email desde tu data pipeline usando tu dirección de correo electrónico. Esto es súper importante y es lo que vas a configurar ahora mismo con Gmail. Obviamente, si usted tiene un proveedor de correo electrónico diferente, va a ser otra manera. Pero al final del día, sigue siendo el mismo proceso para configurar su instancia de Airflow, y luego enviar un correo electrónico. Tienes que generar un token, una contraseña o algo de tu proveedor de correo electrónico que pasarás por el EmailOperator para poder enviar un correo electrónico usando tu dirección de correo electrónico.\n",
    "\n",
    "Para configurar un proveedor de correo electrónico Gmail hacemos los siguiente:\n",
    "\n",
    "1.\t**`https://security.google.com/settings/security/apppasswords`**\n",
    "2.\tIngresamos nuestras credenciales\n",
    "\n",
    "<center><img src=\"https://i.postimg.cc/L8bWxDHz/a600.png\"></center>\n",
    "\n",
    "3.\tSeleccionamos las siguientes opciones:\n",
    "\n",
    "<center><img src=\"https://i.postimg.cc/W4qHCZ3x/a601.png\"></center>\n",
    "<center><img src=\"https://i.postimg.cc/qRf5T76q/a602.png\"></center>\n",
    "\n",
    "4.\tLuego copiamos el password generado:\n",
    "\n",
    "<center><img src=\"https://i.postimg.cc/C57PkHPn/a603.png\"></center>\n",
    "\n",
    "Ahora es tiempo de configurar la instancia de Airflow para poder enviar correos electrónicos desde ella. Navegamos por la siguiente ruta hasta llegar al archivo '**`airflow.cfg`**'\n",
    "\n",
    "<center><img src=\"https://i.postimg.cc/BQZwskbT/a604.png\"></center>\n",
    "\n",
    "'**`airflow.cfg`**' es el archivo de configuración de Airflow. Aquí es donde puede modificar los ajustes de su instancia de Airflow. En este caso, quiere modificar los ajustes correspondientes al protocolo SMTP, el protocolo de envío de correos electrónicos. Así que busque la sección SMTP en este archivo. Si quiere poder enviar correos electrónicos desde su instancia de Airflow, tiene que modificar esos ajustes.\n",
    "\n",
    "<center><img src=\"https://i.postimg.cc/8kmn2Npk/a605.png\"></center>\n",
    "\n",
    "Luego se reinicia la instancia de Airflow con el comando **`docker-compose restart airflow`**\n",
    "\n",
    "<center><img src=\"https://i.postimg.cc/MHq3nrD8/a606.png\"></center>\n",
    "\n",
    "'**`to`**' dice a qué dirección de correo electrónico quieres enviar las notificaciones. En ese caso, usted va a utilizar su correo electrónico, que es un proveedor de correo electrónico gratuito, pero se puede especificar la dirección de correo electrónico que desea en este punto.\n",
    "'**`html_content`**' que corresponde al contenido del correo electrónico.\n",
    "\n",
    "<center><img src=\"https://i.postimg.cc/xCKFTSLR/a607.png\"></center>"
   ]
  }
 ],
 "metadata": {
  "language_info": {
   "name": "python"
  }
 },
 "nbformat": 4,
 "nbformat_minor": 2
}
