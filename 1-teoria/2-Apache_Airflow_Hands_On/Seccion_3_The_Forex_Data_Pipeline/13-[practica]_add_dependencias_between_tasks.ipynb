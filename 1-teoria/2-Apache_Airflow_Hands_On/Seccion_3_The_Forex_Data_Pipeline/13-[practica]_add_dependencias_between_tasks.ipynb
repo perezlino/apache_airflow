{
 "cells": [
  {
   "cell_type": "markdown",
   "metadata": {},
   "source": [
    "### **3.13 - [Práctica] Add dependencias between tasks**"
   ]
  },
  {
   "cell_type": "markdown",
   "metadata": {},
   "source": [
    "Haciendo esto, usted está especificando sus dependencias en múltiples líneas, lo que es definitivamente mucho más claro que tener todo en una sola línea.\n",
    "\n",
    "<center><img src=\"https://i.postimg.cc/QCq6rkcx/a611.png\"></center>\n",
    "\n",
    "Y el resultado es el siguiente:\n",
    "\n",
    "<center><img src=\"https://i.postimg.cc/HspZ9RCJ/a612.png\"></center>"
   ]
  }
 ],
 "metadata": {
  "language_info": {
   "name": "python"
  }
 },
 "nbformat": 4,
 "nbformat_minor": 2
}
