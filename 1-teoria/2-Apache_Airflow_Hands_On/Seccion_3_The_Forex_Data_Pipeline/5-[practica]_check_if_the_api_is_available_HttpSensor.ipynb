{
 "cells": [
  {
   "cell_type": "markdown",
   "metadata": {},
   "source": [
    "### **3.5 - [Práctica] Check if the API is available – HttpSensor**"
   ]
  },
  {
   "cell_type": "markdown",
   "metadata": {},
   "source": [
    "Nuestro objetivo ahora es añadir la tarea para comprobar si la URL, la API está disponible o no, si los valores de las divisas (forex rates) están disponibles en ella.\n",
    "\n",
    "Para ello, hay un operador que se puede utilizar, que es el 'HttpSensor'. El HttpSensor permite verificar cada 60 segundos si la URL está disponible o no, y en caso de que lo esté, si el contenido devuelto por esa URL es el esperado o no.\n",
    "\n",
    "Luego hay algunos argumentos adicionales que son específicos de ese HttpSensor y el primero es el **`'http_conn_id'`** igual a 'forex_api'. De modo que **`'http_conn_id'`** corresponde al connection ID, por ejemplo, 'forex_api', que vas a crear para especificar la URL que quieres comprobar con el HttpSensor. Así que, de nuevo, el 'forex_api' es el connection ID que vas a crear donde se especifica la URL que quieres comprobar con el HttpSensor.\n",
    "\n",
    "Hay otro argumento que es el **`'endpoint'`**. Y básicamente el **`'endpoint'`** es cualquier cosa que tengas después del host. Así que, en ese caso, si vuelves a tu navegador y copias esto y lo pegas en el editor de código. Todo lo que hay después del host.\n",
    "\n",
    "<center><img src=\"https://i.postimg.cc/GtQv3FWf/a562.png\"></center>\n",
    "\n",
    "Luego quieres asegurarte de que la respuesta que obtienes es la que esperas. Así que para hacer esto, añades otro argumento, que es **`'response_check'`**, y aquí tienes que especificar tu función python. En ese caso, puedes escribir **`'lambda response: \"rates\" in response.text'`**, eso significa que obtienes el Json como se esperaba.\n",
    "\n",
    "Ahora hay dos argumentos adicionales que puedes especificar también, pero esos argumentos no son específicos del HttpSensor, están disponibles para todos los sensores.\n",
    "\n",
    "El primero es **`'poke_interval'`** y digamos que es igual a cinco. Así que el argumento 'poke_interval' define la frecuencia con la que tu sensor va a comprobar si la condición es verdadera o falsa. En ese caso, cada cinco segundos va a verificar si la URL, si el 'forex_api' está disponible o no.\n",
    "\n",
    "El último argumento es el **`'timeout'`** es igual a 20. Como se puede adivinar, significa que después de 20 segundos que el sensor se está ejecutando, recibirá un timeout. Y por lo tanto la tarea terminará en failure. ¿Por qué es importante especificar el timeout? es porque usted no quiere mantener su sensor en funcionamiento para siempre. Así que es por eso que con un sensor y esto es una mejor práctica, siempre especificar un timeout. De lo contrario, el sensor seguirá funcionando durante siete días por defecto.\n",
    "\n",
    "<center><img src=\"https://i.postimg.cc/v8Lrvy4v/a563.png\"></center>\n",
    "\n",
    "Ahora en la UI de Airflow crearemos una nueva conexión:\n",
    "\n",
    "<center><img src=\"https://i.postimg.cc/g0Xyy6hw/a564.png\"></center>\n",
    "<center><img src=\"https://i.postimg.cc/j5yzm0Zt/a565.png\"></center>\n",
    "<center><img src=\"https://i.postimg.cc/Lsctx6kx/a566.png\"></center>\n",
    "<center><img src=\"https://i.postimg.cc/jdxzg1NY/a567.png\"></center>"
   ]
  }
 ],
 "metadata": {
  "language_info": {
   "name": "python"
  }
 },
 "nbformat": 4,
 "nbformat_minor": 2
}
