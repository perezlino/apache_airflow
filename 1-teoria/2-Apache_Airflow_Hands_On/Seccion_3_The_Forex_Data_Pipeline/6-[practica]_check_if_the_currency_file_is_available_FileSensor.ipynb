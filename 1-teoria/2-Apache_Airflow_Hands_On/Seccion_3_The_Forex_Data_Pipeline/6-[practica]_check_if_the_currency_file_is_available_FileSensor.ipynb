{
 "cells": [
  {
   "cell_type": "markdown",
   "metadata": {},
   "source": [
    "### **3.6 - [Práctica] Check if the currency file is available – FileSensor**"
   ]
  },
  {
   "cell_type": "markdown",
   "metadata": {},
   "source": [
    "<center><img src=\"https://i.postimg.cc/sxQ1qpVS/a568.png\"></center>\n",
    "\n",
    "**¿Y la segunda tarea?**\n",
    "\n",
    "Bueno, esta vez vas a añadir una nueva tarea encargada de comprobar si un archivo específico está disponible o no en tu sistema de archivos (file system). Déjame darte un ejemplo. Digamos que quieres verificar si un archivo o carpeta existe en una ubicación específica de tu sistema de archivos.\n",
    "\n",
    "**¿Cómo puede hacerlo?**\n",
    "\n",
    "Usando el file sensor, el cuál comprobará cada 60 segundos por defecto si un archivo o una carpeta existe en una ubicación específica en su sistema.\n",
    "\n",
    "**¿Qué necesitas para añadir esa tarea?**\n",
    "\n",
    "Bueno, hay dos parámetros que tienes que especificar. Primero, **`'fs_conn_id'`**, que es una referencia a una conexión, y esa conexión es, de hecho, la ruta donde debe existir el archivo o la carpeta.\n",
    "\n",
    "Luego, el segundo parámetro es **`'filepath'`**, que es en realidad el nombre del archivo o la carpeta que estás esperando.\n",
    "\n",
    "Primero, vamos a crear la conexión en la UI de Airflow:\n",
    "\n",
    "<center><img src=\"https://i.postimg.cc/NF3Lc5Mn/a569.png\"></center>\n",
    "<center><img src=\"https://i.postimg.cc/Y2Zvgy3x/a570.png\"></center>\n",
    "\n",
    "**`Extra`** : es la ruta donde estará el archivo que se busca\n",
    "\n",
    "<center><img src=\"https://i.postimg.cc/T3XhNLBL/a571.png\"></center>\n",
    "<center><img src=\"https://i.postimg.cc/28WVxF9N/a572.png\"></center>\n",
    "\n",
    "Y si echas un vistazo a las carpetas **`'mnt > airflow > dags > files'`** tienes el archivo **`'forex_currencies.csv'`**. Ese es el archivo que quieres comprobar si existe o no en tu sistema de archivos (file system). Por eso has especificado para la conexión **`'/opt/airflow/dags/files'`**.\n",
    "\n",
    "<center><img src=\"https://i.postimg.cc/W3t4qMqK/a573.png\"></center>\n",
    "\n",
    "Así quedaría nuestra tarea:\n",
    "\n",
    "<center><img src=\"https://i.postimg.cc/fbzyD4zM/a574.png\"></center>\n",
    "<center><img src=\"https://i.postimg.cc/Bvm6vhbH/a575.png\"></center>"
   ]
  }
 ],
 "metadata": {
  "language_info": {
   "name": "python"
  }
 },
 "nbformat": 4,
 "nbformat_minor": 2
}
