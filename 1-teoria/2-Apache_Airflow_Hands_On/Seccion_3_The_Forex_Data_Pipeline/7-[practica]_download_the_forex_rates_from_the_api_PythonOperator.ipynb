{
 "cells": [
  {
   "cell_type": "markdown",
   "metadata": {},
   "source": [
    "### **3.7 - [Práctica] Download the Forex rates from the API – PythonOperator**"
   ]
  },
  {
   "cell_type": "markdown",
   "metadata": {},
   "source": [
    "<center><img src=\"https://i.postimg.cc/tCTM3F9F/a576.png\"></center>\n",
    "<center><img src=\"https://i.postimg.cc/vmR2wjfv/a577.png\"></center>\n",
    "<center><img src=\"https://i.postimg.cc/W1qYKjF3/a578.png\"></center>\n",
    "<center><img src=\"https://i.postimg.cc/xdKxfRPV/a579.png\"></center>\n",
    "<center><img src=\"https://i.postimg.cc/HxdSVySc/a580.png\"></center>\n",
    "\n",
    "Si echas un vistazo a los parámetros, el primero es '**`python_callable`**', y aquí es donde especificarás la función python o el script de Python que quieres ejecutar. Este es realmente importante. Luego hay algunos otros parámetros que puedes añadir si quieres, por ejemplo, '**`op_kwargs`**' si quieres añadir un diccionario de keywords, lo veremos más adelante. Luego '**`op_args`**' si quieres pasar algunos argumentos a tu python operator sin especificar las keys. Y también está ' templates_dict' así como 'templates_exts'. No vamos a centrarnos en estos parámetros por ahora.\n",
    "\n",
    "No dude en echar un vistazo a la descripción de ellos. Es bastante importante conocerlos, pero ahora mismo sólo nos centraremos en un parámetro, que es 'python_callable'.\n",
    "\n",
    "Finalmente, ejecutándose la tarea lo que se obtiene es lo siguiente:\n",
    "\n",
    "<center><img src=\"https://i.postimg.cc/j5cMNS98/a581.png\"></center>\n",
    "<center><img src=\"https://i.postimg.cc/Qxyn0VMw/a582.png\"></center>"
   ]
  }
 ],
 "metadata": {
  "language_info": {
   "name": "python"
  }
 },
 "nbformat": 4,
 "nbformat_minor": 2
}
