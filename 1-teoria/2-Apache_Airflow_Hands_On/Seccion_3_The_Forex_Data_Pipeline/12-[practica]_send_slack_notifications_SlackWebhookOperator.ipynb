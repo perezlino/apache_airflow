{
 "cells": [
  {
   "cell_type": "markdown",
   "metadata": {},
   "source": [
    "### **3.12 - [Práctica] Send Slack notifications – SlackWebhookOperator**"
   ]
  },
  {
   "cell_type": "markdown",
   "metadata": {},
   "source": [
    "<center><img src=\"https://i.postimg.cc/zBBS4Z0v/a608.png\"></center>\n",
    "\n",
    "En esta clase, usted va a aprender cómo enviar un mensaje de Slack con el operador SlackWebhook. Y obviamente, necesitas tener una cuenta de Slack. Y si no sabes lo que es 'Slack', es la mejor herramienta para interactuar con tus compañeros de equipo.\n",
    "\n",
    "<center><img src=\"https://i.postimg.cc/7bv3CCDJ/a609.png\"></center>\n",
    "<center><img src=\"https://i.postimg.cc/brS0N0Xj/a610.png\"></center>\n",
    "\n",
    "NO VI NECESARIO CONTINUAR PARA ESTE PASO"
   ]
  }
 ],
 "metadata": {
  "language_info": {
   "name": "python"
  }
 },
 "nbformat": 4,
 "nbformat_minor": 2
}
