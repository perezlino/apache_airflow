{
 "cells": [
  {
   "cell_type": "markdown",
   "metadata": {},
   "source": [
    "### **3.8 - [Práctica] Saves the Forex rates into HDFS - BashOperator**"
   ]
  },
  {
   "cell_type": "markdown",
   "metadata": {},
   "source": [
    "<center><img src=\"https://i.postimg.cc/VkRy4m3C/a583.png\"></center>\n",
    "\n",
    "Ahora, en esta tarea, se desea guardar los valores de divisas (forex rates), 'forex_rates.json' en el HDFS, el distributed file system.\n",
    "\n",
    "¿Cómo se puede hacer eso?\n",
    "\n",
    "Utilizando el operator más utilizado en airflow, que es el Bash operator. El operator le permite ejecutar un comando bash y eso es exactamente lo que va a hacer para empujar el archivo en el HDFS.\n",
    "\n",
    "**`hdfs dfs -mkdir -p /forex`** : para crear una nueva carpeta en la raíz (root) del HDFS '/forex'. \n",
    "\n",
    "**`hdfs dfs -put -f $AIRFLOW_HOME/dags/files/forex_rates.json /forex`** : y ('&&' como quieres ejecutar otro comando) con este comando vas a poner el archivo 'forex_rates.json' en 'AIRFLOW_HOME/dags/files' en el HDFS, en la carpeta '/forex' que acabas de crear con el comando anterior.\n",
    "\n",
    "<center><img src=\"https://i.postimg.cc/KYq6SQcc/a584.png\"></center>\n",
    "<center><img src=\"https://i.postimg.cc/vmHJNCsS/a585.png\"></center>"
   ]
  }
 ],
 "metadata": {
  "language_info": {
   "name": "python"
  }
 },
 "nbformat": 4,
 "nbformat_minor": 2
}
