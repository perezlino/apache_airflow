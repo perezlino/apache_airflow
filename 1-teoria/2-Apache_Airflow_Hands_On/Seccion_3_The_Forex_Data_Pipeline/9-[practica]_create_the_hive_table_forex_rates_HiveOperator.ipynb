{
 "cells": [
  {
   "cell_type": "markdown",
   "metadata": {},
   "source": [
    "### **3.9 - [Práctica] Create the Hive table forex_rates - HiveOperator**"
   ]
  },
  {
   "cell_type": "markdown",
   "metadata": {},
   "source": [
    "<center><img src=\"https://i.postimg.cc/gcCnbHrK/a586.png\"></center>\n",
    "\n",
    "Una vez que tus datos están almacenados en tu HDFS, el siguiente paso es encontrar una forma de interactuar con ellos. Y como tus datos están almacenados como un archivo de texto, obviamente no querrás abrir ese archivo y buscar tus datos. En su lugar, una cosa que puedes hacer es utilizar Hive. Con Hive vas a crear una tabla sobre tus datos, sobre tus archivos para que puedas consultar tus datos ejecutando consultas tipo SQL. Así que, en este video, vas a aprender a crear una tabla Hive desde tu data pipeline para que puedas interactuar con tus datos usando una consulta tipo SQL.\n",
    "\n",
    "<center><img src=\"https://i.postimg.cc/6p03RscH/a587.png\"></center>\n",
    "<center><img src=\"https://i.postimg.cc/8CXzKhqM/a588.png\"></center>\n",
    "\n",
    "¿Qué hace esta tarea?\n",
    "\n",
    "Bueno, 'creating_forex_rates_table' utiliza el 'HiveOperator' para ejecutar la siguiente consulta 'hql'. Y esa consulta no hace otra cosa que crear una tabla con las siguientes columnas: based, last update, eur, usd, nzd y demás, correspondientes exactamente al detalle que tienes en '/forex_rates.json'\n",
    "\n",
    "Muy bien. Una vez que tienes esto, establece el 'task_id' y vamos a crear la conexión 'hive_conn' como se define aquí, de nuevo, como vas a interactuar con Hive, necesitas crear la conexión correspondiente.\n",
    "\n",
    "A continuación, abra la interfaz de usuario de Airflow y cree la conexión:\n",
    "\n",
    "<center><img src=\"https://i.postimg.cc/fTYkzS9Q/a589.png\"></center>\n",
    "<center><img src=\"https://i.postimg.cc/rwcsKy10/a590.png\"></center>\n",
    "<center><img src=\"https://i.postimg.cc/SKxKfZtm/a591.png\"></center>"
   ]
  }
 ],
 "metadata": {
  "language_info": {
   "name": "python"
  }
 },
 "nbformat": 4,
 "nbformat_minor": 2
}
