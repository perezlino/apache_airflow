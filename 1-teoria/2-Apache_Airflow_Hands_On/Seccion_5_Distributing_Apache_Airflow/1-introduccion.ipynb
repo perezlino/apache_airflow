{
 "cells": [
  {
   "cell_type": "markdown",
   "metadata": {},
   "source": [
    "### **5.1 - Introducción**"
   ]
  },
  {
   "cell_type": "markdown",
   "metadata": {},
   "source": [
    "<center><img src=\"https://i.postimg.cc/W10ySLzd/a746.png\"></center>\n",
    "\n",
    "En esta sección vamos a echar un vistazo a las diferentes formas de ejecutar las tareas en Airflow. Comenzaremos con el ejecutor más simple que es el **`Sequential Executor`** donde todo se ejecuta secuencialmente, tarea por tarea. Luego pasaremos al siguiente nivel con el **`Local Executor`** que permite ejecutar tareas en paralelo creando subprocesos. Ambos ejecutores están pensados para ser utilizados en un único nodo por eso, después del **`Local Executor`**, descubriremos dos formas de escalar Airflow, la primera es distribuyendo las tareas con el **`Celery Executor`**. Veremos cómo configurar su clúster, cómo añadir un worker, cómo especializar sus workers y mucho más. **`El Celery Executor es, con diferencia, la solución más aplicada con Airflow en producción`**. A continuación, nos sumergiremos en el **`Kubernetes Executor`** mediante la creación de un clúster de tres nodos utilizando Rancher, VirtualBox y Vagrant. Se mostrarán dos formas de distribuir sus DAGs en el Kubernetes Cluster."
   ]
  }
 ],
 "metadata": {
  "language_info": {
   "name": "python"
  }
 },
 "nbformat": 4,
 "nbformat_minor": 2
}
