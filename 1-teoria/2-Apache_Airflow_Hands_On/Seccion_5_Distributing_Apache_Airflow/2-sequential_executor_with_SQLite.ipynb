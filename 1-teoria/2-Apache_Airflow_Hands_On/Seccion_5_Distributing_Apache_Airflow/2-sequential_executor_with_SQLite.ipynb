{
 "cells": [
  {
   "cell_type": "markdown",
   "metadata": {},
   "source": [
    "### **5.2 - Sequential Executor with SQLite**"
   ]
  },
  {
   "cell_type": "markdown",
   "metadata": {},
   "source": [
    "En este vídeo vamos a hablar de la configuración por defecto de Airflow que se obtiene cuando se instala por primera vez que es el Sequential Executor con SQLite. Este video será bastante corto y no habrá un video práctico, ya que, ya usamos Sequential Executor durante todos los videos anteriores. Dicho esto, vamos a empezar. En primer lugar, tenemos que definir qué es SQLite. Como debes saber, Airflow necesita una metadata database para poder trabajar sea cual sea el executor utilizado. Así que **`SQLite`** es una base de datos relacional enfocada a la simplicidad, muy fácil de configurar y portable. Aporta velocidad y tiene una pequeña huella de memoria donde los datos se almacenan en un gran archivo de hasta 140 terabytes. Es compatible con ACID y soporta la mayoría de las características estándar de SQL. Sus deficiencias se hacen visibles cuando necesitamos una concurrencia de lectura o escritura. En efecto, SQLite sólo admite un writer a la vez y la latencia del sistema de archivos puede ser un inconveniente si es necesario que muchos clientes accedan a la base de datos simultáneamente. Aparte de eso, no pienses que SQLite sólo es útil para fines de debugging o de testing. En realidad, depende del caso de uso del desarrollador. En resumen, SQLite es fácil de usar, rápido de implementar y perfecto como base de datos inicial. \n",
    "\n",
    "<center><img src=\"https://i.postimg.cc/zfyV9rbk/a747.png\"></center>\n",
    "\n",
    "Hemos visto lo que es SQLite pero antes de pasar al Sequential Executor, déjame recordarte lo que es un **`Executor`**. Cuando activas el toggle de tu DAG para programarlo (schedule it), cada tarea se almacena con su estado en la metadata database. Entonces, el scheduler comprueba periódicamente si hay alguna tarea para ejecutar de acuerdo con la start_date y schedule_interval definidos en el dag. Si una tarea está lista para ser disparada (triggered), es empujada a una cola (queue) interna en el executor que se encarga de definir cómo debe ejecutarse esa tarea. Por ejemplo, si utilizamos Sequential Executor, cada tarea se ejecutará una tras otra. Además, el estado de las tareas pasa de estar en queue a estar en ejecución (running) hasta que tienen éxito o fallan. Así que, básicamente, un executor no ejecuta una tarea, sino que da el contexto en el que se ejecutará la tarea. Airflow trae muchos executors como el Sequential Executor, Local Executor, Celery Executor o más recientemente, el Kubernetes Executor. La diferencia entre cada executor son los recursos que tienen y cómo deciden utilizar esos recursos para realizar el trabajo.\n",
    "\n",
    "<center><img src=\"https://i.postimg.cc/8cScJfyy/a748.png\"></center>\n",
    "\n",
    "Bien, ahora que hemos definido lo que es un executor, podemos pasar al **`Sequential Executor`**. El Sequential Executor, como puedes adivinar por su nombre, ejecuta una sola instancia de tarea a la vez de forma lineal. **`Dado que este executor trabaja con SQLite no soporta el paralelismo`**. Es el executor por defecto que se obtiene cuando se instala Airflow y es realmente útil para la debugging o testing. No debería utilizarlo en producción, ya que no podrá tener más de una instancia de tarea en ejecución, lo cual es un problema. que una sola instancia de tarea que se ejecuta que es bastante limitante para un orquestador.\n",
    "\n",
    "<center><img src=\"https://i.postimg.cc/j5NCS4hw/a749.png\"></center>\n",
    "\n",
    "Por último, hay dos parámetros en **`airflow.cfg`** de los que quiero hablar. **`executor`** y **`sql_alchemy_conn`**. executor es básicamente donde definirás el executor que quieres usar como Sequential Executor, Local Executor y demás. sql_alchemmy_conn corresponde a la cadena de conexión con la metadata database. Como estamos usando SQLite por defecto, tenemos un archivo llamado airflow.db, correspondiente a la base de datos, pero más adelante verás con los otros executors cómo cambiarlo para conectar con PostgreSQL.\n",
    "\n",
    "<center><img src=\"https://i.postimg.cc/LsGnSbjF/a750.png\"></center>"
   ]
  }
 ],
 "metadata": {
  "language_info": {
   "name": "python"
  }
 },
 "nbformat": 4,
 "nbformat_minor": 2
}
