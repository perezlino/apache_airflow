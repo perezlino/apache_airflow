{
 "cells": [
  {
   "cell_type": "markdown",
   "metadata": {},
   "source": [
    "### **4.2 - [Práctica] Manipulating the start_date with schedule_interval**"
   ]
  },
  {
   "cell_type": "markdown",
   "metadata": {},
   "source": [
    "<center><img src=\"https://i.postimg.cc/3wss91Kk/a621.png\"></center>\n",
    "<center><img src=\"https://i.postimg.cc/ryCBC57p/a622.png\"></center>\n",
    "\n",
    "- **`start_date`** = 29/03/2019 01:00:00 UTC\n",
    "- **`schedule_interval`** = cada 1 hora\n",
    "- **`1° DAG effectively run`** = 29/03/2019 02:00:00 UTC\n",
    "\n",
    "<center><img src=\"https://i.postimg.cc/7YHpBfyn/a623.png\"></center>\n",
    "\n",
    "- **`execution_date`** = 29/03/2019 01:00:00 UTC\n",
    "- **`start_date`** = 29/03/2019 02:00:00 UTC\n",
    "- **`schedule_interval`** = cada 1 hora\n",
    "- **`2° DAG effectively run`** = 29/03/2019 03:00:00 UTC\n",
    "\n",
    "<center><img src=\"https://i.postimg.cc/YqdTTMrK/a624.png\"></center>\n",
    "\n",
    "- **`execution_date`** = 29/03/2019 02:00:00 UTC\n",
    "- **`start_date`** = 29/03/2019 03:00:00 UTC\n",
    "- **`schedule_interval`** = cada 1 hora\n",
    "- **`3° DAG effectively run`** = 29/03/2019 04:00:00 UTC\n",
    "\n",
    "<center><img src=\"https://i.postimg.cc/BntR0kb8/a625.png\"></center>\n",
    "\n",
    "Si revisamos la Tree View de nuestro DAG:\n",
    "\n",
    "<center><img src=\"https://i.postimg.cc/LXjrWPXN/a626.png\"></center>\n",
    "<center><img src=\"https://i.postimg.cc/HnHf1L8H/a627.png\"></center>\n",
    "<center><img src=\"https://i.postimg.cc/brT4yj1n/a628.png\"></center>"
   ]
  }
 ],
 "metadata": {
  "language_info": {
   "name": "python"
  }
 },
 "nbformat": 4,
 "nbformat_minor": 2
}
