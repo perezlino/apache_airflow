{
 "cells": [
  {
   "cell_type": "markdown",
   "metadata": {},
   "source": [
    "### **4.4 - [Práctica] Catching up non triggered DAG Runs**"
   ]
  },
  {
   "cell_type": "markdown",
   "metadata": {},
   "source": [
    "Este es el código, donde veremos que sucede teniendo **`catchup = True`**:\n",
    "\n",
    "<center><img src=\"https://i.postimg.cc/Wp0dmpGn/a635.png\"></center>\n",
    "\n",
    "Si revisamos el archivo de configuración \"**`airflow.cfg`**\" como puedes ver, está establecido en True. Si lo ponemos en False, el Scheduler no intentará rellenar (backfill) los DagRuns no disparados (non triggered) por defecto. Una cosa importante a mencionar es que usted todavía puede utilizar el comando \"airflow backfill\" desde la interfaz de línea de comandos para hacer el backfilling manualmente sea cual sea el valor del parámetro catchup.\n",
    "\n",
    "<center><img src=\"https://i.postimg.cc/C1kx4Jq1/a636.png\"></center>\n",
    "\n",
    "Se utilizo cron expression para el schedule_interval:\n",
    "\n",
    "<center><img src=\"https://i.postimg.cc/8zzsVhqK/a637.png\"></center>\n",
    "\n",
    "Como puedes ver, el DAG se está ejecutando como se muestra en el círculo en verde aquí. Si pasa por encima del signo de interrogación, observe que la start_date y la execution_date tienen más de un schedule_interval de diferencia. Eso es porque el DAGRun se ha disparado a través del proceso de 'catching up'.\n",
    "\n",
    "<center><img src=\"https://i.postimg.cc/j2hqp5vY/a638.png\"></center>\n",
    "\n",
    "Como puede ver, la diferencia entre la start_date y la execution_date es igual al schedule_interval. ¿Por qué? Porque esta vez el scheduler no ha utilizado el proceso de backfilling. El DAG se ha disparado normalmente.\n",
    "\n",
    "<center><img src=\"https://i.postimg.cc/tRdgZSbv/a639.png\"></center>\n",
    "\n",
    "¿Cuántos DAGRuns habrá que coger si fijamos la fecha en el 5 de enero a las 11 PM en UTC? Obtenemos dos DAGRuns en funcionamiento como puedes ver aquí. En total tendriamos 4 Dag Runs.\n",
    "\n",
    "<center><img src=\"https://i.postimg.cc/SxRQPmMH/a640.png\"></center>\n",
    "\n",
    "Ahora si modificamos nuestro **`catchup = False`**:\n",
    "\n",
    "<center><img src=\"https://i.postimg.cc/xCD0qH4S/a641.png\"></center>\n",
    "\n",
    "Verifiquemos esto cambiando la fecha actual al 6 de enero de 2019 a la 0:30 AM. Esto significa que el DAG lleva 30 minutos de retraso. Obtenemos un nuevo DAGRun. Sé que puedes estar confundido porque te dije que si estableces el parámetro catchup en false, entonces los DAGRuns atrasados no se iniciarían... Bueno, eso es cierto pero no para el DAGRun más reciente. Es decir, si tienes un DAGRun atrasado, entonces será activado por el scheduler. Ese es el comportamiento por defecto de Airflow. Así que con el fin de verificar esta afirmación, porque no te fías más, podemos establecer una nueva fecha actual al 9 de enero de 2019 a la 0:30 AM. En esta fecha acabaremos con tres DAGRuns en retraso pero sólo se ejecutará el más reciente. El que tiene la execution_date correspondiente al 8 de enero de 2019. El que tenga la execution_date correspondiente al 8 de enero de 2019. se activará. Repito, sólo se ejecutará el DAGRun más reciente que esté atrasado y no los anteriores.\n",
    "\n",
    "<center><img src=\"https://i.postimg.cc/RZYC521h/a642.png\"></center>\n",
    "\n",
    "Se habían ejecutado 5 DAG Runs y ahora solo se ejecutó uno y en total tendríamos 6 DAG Runs:\n",
    "\n",
    "<center><img src=\"https://i.postimg.cc/4NJxz6Nf/a643.png\"></center>\n",
    "\n",
    "Si revisamos la Tree View:\n",
    "\n",
    "<center><img src=\"https://i.postimg.cc/ZKVKjWCr/a644.png\"></center>\n",
    "\n",
    "___"
   ]
  },
  {
   "cell_type": "markdown",
   "metadata": {},
   "source": [
    "#### **`Ejecutando DagRuns desde la CLI (Command Line Interface)`**\n",
    "\n",
    "**`Para utilizar la interfaz de línea de comandos`**, debemos entrar al contenedor donde este alojado el directorio con nuestro DAG.\n",
    "\n",
    "Supongamos que queremos recuperar los DAGRuns entre el 20 de enero de 2019 y el 25 de enero de 2019.\n",
    "\n",
    "<center><img src=\"https://i.postimg.cc/jjJxsvvX/a645.png\"></center>\n",
    "<center><img src=\"https://i.postimg.cc/LXtmPXcg/a646.png\"></center>"
   ]
  }
 ],
 "metadata": {
  "language_info": {
   "name": "python"
  }
 },
 "nbformat": 4,
 "nbformat_minor": 2
}
