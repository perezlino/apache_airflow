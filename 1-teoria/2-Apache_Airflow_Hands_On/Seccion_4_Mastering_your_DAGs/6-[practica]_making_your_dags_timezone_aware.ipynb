{
 "cells": [
  {
   "cell_type": "markdown",
   "metadata": {},
   "source": [
    "### **4.6 - [Práctica] Making your DAGs timezone aware**"
   ]
  },
  {
   "cell_type": "markdown",
   "metadata": {},
   "source": [
    "ME SALTE ESTE CAPITULO"
   ]
  }
 ],
 "metadata": {
  "language_info": {
   "name": "python"
  }
 },
 "nbformat": 4,
 "nbformat_minor": 2
}
