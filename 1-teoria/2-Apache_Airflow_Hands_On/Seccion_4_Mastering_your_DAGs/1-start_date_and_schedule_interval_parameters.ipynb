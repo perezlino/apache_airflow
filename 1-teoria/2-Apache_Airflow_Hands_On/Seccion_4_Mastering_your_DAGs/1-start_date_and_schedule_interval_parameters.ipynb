{
 "cells": [
  {
   "cell_type": "markdown",
   "metadata": {},
   "source": [
    "### **4.1 - `start_date` and `schedule_interval` parameters**"
   ]
  },
  {
   "cell_type": "markdown",
   "metadata": {},
   "source": [
    "#### **`What is the execution_date?`**\n",
    "\n",
    "Puedes pensar en la '**`execution_date`**' como el comienzo del periodo del que quieres que tu DAG procese los datos.\n",
    "\n",
    "<center><img src=\"https://i.postimg.cc/8zg0rczS/a613.png\"></center>\n",
    "<center><img src=\"https://i.postimg.cc/CKFrm28r/a614.png\"></center>\n",
    "\n",
    "___"
   ]
  },
  {
   "cell_type": "markdown",
   "metadata": {},
   "source": [
    "#### **`Scheduling and Triggering`**\n",
    "\n",
    "<center><img src=\"https://i.postimg.cc/CKmPt4Hh/a615.png\"></center>\n",
    "\n",
    "___"
   ]
  },
  {
   "cell_type": "markdown",
   "metadata": {},
   "source": [
    "#### **`Execution flow`**\n",
    "\n",
    "<center><img src=\"https://i.postimg.cc/SsRTpzDW/a616.png\"></center>\n",
    "\n",
    "___"
   ]
  },
  {
   "cell_type": "markdown",
   "metadata": {},
   "source": [
    "#### **`How to define the start_date`**\n",
    "\n",
    "<center><img src=\"https://i.postimg.cc/WzJ5dcRz/a617.png\"></center>\n",
    "\n",
    "___"
   ]
  },
  {
   "cell_type": "markdown",
   "metadata": {},
   "source": [
    "#### **`How to define the scheduling_interval`**\n",
    "\n",
    "\n",
    "<center><img src=\"https://i.postimg.cc/QN9DQBh9/a618.png\"></center>\n",
    "<center><img src=\"https://i.postimg.cc/ThMCmNG9/a619.png\"></center>\n",
    "\n",
    "___"
   ]
  },
  {
   "cell_type": "markdown",
   "metadata": {},
   "source": [
    "#### What about end_date?\n",
    "\n",
    "\n",
    "<center><img src=\"https://i.postimg.cc/xCZsjT4B/a620.png\"></center>"
   ]
  }
 ],
 "metadata": {
  "language_info": {
   "name": "python"
  }
 },
 "nbformat": 4,
 "nbformat_minor": 2
}
