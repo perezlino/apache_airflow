{
 "cells": [
  {
   "cell_type": "markdown",
   "metadata": {},
   "source": [
    "### **4.5 - Dealing with timezones in Airflow**"
   ]
  },
  {
   "cell_type": "markdown",
   "metadata": {},
   "source": [
    "En este vídeo vamos a descubrir cómo se aplican las zonas horarias (timezone) a Airflow y cómo conseguir que sus DAGs dependan de la zona horaria (timezone).\n",
    "\n",
    "<center><img src=\"https://i.postimg.cc/PrtFTxKV/a647.png\"></center>\n",
    "<center><img src=\"https://i.postimg.cc/sD6KzJM1/a648.png\"></center>\n",
    "<center><img src=\"https://i.postimg.cc/SKzgDzNR/a649.png\"></center>\n",
    "<center><img src=\"https://i.postimg.cc/pTfqtbjt/a650.png\"></center>\n",
    "<center><img src=\"https://i.postimg.cc/J44KSF49/a651.png\"></center>\n",
    "<center><img src=\"https://i.postimg.cc/T1Q0pVQ7/a652.png\"></center>\n",
    "<center><img src=\"https://i.postimg.cc/sfJw6zyY/a653.png\"></center>\n",
    "<center><img src=\"https://i.postimg.cc/1thJT5fH/a654.png\"></center>\n",
    "<center><img src=\"https://i.postimg.cc/cLvhL83h/a655.png\"></center>"
   ]
  }
 ],
 "metadata": {
  "language_info": {
   "name": "python"
  }
 },
 "nbformat": 4,
 "nbformat_minor": 2
}
