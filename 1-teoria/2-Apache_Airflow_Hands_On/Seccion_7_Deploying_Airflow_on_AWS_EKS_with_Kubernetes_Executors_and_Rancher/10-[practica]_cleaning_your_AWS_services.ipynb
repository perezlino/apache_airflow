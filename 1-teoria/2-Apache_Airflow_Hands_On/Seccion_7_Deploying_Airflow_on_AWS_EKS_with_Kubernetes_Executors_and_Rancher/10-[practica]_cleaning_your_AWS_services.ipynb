{
 "cells": [
  {
   "cell_type": "markdown",
   "metadata": {},
   "source": [
    "### **7.10 - [Practica] Cleaning your AWS services**"
   ]
  },
  {
   "cell_type": "markdown",
   "metadata": {},
   "source": [
    "In this short video we are going to clean everything we have set up so far.\n",
    "\n",
    "That’s important because otherwise you will be charged as long as you don’t terminate your services.\n",
    "\n",
    "Let’s do this. From the Rancher UI, at the top left corner, click on it and select “Global”.\n",
    "\n",
    "Then, from this button, click on delete.\n",
    "\n",
    "Notice the following message telling you that the associated resources such as volumes, balancers, and\n",
    "\n",
    "networks that were created in AWS will not be automatically removed.\n",
    "\n",
    "So after deleting the cluster from Rancher, we will check that everything is terminated from the AWS\n",
    "\n",
    "console as well.\n",
    "\n",
    "Confirm.\n",
    "\n",
    "Now wait for the cluster to disappear from the Rancher UI.\n",
    "\n",
    "Ok, now open your AWS console. From there,\n",
    "\n",
    "click on “services” and go to “EKS”.\n",
    "\n",
    "Here,\n",
    "\n",
    "the cluster is getting deleted as expected.\n",
    "\n",
    "Next, we need to check the service CloudFormation which is used by Rancher to setup everything. Go on\n",
    "\n",
    "“services” and click on “CloudFormation”.\n",
    "\n",
    "As you can see the stacks are getting deleted as well.\n",
    "\n",
    "By the way, keep in mind that you can get an error during the process.\n",
    "\n",
    "For example, in my case the vpc stack failed and so I had to delete it again from AWS. The next thing\n",
    "\n",
    "to look is the EC2 instance\n",
    "\n",
    "we created for Rancher. From the services, type EC2\n",
    "\n",
    "and from the dashboard click on running instances. Select the instance, click on “actions”,\n",
    "\n",
    "“Instance state” and terminate. “Yes”. Wait for the instance to terminate.\n",
    "\n",
    "Ok,\n",
    "\n",
    "now let’s remove the load balancer.\n",
    "\n",
    "Good. Finally, go the VPC dashboard,\n",
    "\n",
    "and remove the VPC created by Rancher. Click on it,\n",
    "\n",
    "“Actions”, “Delete VPC” and confirm. Perfect.\n",
    "\n",
    "Everything should be cleaned now and you can sleep well without being afraid to be charged.\n",
    "\n",
    "See you in the next video.\n"
   ]
  }
 ],
 "metadata": {
  "language_info": {
   "name": "python"
  }
 },
 "nbformat": 4,
 "nbformat_minor": 2
}
