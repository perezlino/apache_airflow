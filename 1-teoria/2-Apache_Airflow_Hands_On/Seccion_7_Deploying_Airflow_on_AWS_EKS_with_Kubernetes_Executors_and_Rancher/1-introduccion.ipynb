{
 "cells": [
  {
   "cell_type": "markdown",
   "metadata": {},
   "source": [
    "### **7.1 - Introduccion**"
   ]
  },
  {
   "cell_type": "markdown",
   "metadata": {},
   "source": [
    "In this section I’m gonna show you how to set up a kubernetes cluster using EKS and Rancher. Then we will install Airflow and start using the Kubernetes Executor directly from the cloud. The goal of this section is to give a quick overview of how to use Airflow in AWS and doesn’taim to give you all the details about AWS, EKS, configuring your cluster and so on.\n",
    "\n",
    "Obviously, I would need to create an entire course to cover only this topic,\n",
    "\n",
    "nonetheless, if you are interested, please let me know in the Q/A section of Udemy or send me a\n",
    "\n",
    "private message.\n",
    "\n",
    "Also\n",
    "\n",
    "you should have already seen the videos about running Airflow with Kubernetes in local from the Section\n",
    "\n",
    "5.\n",
    "\n",
    "If not, I strongly recommend you to watch them.\n",
    "\n",
    "That being said, let me give you an overview of this section.\n",
    "\n",
    "First, we are going to create an EC2 instance in order to run Rancher. Rancher is an open-source\n",
    "\n",
    "multi-cluster orchestration platform simplifying the creation and management of Kubernetes clusters.\n",
    "\n",
    "Once the EC2 instance with Rancher is set up, we will quickly create the IAM user required for EKS.\n",
    "\n",
    "An ECR repository to push our docker images will be also set up.\n",
    "\n",
    "This repo will be useful for upgrading Airflow or new pushing DAGs.\n",
    "\n",
    "Then, we will create and configure an EKS cluster using Rancher in order to deploy and run Airflow with\n",
    "\n",
    "the Kubernetes Executor.\n",
    "\n",
    "Finally, you will see what happens when you trigger a DAG with the kubernetes executor.\n",
    "\n",
    "All right without further waiting let's get started.\n"
   ]
  }
 ],
 "metadata": {
  "language_info": {
   "name": "python"
  }
 },
 "nbformat": 4,
 "nbformat_minor": 2
}
