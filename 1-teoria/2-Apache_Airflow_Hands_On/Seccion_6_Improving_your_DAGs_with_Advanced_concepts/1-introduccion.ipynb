{
 "cells": [
  {
   "cell_type": "markdown",
   "metadata": {},
   "source": [
    "### **6.1 - Introduccion**"
   ]
  },
  {
   "cell_type": "markdown",
   "metadata": {},
   "source": [
    "Bienvenidos a la sección seis. Vamos a mejorar nuestros DAGs aplicando conceptos avanzados ofrecidos por Airflow.  Veremos cómo agrupar tareas en SubDAGs para que sus DAGs sean más limpios.  Al principio puede parecer una buena característica, pero veremos que hay que tomarla con precaución.  Luego, aunque hayamos visto que Airflow no es una solución de streaming de datos, todavía podemos intercambiar datos entre tareas utilizando XComs, que es una característica que también trataremos.  En algún momento, es posible que necesite ejecutar una tarea u otra según una condición definida. Airflow lo hace posible utilizando el concepto de branching.  Nos ocuparemos de las Macros y Templates, para que sus DAGs sean más dinámicos y, sobre todo, para evitar codificar valores en ellos.  Veremos múltiples formas de disparar sus tareas y por qué puede querer ejecutarlas de forma diferente por defecto y mucho más. Así que prepárate para llevar tus DAGs a un nuevo nivel y nos vemos en el próximo vídeo.  \n",
    "\n",
    "<center><img src=\"https://i.postimg.cc/26pKDtzs/a923.png\"></center>"
   ]
  }
 ],
 "metadata": {
  "language_info": {
   "name": "python"
  }
 },
 "nbformat": 4,
 "nbformat_minor": 2
}
