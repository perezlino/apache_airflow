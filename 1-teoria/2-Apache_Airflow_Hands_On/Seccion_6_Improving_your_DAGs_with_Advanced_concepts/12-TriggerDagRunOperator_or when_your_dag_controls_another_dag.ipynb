{
 "cells": [
  {
   "cell_type": "markdown",
   "metadata": {},
   "source": [
    "### **6.12 - TriggerDagRunOperator or when your DAG controls another DAG**"
   ]
  },
  {
   "cell_type": "markdown",
   "metadata": {},
   "source": [
    "En este vídeo vamos a descubrir un operador especial llamado TriggerDagRunOperator.  Empecemos con el caso de uso. Digamos que usted tiene algunos DAGs para hacer diferentes comprobaciones en la base de datos de Airflow, así como la limpieza de su instancia de Airflow mediante la eliminación de algunos XCOMs y tareas antiguas.  ¿Cómo podría hacerlo?  Bien, podríamos crear un DAG con subdags y branches según la operación que queramos ejecutar.  El problema es que tu DAG se hará bastante grande y difícil de mantener.  Eso no es lo que queremos. Como mejor práctica siempre debes mantener tu DAG simple y dividirlos por operaciones funcionales.  Cuando las branches y los SubDAGs no son suficientes, iniciar un DAG entero puede ser más adecuado y ahí es cuando el operador TriggerDagRunOperator entra en acción.  ¿Qué es el TriggerDagRunOperator?  \n",
    "\n",
    "<center><img src=\"https://i.postimg.cc/GmY1pJnG/a1059.png\"></center>\n",
    "\n",
    "Este operador permite activar otro DAG a partir de un DAG.  Más concretamente, activa un DAGRun para un dag id especificado cuando se cumple una condición.  ¿Cómo funciona?  \n",
    "\n",
    "<center><img src=\"https://i.postimg.cc/bJYXL7D9/a1060.png\"></center>\n",
    "\n",
    "Pues es bastante sencillo.  Tienes un DAG que es el controlador y otro DAG que es el target. Desde el controlador, necesitas instanciar una tarea con el TriggerDagRunOperator.  Este operador espera múltiples argumentos como un “DAG id” correspondiente al DAG que quieres disparar, una función python callable donde se comprobará la condición si el DAG target puede ser disparado o no y algunos parámetros que podrás enviar desde el controlador al DAG target. \n",
    "\n",
    "<center><img src=\"https://i.postimg.cc/rpk2R0qb/a1061.png\"></center>\n",
    "\n",
    "Antes de pasar a la práctica, permítanme señalar algunas notas importantes.  \n",
    "\n",
    "<center><img src=\"https://i.postimg.cc/1zrhGmtz/a1062.png\"></center>\n",
    "\n",
    "**`Aunque el DAG target se dispare desde el DAG controlador, los dos DAG permanecen independientes.  El controlador no esperará a que el target termine antes de terminar él mismo.  Tenga en cuenta este comportamiento, ya que puede no ser lo que usted desea.  Además, dado que el target se dispara por el scheduler, es necesario activar su toggle para programarlo (schedule it), de lo contrario, sólo se iniciará el DagRun mientras que las tareas esperarán.  A diferencia del SubDagOperator donde puedes visualizar las tareas ejecutadas de tu DAG en la \"Graph View\", esto no es posible hacerlo con el TriggerDagRunOperator. No verás las tareas ejecutadas del DAG target desde Graph View del DAG controlador.  Por último, como mejor práctica, se recomienda mantener el scheduler interval de sus DAGs target a 'None'`**.  Muy bien, ha sido un vídeo rápido, pero veamos el TriggerDagRunOperator en acción.  Nos vemos en el próximo video.   "
   ]
  }
 ],
 "metadata": {
  "language_info": {
   "name": "python"
  }
 },
 "nbformat": 4,
 "nbformat_minor": 2
}
