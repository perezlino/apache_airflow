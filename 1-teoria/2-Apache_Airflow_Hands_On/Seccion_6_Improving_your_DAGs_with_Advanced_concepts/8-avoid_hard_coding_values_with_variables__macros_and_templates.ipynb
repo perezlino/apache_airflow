{
 "cells": [
  {
   "cell_type": "markdown",
   "metadata": {},
   "source": [
    "### **6.8 - Avoid hard coding values with Variables, Macros and Templates**"
   ]
  },
  {
   "cell_type": "markdown",
   "metadata": {},
   "source": [
    "Si recuerdas las primeras secciones del curso, hemos hablado de lo importante que es hacer que tu tarea sea idempotente.  Una tarea idempotente significa, que cada vez que se ejecute esa tarea con las mismas entradas, obtendremos siempre la misma salida.  Eso es fácil de hacer siempre que no tratemos con fechas.  Pero permíteme partir de un caso de uso muy sencillo. \n",
    "\n",
    "<center><img src=\"https://i.postimg.cc/rsY0PpRM/a999.png\"></center>\n",
    "\n",
    "Imaginemos que necesitas hacer una petición SQL a tu base de datos desde tu DAG.  Esta petición, podría ser como esta de aquí donde necesitas poner la ejecución del DAG para obtener algunos datos.  El problema con este tipo de petición es que no puedes permitirte codificar la fecha en tu tarea ya que tu DAG no funcionará más.  De hecho, si el DAG se ejecuta todos los días o si quieres rellenar (backfill) tus DAGRuns, siempre conservarás el mismo fragmento de datos correspondiente a esa fecha.  Ese es un ejemplo puro de cómo puedes romper la idempotencia de tus tareas y por qué es muy peligroso.  Como mejor práctica, nunca debes codificar valores que puedan cambiar en el tiempo en tu DAG. Nunca.  En lugar de eso, lo que te gustaría hacer es cambiar dinámicamente la fecha de tu petición SQL de acuerdo con la execution date de tu DAG.  Eso es exactamente lo que te permiten hacer los templates y las macros.  Justo debajo tienes un ejemplo de petición SQL con la forma correcta de especificar una fecha ya que mantiene tus tareas idempotentes. Antes de hablar de templates y macros, primero tengo que contarte qué son las variables en Airflow.  \n",
    "\n",
    "___"
   ]
  },
  {
   "cell_type": "markdown",
   "metadata": {},
   "source": [
    "#### **`Variables`**\n",
    "\n",
    "<center><img src=\"https://i.postimg.cc/vHkx7cdv/a1000.png\"></center>\n",
    "\n",
    "**`Una variable no es más que un objeto, un valor almacenado en la metadata database de airflow`**.  Hay dos formas de crear variables, desde la interfaz de usuario o desde la interfaz de línea de comandos.  En nuestro caso, nos quedaremos con la primera opción.  Básicamente, una variable se compone de una key y un valor.  La key existe para poder recuperar la variable de tu DAG especificando esa key. Desde la interfaz de usuario, hay una tercera columna llamada \"is encrypted\" que indica si la variable está encriptada o no, esto es muy útil para ocultar credenciales, por ejemplo.  Tenga en cuenta que puede cifrar sus variables sólo si el paquete crypto está instalado junto con su instancia de Airflow.  Por último, es absolutamente posible empujar (push) un objeto JSON como el valor de una variable.  Esto hará más fácil la forma de almacenar los ajustes de configuración si es necesario, por ejemplo.  Entonces, una vez que la variable con el objeto JSON se almacena, puede deserializar el objeto de su DAG.  Muy bien, como puedes ver, nada difícil hasta ahora.  Una vez que sabemos cómo crear y utilizar variables, podemos empezar a tratar con templates.  En primer lugar, vamos a definir lo que es templating. \n",
    "\n",
    "___"
   ]
  },
  {
   "cell_type": "markdown",
   "metadata": {},
   "source": [
    "#### **`Templating`** \n",
    "\n",
    "<center><img src=\"https://i.postimg.cc/qBm3R1bS/a1001.png\"></center>\n",
    "\n",
    "Templating permiten interpolar valores en tiempo de ejecución (at runtime) en archivos estáticos como HTML o SQL, colocando en ellos marcadores de posición especiales que indican dónde deben estar los valores y cómo deben mostrarse.  Piense en templating como una forma de rellenar los espacios en blanco de su código con valores externos. Templating en Airflow se basa en Jinja que es un motor de templates para Python encargado de reemplazar los marcadores de posición con los valores esperados y más.  Aquí, se tiene un esquema de proceso de templating donde los datos y el archivo estático como un archivo python o un script bash se fusionan dentro del motor de template para producir el código final que será ejecutado. \n",
    "\n",
    "<center><img src=\"https://i.postimg.cc/ZKCyy6XR/a1002.png\"></center>\n",
    "\n",
    "En Airflow, para indicar un marcador de posición utilizamos 4 llaves como se muestra aquí. Esas llaves indican a Jinja que hay algo que interpolar aquí.  Una cosa que hay que tener en cuenta es que en Airflow no se puede templar todo.  Sólo algunos parámetros se pueden utilizar con templates como veremos en el próximo vídeo.  Para resumir, el uso de templates es un concepto realmente poderoso, ya que puedes insertar datos en tiempo de ejecución sin conocer el valor de antemano, lo que hace que tu código sea aún más dinámico.  Bien, hemos visto variables, templates, veamos la última parte que son las macros. \n",
    "\n",
    "___"
   ]
  },
  {
   "cell_type": "markdown",
   "metadata": {},
   "source": [
    "#### **`Macros`**\n",
    "\n",
    "<center><img src=\"https://i.postimg.cc/jSfwMtxY/a1003.png\"></center>\n",
    "\n",
    "Las macros son funciones predefinidas por Airflow. En realidad, Airflow le ofrece tanto macros predefinidas como variables que puede utilizar dentro de sus templates.  Son muy útiles ya que le permiten obtener información sobre el DAG o la tarea que se está ejecutando en ese momento, por ejemplo.  He aquí una lista no exhaustiva de estas macros y variables. \"ds\" te da la execution date en el siguiente formato de tu DAG. Esto puede ser usado en peticiones SQL o scripts bash basados en la execution date de tu DAG. \"prev_ds\" y \"next_ds\" te dan respectivamente la anterior y siguiente execution date del DAG. \"dag\", te devuelve el objeto dag. \"params\" son los parámetros que puedes definir en operadores específicos como veremos más adelante.  Y finalmente, la notación \"var. \", es como puedes acceder a las variables que hemos visto anteriormente en tus templates. Sé que puede ser difícil de entender todo, pero vamos a parar aquí para la parte teórica y vamos a ver un ejemplo de lo que hemos aprendido en el siguiente vídeo.    "
   ]
  }
 ],
 "metadata": {
  "language_info": {
   "name": "python"
  }
 },
 "nbformat": 4,
 "nbformat_minor": 2
}
