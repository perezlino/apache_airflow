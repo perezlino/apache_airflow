{
 "cells": [
  {
   "cell_type": "markdown",
   "metadata": {},
   "source": [
    "### **6.13 - [Practica] Trigger a DAG from another DAG**"
   ]
  },
  {
   "cell_type": "markdown",
   "metadata": {},
   "source": [
    "¿Cómo podemos activar un DAG desde otro DAG?  Vamos a descubrirlo en la práctica. Primero, abre tu editor de código y comprueba que estás en la carpeta airflow-materials/airflow-section-6. A continuación, abre el archivo \"triggerdagop_controller_dag.py\".  \n",
    "\n",
    "<center><img src=\"https://i.postimg.cc/VNZ6qW5v/a1063.png\"></center>\n",
    "<center><img src=\"https://i.postimg.cc/RF30XJnR/a1064.png\"></center>\n",
    "\n",
    "Este DAG se compone de dos tareas que son \"trigger_dag\" y \"last_task\". Así que vamos a centrarnos en \"trigger_dag\". Como puedes ver, tenemos los diferentes parámetros mostrados en el video anterior como \"trigger_dag_id\" con el dag id \"triggerdagop_target_dag\", \"provide_context\" se establece en \"True\" para proporcionar el contexto necesario para la función python callable \"conditionally_trigger\". Y, por último, \"params\" con dos pares clave-valor, \"condition_param\" y \"message\".  Muy bien. Si echamos un vistazo a la función \"conditionally_trigger\" dada por el Trigger DagRunOperator justo ahí, tenemos un nuevo parámetro llamado \"dag_run_object\".  Este parámetro es dado automáticamente por el TriggerDagRunOperator y corresponde a una clase simple compuesta por un **`run_id`** y un **`payload`**.  El **`payload`** permite enviar datos desde el DAG controlador al DAG target.  Eso es lo que puedes ver aquí. Al atributo payload se le asigna un diccionario con un mensaje de par clave-valor que tiene el valor dado desde el parámetro \"Hi from the controller\". Si el valor de \"condition_param\" es igual a \"true\" como muestra la condición aquí, entonces el \"dag_run_object\" es retornado y el \"triggerdagop_target_dag\" del DAG target es disparado.  De acuerdo, observe que en la futura versión de Airflow será mucho más fácil utilizar el TriggerDagRunOperator.  De hecho, no será necesario utilizar un \"dag_run_object\" para pasar el mensaje, ya que se ha añadido un parámetro llamado \"conf\".  También el parámetro \"provide_context\" será \"True\" por defecto, así que no necesitaremos definirlo más. No te preocupes, te daré una actualización una vez que esté fuera. Ok hemos visto el DAG controlador, echemos un vistazo al DAG target. Abre el archivo \"triggerdagop_target_dag.py\". \n",
    "\n",
    "<center><img src=\"https://i.postimg.cc/7P26z74P/a1065.png\"></center>\n",
    "\n",
    "Este DAG no tiene nada especial, tiene tres tareas donde la primera tarea se basa en el PythonOperator para imprimir el mensaje enviado desde el DAG controlador. Aquí, en la función \"remote_value\", accedemos al \"contexto de dag_run\" y obtenemos el valor de \"message\".  Hacemos lo mismo con los templates en la tarea t2 donde esta vez utilizamos el objeto predefinido \"dag_run\" y comprobamos si existe.  Si es así, se devuelve el valor de \"message\".  Por último, la tarea t3 ejecuta el comando sleep durante 30 segundos para mostrar que el DAG controlador terminará antes de que termine el DAGRun target.  Basta de explicaciones, vamos a disparar el DAG. Abre tu terminal, e inicia los contenedores docker de Airflow escribiendo \"docker-compose -f docker-compose-CeleryExecutor.yml up -d\".  Enter. Ahora, abra su navegador y vaya a la interfaz de usuario de Airflow. A partir de ahí, activa el toggle del DAG \"triggerdagop_target_dag\" en primer lugar, y luego activa el toggle del DAG \"triggerdagop_controller_dag\" en segundo lugar. ¿Por qué en este orden?  Porque como la start_date del DAG controlador es un día antes, se disparará tan pronto como empieces a programarlo (scheduling it) pero el DAG target todavía no estará programado para ejecutarse (scheduled to run). Ahora empieza a refrescar la página.  Como puedes ver ambos DAGs se están ejecutando, y si continuamos refrescando la página, en algún momento deberías ver que el DAG controlador ha finalizado mientras que el DAG target sigue ejecutándose. Como aquí.  Ok ambos DAGRuns han terminado, vamos a echar un vistazo a los logs del DAG target para comprobar si los datos enviados desde el controlador han sido recibidos.  Hacemos click en el DAG, \"t1\", \"View log\", y obtenemos la cadena \"Hi from the controller\" como era de esperar.  \n",
    "\n",
    "<center><img src=\"https://i.postimg.cc/k4kgZMQd/a1066.png\"></center>\n",
    "\n",
    "Bien, ¿Qué pasa con la tarea \"t2\"?  Y aquí obtenemos el mismo valor.  Perfecto.  \n",
    "\n",
    "<center><img src=\"https://i.postimg.cc/GtGm10KT/a1067.png\"></center>\n",
    "\n",
    "Así que después de este rápido video ahora eres capaz de disparar un DAG desde otro DAG, así como enviar datos desde el Dag controlador al DAG target sin usar XCOMs. Hay una cosa más que quiero mostrarte así que mantén todo en marcha y nos vemos en el próximo video.     "
   ]
  }
 ],
 "metadata": {
  "language_info": {
   "name": "python"
  }
 },
 "nbformat": 4,
 "nbformat_minor": 2
}
