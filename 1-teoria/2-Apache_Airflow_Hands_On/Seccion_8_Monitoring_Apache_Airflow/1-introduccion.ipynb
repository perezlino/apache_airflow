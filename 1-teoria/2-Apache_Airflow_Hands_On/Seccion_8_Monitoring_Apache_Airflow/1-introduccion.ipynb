{
 "cells": [
  {
   "cell_type": "markdown",
   "metadata": {},
   "source": [
    "### **8.1 - Introduccion**"
   ]
  },
  {
   "cell_type": "markdown",
   "metadata": {},
   "source": [
    "Monitoring your Airflow instance as well as your DAGs should be your top priority when you are in production.\n",
    "\n",
    "Without a monitoring system, you have no way to know if anything goes wrong,\n",
    "\n",
    "when and why.\n",
    "\n",
    "Basically, someday you will come at your office,\n",
    "\n",
    "you will receive a call telling you “this team didn’t get data in time, what happened?” and you would\n",
    "\n",
    "not be able to give an answer. Since Airflow is your orchestrator\n",
    "\n",
    "it can quickly become a masterpiece of your data architecture\n",
    "\n",
    "so it deserves a special attention. In this section\n",
    "\n",
    "I’m gonna show you how the logging system of Airflow works and how to customize it.\n",
    "\n",
    "Then we will start dealing with a remote storage like AWS S3.\n",
    "\n",
    "Next, we will discover how to store and read the logs from Elasticsearch with Airflow. Along with\n",
    "\n",
    "Elasticsearch, we will set up Filebeat, Logstash and Kibana in order to monitor our DAGs and create\n",
    "\n",
    "a dashboard based on the logs received. After using the ELK stack,\n",
    "\n",
    "we will learn how Airflow produces its metrics and what kind of metrics can we monitor. A TIG stack will\n",
    "\n",
    "will be set up where TIG stands for Telegraf, InfluxDB and Grafana. This stack will allow us to\n",
    "\n",
    "create a dashboard in order to build visualizations based on the metrics sent from Airflow and then\n",
    "\n",
    "we will create an alert to be warned if there is a problem using Grafana.\n",
    "\n",
    "Finally, the last video will be very useful if you are using Airflow in production and you want to keep your\n",
    "\n",
    "instance clean.\n",
    "\n",
    "So it’s a pretty dense section, but very interesting.\n",
    "\n",
    "So fasten your seatbelt and see you in the next video.\n"
   ]
  }
 ],
 "metadata": {
  "language_info": {
   "name": "python"
  }
 },
 "nbformat": 4,
 "nbformat_minor": 2
}
