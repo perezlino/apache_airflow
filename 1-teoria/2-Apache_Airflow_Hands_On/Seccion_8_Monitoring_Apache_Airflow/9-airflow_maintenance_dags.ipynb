{
 "cells": [
  {
   "cell_type": "markdown",
   "metadata": {},
   "source": [
    "### **8.9 - Airflow maintenance DAGs**"
   ]
  },
  {
   "cell_type": "markdown",
   "metadata": {},
   "source": [
    "In this short video I would like to share with you some DAGs created by Robert Sanders of Clairvoyant to help\n",
    "\n",
    "keeping Airflow working smoothly. From your web browser, type “https://github.com\n",
    "\n",
    "/teamclairvoyant\n",
    "\n",
    "/airflow-maintenance\n",
    "\n",
    "-dags.git”.\n",
    "\n",
    "Enter. This repository contains 5 DAGs that you may find useful.\n",
    "\n",
    "For example, log-cleanup is a maintenance workflow that will remove log files older than 30 days\n",
    "\n",
    "stored at the location you specified in the parameter base_log_folder.\n",
    "\n",
    "Notice that you can’t use it for remote storages like S3. If you click on the folder, just below\n",
    "\n",
    "you have the instructions to follow in order to configure and run it.\n",
    "\n",
    "It is pretty straightforward,\n",
    "\n",
    "there are just some global variables to define in the DAG as well as from the Airflow UI.\n",
    "\n",
    "You really should take a look at the DAG\n",
    "\n",
    "otherwise at some point, your disk can run out of space and be full of logs that you should either delete\n",
    "\n",
    "or store in AWS Glacier for example. Back to the other DAGs,\n",
    "\n",
    "take a look at the DAG db-cleanup, also very important.\n",
    "\n",
    "This DAG will periodically clean out the DagRun, TaskInstance, Log, XComs, Job DB and SlaMiss entries\n",
    "\n",
    "to avoid having too much data in the Airflow metastore. If you remember, I told you in the video about XComs\n",
    "\n",
    "that they are not removed automatically and so it is up to you to do the job.\n",
    "\n",
    "Well, here is a DAG that will be useful to make the task easier.\n",
    "\n",
    "Last but not least, kill-halted-tasks is a maintenance workflow that will kill lingering processes\n",
    "\n",
    "running in the background\n",
    "\n",
    "after you’ve killed off a running job in the Airflow UI.\n",
    "\n",
    "Indeed, when you kill off a DAGRun or Task through the UI, the task still runs in the background on\n",
    "\n",
    "one of the executors until the task is complete.\n",
    "\n",
    "This DAG will clean them. Don’t hesitate to take a look at the others as may find them useful\n",
    "\n",
    "as well.\n",
    "\n",
    "In my opinion, these three DAGs should exist and be triggered in any Airflow instance running in production.\n",
    "\n",
    "Maintaining your Airflow instance clean and stable should be your top priority since it is your orchestrator.\n",
    "\n",
    "So, be nice with it and wash it, time to time. By the way,\n",
    "\n",
    "I’m not gonna run them since the instructions are quite clear, nonetheless, if you struggle or want\n",
    "\n",
    "an example, please feel free to tell me in the Q/A section or send me a message.\n",
    "\n",
    "All right, take a quick break and see you in the next video.\n"
   ]
  }
 ],
 "metadata": {
  "language_info": {
   "name": "python"
  }
 },
 "nbformat": 4,
 "nbformat_minor": 2
}
