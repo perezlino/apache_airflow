{
 "cells": [
  {
   "cell_type": "markdown",
   "metadata": {},
   "source": [
    "### **2.2 - [Práctica] Quick tour of Airflow CLI**"
   ]
  },
  {
   "cell_type": "markdown",
   "metadata": {},
   "source": [
    "#### **`docker ps`**\n",
    "\n",
    "Lo ejecutamos dentro de la carpeta donde tenemos nuestra instancia de airflow creada:\n",
    "\n",
    "<center><img src=\"https://i.postimg.cc/C55BH3BF/a541.png\"></center>"
   ]
  },
  {
   "cell_type": "markdown",
   "metadata": {},
   "source": [
    "#### **`docker exec -it conteiner_id /bin/bash`**\n",
    "\n",
    "Para ingresar dentro del contenedor:\n",
    "\n",
    "<center><img src=\"https://i.postimg.cc/PfV8r59N/a542.png\"></center>"
   ]
  },
  {
   "cell_type": "markdown",
   "metadata": {},
   "source": [
    "#### **`airflow tasks test dag_id task_id past execution date `**\n",
    "\n",
    "Comando para testear una tarea. Esto lo hacemos dentro del contenedor donde tenemos nuestro DAG. Al ejecutar ese comando, se va a verificar que la tarea funciona sin almacenar ningún estado en los metadatos de Airflow y sin probar las dependencias con otras tareas.\n",
    "\n",
    "<center><img src=\"https://i.postimg.cc/ZnQ9fwp6/a543.png\"></center>"
   ]
  }
 ],
 "metadata": {
  "language_info": {
   "name": "python"
  }
 },
 "nbformat": 4,
 "nbformat_minor": 2
}
