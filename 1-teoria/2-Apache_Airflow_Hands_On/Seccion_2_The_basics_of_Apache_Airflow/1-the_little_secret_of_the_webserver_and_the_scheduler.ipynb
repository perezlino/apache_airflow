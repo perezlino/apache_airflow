{
 "cells": [
  {
   "cell_type": "markdown",
   "metadata": {},
   "source": [
    "### **1.1 - The little secret of the webserver and the scheduler**"
   ]
  },
  {
   "cell_type": "markdown",
   "metadata": {},
   "source": [
    "#### **`El pequeño secreto del Web server y del Scheduler`**\n",
    "\n",
    "Cuando utilicé Airflow por primera vez, ¡estaba realmente contento!\n",
    "\n",
    "Mi DAG estaba listo (hermoso código), lo puse en la carpeta DAGs, Airflow se estaba ejecutando, compruebo el Web server y el Scheduler, todo estaba funcionando perfectamente, refresco la página para ver mi DAG y...\n",
    "\n",
    "¡NADA!\n",
    "\n",
    "Ni rastro de mi DAG. Lo peor es que puedo predecir que a ti también te pasará. ¿A qué se debe esto? ¿Hay alguna manera de arreglar esto? Bueno, en el video anterior, aprendiste que tanto el webserver como el scheduler analizan tus DAGs. Puedes configurar este proceso de análisis con diferentes opciones de configuración.\n"
   ]
  },
  {
   "cell_type": "markdown",
   "metadata": {},
   "source": [
    "#### **`Con el Scheduler:`**\n",
    "\n",
    "**min_file_process_interval**\n",
    "\n",
    "Número de segundos tras los cuales se analiza un archivo DAG. El archivo DAG se analiza cada every min_file_process_interval number of seconds. Las actualizaciones de los DAGs se reflejan después de este intervalo.\n",
    "\n",
    "**dag_dir_list_interval**\n",
    "\n",
    "La frecuencia (en segundos) con la que se analiza el directorio de los DAGs en busca de nuevos archivos. Por defecto son 5 minutos.\n",
    "\n",
    "Estos 2 ajustes le indican que tiene que esperar hasta 5 minutos antes de que su DAG sea detectado por el scheduler y luego es analizado cada 30 segundos por defecto."
   ]
  },
  {
   "cell_type": "markdown",
   "metadata": {},
   "source": [
    "#### **`Con el webserver:`**\n",
    "\n",
    "**worker_refresh_interval**\n",
    "\n",
    "Número de segundos a esperar antes de refrescar un lote (batch) de workers. 30 segundos por defecto.\n",
    "\n",
    "Esta configuración le dice que cada 30 segundos, el web server analiza si hay nuevos DAG en su carpeta DAG.\n",
    "\n",
    "Así que, volviendo a mi problema, tuve que esperar 5 minutos antes de tener mi DAG listo para ser disparado y luego me alivié 😀 ."
   ]
  },
  {
   "cell_type": "markdown",
   "metadata": {},
   "source": [
    "#### **`Recuerda`**\n",
    "\n",
    "Por defecto, cuando añades un nuevo DAG tendrás que esperar hasta 5 minutos antes de tener tu DAG en la UI y luego si lo modificas, tendrás que esperar hasta 30 segundos antes de tener tu DAG actualizado.\n",
    "\n",
    "Nunca más te sorprenderás 😎"
   ]
  }
 ],
 "metadata": {
  "language_info": {
   "name": "python"
  }
 },
 "nbformat": 4,
 "nbformat_minor": 2
}
